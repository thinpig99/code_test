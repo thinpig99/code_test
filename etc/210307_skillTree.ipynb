{
 "cells": [
  {
   "cell_type": "markdown",
   "id": "advanced-television",
   "metadata": {},
   "source": [
    "# 코딩 테스트 연습 > 스킬트리"
   ]
  },
  {
   "cell_type": "markdown",
   "id": "female-broadcast",
   "metadata": {},
   "source": [
    "## 문제 설명\n",
    "선행 스킬이란 어떤 스킬을 배우기 전에 먼저 배워야 하는 스킬을 뜻합니다.\n",
    "\n",
    "예를 들어 선행 스킬 순서가 스파크 → 라이트닝 볼트 → 썬더일때, 썬더를 배우려면 먼저 라이트닝 볼트를 배워야 하고, 라이트닝 볼트를 배우려면 먼저 스파크를 배워야 합니다.\n",
    "\n",
    "위 순서에 없는 다른 스킬(힐링 등)은 순서에 상관없이 배울 수 있습니다. 따라서 스파크 → 힐링 → 라이트닝 볼트 → 썬더와 같은 스킬트리는 가능하지만, 썬더 → 스파크나 라이트닝 볼트 → 스파크 → 힐링 → 썬더와 같은 스킬트리는 불가능합니다.\n",
    "\n",
    "선행 스킬 순서 skill과 유저들이 만든 스킬트리1를 담은 배열 skill_trees가 매개변수로 주어질 때, 가능한 스킬트리 개수를 return 하는 solution 함수를 작성해주세요."
   ]
  },
  {
   "cell_type": "markdown",
   "id": "aware-monte",
   "metadata": {},
   "source": [
    "## 제한 조건\n",
    "- 스킬은 알파벳 대문자로 표기하며, 모든 문자열은 알파벳 대문자로만 이루어져 있습니다.\n",
    "- 스킬 순서와 스킬트리는 문자열로 표기합니다.\n",
    "    - 예를 들어, C → B → D 라면 \"CBD\"로 표기합니다\n",
    "- 선행 스킬 순서 skill의 길이는 1 이상 26 이하이며, 스킬은 중복해 주어지지 않습니다.\n",
    "- skill_trees는 길이 1 이상 20 이하인 배열입니다.\n",
    "- skill_trees의 원소는 스킬을 나타내는 문자열입니다.\n",
    "    - skill_trees의 원소는 길이가 2 이상 26 이하인 문자열이며, 스킬이 중복해 주어지지 않습니다."
   ]
  },
  {
   "cell_type": "markdown",
   "id": "aerial-summer",
   "metadata": {},
   "source": [
    "## 입출력 예\n",
    "|skill|\tskill_trees|\treturn|\n",
    "|---|---|---|\n",
    "|\"CBD\"|\t[\"BACDE\", \"CBADF\", \"AECB\", \"BDA\"]|2|"
   ]
  },
  {
   "cell_type": "markdown",
   "id": "hydraulic-malaysia",
   "metadata": {},
   "source": [
    "## 입출력 예 설명\n",
    "- \"BACDE\": B 스킬을 배우기 전에 C 스킬을 먼저 배워야 합니다. 불가능한 스킬트립니다.\n",
    "- \"CBADF\": 가능한 스킬트리입니다.\n",
    "- \"AECB\": 가능한 스킬트리입니다.\n",
    "- \"BDA\": B 스킬을 배우기 전에 C 스킬을 먼저 배워야 합니다. 불가능한 스킬트리입니다."
   ]
  },
  {
   "cell_type": "markdown",
   "id": "lovely-david",
   "metadata": {},
   "source": [
    "### 아이디어"
   ]
  },
  {
   "cell_type": "markdown",
   "id": "banned-bargain",
   "metadata": {},
   "source": [
    "1. skill_trees 에서 skill을 제외한 것들을 모두 제거.\n",
    "2. skill의 가능한 트리를 모두 비교하여 포함되면 cnt +=1"
   ]
  },
  {
   "cell_type": "code",
   "execution_count": 4,
   "id": "unique-employee",
   "metadata": {},
   "outputs": [],
   "source": [
    "import numpy as np"
   ]
  },
  {
   "cell_type": "code",
   "execution_count": 1,
   "id": "seeing-tattoo",
   "metadata": {},
   "outputs": [],
   "source": [
    "skill = \"CBD\"\n",
    "skill_trees = [\"BACDE\", \"CBADF\", \"AECB\", \"BDA\"]"
   ]
  },
  {
   "cell_type": "code",
   "execution_count": 3,
   "id": "ongoing-apartment",
   "metadata": {},
   "outputs": [
    {
     "data": {
      "text/plain": [
       "'CBD'"
      ]
     },
     "execution_count": 3,
     "metadata": {},
     "output_type": "execute_result"
    }
   ],
   "source": [
    "skill[:3]"
   ]
  },
  {
   "cell_type": "code",
   "execution_count": 33,
   "id": "celtic-civilization",
   "metadata": {},
   "outputs": [
    {
     "name": "stdout",
     "output_type": "stream",
     "text": [
      "i, t is:  0 BACDE\n",
      "k, j is:  0 B\n",
      "k, j is:  1 A\n",
      "k, j is:  2 C\n",
      "k, j is:  3 D\n",
      "k, j is:  4 E\n",
      "i, t is:  1 CBADF\n",
      "k, j is:  0 C\n",
      "k, j is:  1 B\n",
      "k, j is:  2 A\n",
      "k, j is:  3 D\n",
      "k, j is:  4 F\n",
      "i, t is:  2 AECB\n",
      "k, j is:  0 A\n",
      "k, j is:  1 E\n",
      "k, j is:  2 C\n",
      "k, j is:  3 B\n",
      "i, t is:  3 BDA\n",
      "k, j is:  0 B\n",
      "k, j is:  1 D\n",
      "k, j is:  2 A\n"
     ]
    }
   ],
   "source": [
    "for i, t in enumerate(skill_trees):\n",
    "    print('i, t is: ', i, t)\n",
    "    for k, j in enumerate(t):\n",
    "        print('k, j is: ', k, j)\n",
    "        if j not in (skill):\n",
    "            skill_trees[i] = skill_trees[i].replace(j, '')\n",
    "        else:\n",
    "            pass"
   ]
  },
  {
   "cell_type": "code",
   "execution_count": 34,
   "id": "aboriginal-airline",
   "metadata": {},
   "outputs": [
    {
     "data": {
      "text/plain": [
       "['BCD', 'CBD', 'CB', 'BD']"
      ]
     },
     "execution_count": 34,
     "metadata": {},
     "output_type": "execute_result"
    }
   ],
   "source": [
    "skill_trees"
   ]
  },
  {
   "cell_type": "code",
   "execution_count": 39,
   "id": "adjusted-charlotte",
   "metadata": {},
   "outputs": [],
   "source": [
    "cnt = 0\n",
    "for m in skill_trees:\n",
    "    for n in range(len(skill) + 1):\n",
    "        if m == skill[:n]:\n",
    "            cnt += 1"
   ]
  },
  {
   "cell_type": "code",
   "execution_count": 40,
   "id": "mobile-sydney",
   "metadata": {},
   "outputs": [
    {
     "data": {
      "text/plain": [
       "2"
      ]
     },
     "execution_count": 40,
     "metadata": {},
     "output_type": "execute_result"
    }
   ],
   "source": [
    "cnt"
   ]
  }
 ],
 "metadata": {
  "kernelspec": {
   "display_name": "Python 3",
   "language": "python",
   "name": "python3"
  },
  "language_info": {
   "codemirror_mode": {
    "name": "ipython",
    "version": 3
   },
   "file_extension": ".py",
   "mimetype": "text/x-python",
   "name": "python",
   "nbconvert_exporter": "python",
   "pygments_lexer": "ipython3",
   "version": "3.8.6"
  }
 },
 "nbformat": 4,
 "nbformat_minor": 5
}
