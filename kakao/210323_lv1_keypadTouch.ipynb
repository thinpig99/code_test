{
 "cells": [
  {
   "cell_type": "markdown",
   "id": "substantial-seating",
   "metadata": {},
   "source": [
    "# 코딩 테스트 연습 > 카카오 > 키패드 누르기"
   ]
  },
  {
   "cell_type": "markdown",
   "id": "stone-bibliography",
   "metadata": {},
   "source": [
    "## 문제 설명\n",
    "스마트폰 전화 키패드의 각 칸에 다음과 같이 숫자들이 적혀 있습니다."
   ]
  },
  {
   "cell_type": "markdown",
   "id": "worth-repository",
   "metadata": {},
   "source": [
    "|-|-|-|\n",
    "|---|---|---|\n",
    "|1|2|3|\n",
    "|4|5|6|\n",
    "|7|8|9|\n",
    "|*|0|#|"
   ]
  },
  {
   "cell_type": "markdown",
   "id": "structural-float",
   "metadata": {},
   "source": [
    "이 전화 키패드에서 왼손과 오른손의 엄지손가락만을 이용해서 숫자만을 입력하려고 합니다.\n",
    "맨 처음 왼손 엄지손가락은 * 키패드에 오른손 엄지손가락은 # 키패드 위치에서 시작하며, 엄지손가락을 사용하는 규칙은 다음과 같습니다.\n",
    "\n",
    "1. 엄지손가락은 상하좌우 4가지 방향으로만 이동할 수 있으며 키패드 이동 한 칸은 거리로 1에 해당합니다.\n",
    "2. 왼쪽 열의 3개의 숫자 1, 4, 7을 입력할 때는 왼손 엄지손가락을 사용합니다.\n",
    "3. 오른쪽 열의 3개의 숫자 3, 6, 9를 입력할 때는 오른손 엄지손가락을 사용합니다.\n",
    "4. 가운데 열의 4개의 숫자 2, 5, 8, 0을 입력할 때는 두 엄지손가락의 현재 키패드의 위치에서 더 가까운 엄지손가락을 사용합니다.\n",
    "   - 4-1. 만약 두 엄지손가락의 거리가 같다면, 오른손잡이는 오른손 엄지손가락, 왼손잡이는 왼손 엄지손가락을 사용합니다.\n",
    "\n",
    "순서대로 누를 번호가 담긴 배열 numbers, 왼손잡이인지 오른손잡이인 지를 나타내는 문자열 hand가 매개변수로 주어질 때, 각 번호를 누른 엄지손가락이 왼손인 지 오른손인 지를 나타내는 연속된 문자열 형태로 return 하도록 solution 함수를 완성해주세요."
   ]
  },
  {
   "cell_type": "markdown",
   "id": "dangerous-public",
   "metadata": {},
   "source": [
    "## [제한사항]\n",
    "- numbers 배열의 크기는 1 이상 1,000 이하입니다.\n",
    "- numbers 배열 원소의 값은 0 이상 9 이하인 정수입니다.\n",
    "- hand는 \"left\" 또는 \"right\" 입니다.\n",
    "    - \"left\"는 왼손잡이, \"right\"는 오른손잡이를 의미합니다.\n",
    "- 왼손 엄지손가락을 사용한 경우는 L, 오른손 엄지손가락을 사용한 경우는 R을 순서대로 이어붙여 문자열 형태로 return 해주세요.\n"
   ]
  },
  {
   "cell_type": "markdown",
   "id": "permanent-production",
   "metadata": {},
   "source": [
    "## 입출력 예\n",
    "|numbers|\thand|\tresult|\n",
    "|---|---|---|\n",
    "|[1, 3, 4, 5, 8, 2, 1, 4, 5, 9, 5]|\t\"right\"|\t\"LRLLLRLLRRL\"|\n",
    "|[7, 0, 8, 2, 8, 3, 1, 5, 7, 6, 2]|\t\"left\"|\t\"LRLLRRLLLRR\"|\n",
    "|[1, 2, 3, 4, 5, 6, 7, 8, 9, 0]\t|\"right\"|\t\"LLRLLRLLRL\"|"
   ]
  },
  {
   "cell_type": "code",
   "execution_count": 198,
   "id": "corrected-investor",
   "metadata": {},
   "outputs": [],
   "source": [
    "def solution(numbers, hand):\n",
    "    answer = ''\n",
    "    return answer"
   ]
  },
  {
   "cell_type": "code",
   "execution_count": 224,
   "id": "fuzzy-generation",
   "metadata": {},
   "outputs": [],
   "source": [
    "numbers = [2, 3, 4, 5, 8, 2, 1, 4, 5, 9, 5]\n",
    "hand = 'right'"
   ]
  },
  {
   "cell_type": "code",
   "execution_count": 225,
   "id": "sustained-robertson",
   "metadata": {},
   "outputs": [],
   "source": [
    "left = []\n",
    "right = []\n",
    "res = []\n",
    "for n in numbers:\n",
    "    if hand == 'left':\n",
    "        if n in [2, 5, 8]:\n",
    "            if not right:\n",
    "                res.append('L')\n",
    "                left.append(n)\n",
    "                continue\n",
    "            elif not left:\n",
    "                res.append('R')\n",
    "                right.append(n)\n",
    "                continue\n",
    "            else:\n",
    "                if right[-1] - n < n - left[-1]:\n",
    "                    res.append('R')\n",
    "                    right.append(n)\n",
    "                    continue\n",
    "                else:\n",
    "                    res.append('L')\n",
    "                    left.append(n)\n",
    "                    continue\n",
    "        if n in [1, 4, 7]:\n",
    "            res.append('L')\n",
    "            left.append(n)\n",
    "            continue\n",
    "        elif n in [3, 6, 9]:\n",
    "            res.append('R')\n",
    "            right.append(n)\n",
    "            continue\n",
    "    else:\n",
    "        if n in [2, 5, 8]:\n",
    "            if not right:\n",
    "                res.append('L')\n",
    "                left.append(n)\n",
    "                continue\n",
    "            elif not left:\n",
    "                res.append('R')\n",
    "                right.append(n)\n",
    "                continue\n",
    "            else:\n",
    "                if right[-1] - n > n - left[-1]:\n",
    "                    res.append('L')\n",
    "                    left.append(n)\n",
    "                    continue\n",
    "                else:\n",
    "                    res.append('R')\n",
    "                    right.append(n)\n",
    "                    continue\n",
    "        if n in [1, 4, 7]:\n",
    "            res.append('L')\n",
    "            left.append(n)\n",
    "            continue\n",
    "        elif n in [3, 6, 9]:\n",
    "            res.append('R')\n",
    "            right.append(n)\n",
    "            continue"
   ]
  },
  {
   "cell_type": "code",
   "execution_count": 226,
   "id": "median-split",
   "metadata": {},
   "outputs": [
    {
     "data": {
      "text/plain": [
       "['R', 'R', 'L', 'R', 'R', 'L', 'L', 'L', 'R', 'R', 'L']"
      ]
     },
     "execution_count": 226,
     "metadata": {},
     "output_type": "execute_result"
    }
   ],
   "source": [
    "res"
   ]
  },
  {
   "cell_type": "code",
   "execution_count": 223,
   "id": "convenient-dress",
   "metadata": {},
   "outputs": [
    {
     "data": {
      "text/plain": [
       "'LRLRRLLLRRL'"
      ]
     },
     "execution_count": 223,
     "metadata": {},
     "output_type": "execute_result"
    }
   ],
   "source": [
    "''.join(res)"
   ]
  },
  {
   "cell_type": "code",
   "execution_count": 227,
   "id": "norwegian-separation",
   "metadata": {},
   "outputs": [],
   "source": [
    "numbers = [2, 3, 4, 5, 8, 2, 1, 4, 5, 9, 5]\n",
    "hand = 'right'"
   ]
  },
  {
   "cell_type": "code",
   "execution_count": 231,
   "id": "yellow-sister",
   "metadata": {},
   "outputs": [
    {
     "name": "stdout",
     "output_type": "stream",
     "text": [
      "right appended:  3 ['R'] [3]\n",
      "left appended:  4 ['R', 'L'] [4]\n",
      "left appended:  1 ['R', 'L', 'L'] [4, 1]\n",
      "left appended:  4 ['R', 'L', 'L', 'L'] [4, 1, 4]\n",
      "right appended:  9 ['R', 'L', 'L', 'L', 'R'] [3, 9]\n"
     ]
    }
   ],
   "source": [
    "left = []\n",
    "right = []\n",
    "res = []\n",
    "for n in numbers:\n",
    "    if n in [1, 4, 7]:\n",
    "        res.append('L')\n",
    "        left.append(n)\n",
    "        print('left appended: ',n , res, left)\n",
    "        continue\n",
    "    elif n in [3, 6, 9]:\n",
    "        res.append('R')\n",
    "        right.append(n)\n",
    "        print('right appended: ', n, res, right)\n",
    "        continue\n",
    "    else: # 가운데 2 5 8 0 가 들어간다.\n",
    "        if hand == 'left': # 왼손잡이다. 그럼 우선권이 있다.\n",
    "            if not left: \n",
    "                pass\n",
    "            else:\n",
    "                pass\n",
    "        else:\n",
    "            if not right:\n",
    "                pass\n",
    "            else:\n",
    "                pass"
   ]
  },
  {
   "cell_type": "code",
   "execution_count": 229,
   "id": "crazy-blast",
   "metadata": {},
   "outputs": [
    {
     "data": {
      "text/plain": [
       "['R', 'L', 'L', 'L', 'R']"
      ]
     },
     "execution_count": 229,
     "metadata": {},
     "output_type": "execute_result"
    }
   ],
   "source": [
    "res"
   ]
  },
  {
   "cell_type": "markdown",
   "id": "funded-driver",
   "metadata": {},
   "source": [
    "### 뉴아이디어\n",
    "\n",
    "로직을 다시 짜보자.\n",
    "\n",
    "- 1, 4, 7은 무조건 왼손이 누른다.\n",
    "- 3, 6, 9는 무조건 오른손이 누른다.\n",
    "- 2, 5, 8, 0 은 가까운 손이 누른다.\n",
    "    - 거리가 가까우면 주손이 누른다.\n",
    "    \n",
    "필요한 것은 번호들 간의 거리와 현재 손이 있는 위치다.\n",
    "\n",
    "어레이 좌표를 통해서 거리를 계산하겠다.\n",
    "\n",
    "|1-4-7 / 3-6-9|2-5-8-0|\n",
    "|---|---|\n",
    "|(0,0)|(0,1)|\n",
    "|(1,0)|(1,1)|\n",
    "|(2,0)|(2,1)|\n",
    "|(3,0)|(3,1)|\n",
    "\n",
    "엘리먼트 와이즈로 각 항을 빼고 더해주면 거리가 나온다. 좌우는 같은 좌표를 가진다."
   ]
  },
  {
   "cell_type": "code",
   "execution_count": 46,
   "id": "visible-shoot",
   "metadata": {},
   "outputs": [],
   "source": [
    "numbers = [7, 0, 8, 2, 8, 3, 1, 5, 7, 6, 2]\n",
    "hand = \"left\"\n",
    "result = \"LRLLRRLLLRR\""
   ]
  },
  {
   "cell_type": "code",
   "execution_count": 56,
   "id": "central-cherry",
   "metadata": {},
   "outputs": [],
   "source": [
    "numbers = [1, 3, 4, 5, 8, 2, 1, 4, 5, 9, 5]\n",
    "hand = \"right\"\n",
    "result = \"LRLLLRLLRRL\""
   ]
  },
  {
   "cell_type": "code",
   "execution_count": 76,
   "id": "adult-vanilla",
   "metadata": {},
   "outputs": [],
   "source": [
    "def solution(numbers, hand):\n",
    "    import numpy as np\n",
    "    # 먼저 손의 위치를 지정한다.\n",
    "    left_loc = [3, 0]\n",
    "    right_loc = [3, 0]\n",
    "\n",
    "    # 좌표 값을 지정해줍니다.\n",
    "    all_loc = {1: [0, 0], 2: [0, 1], 3: [0, 0],\n",
    "               4: [1, 0], 5: [1, 1], 6: [1, 0],\n",
    "               7: [2, 0], 8: [2, 1], 9: [2, 0],\n",
    "                          0: [3, 1]}\n",
    "\n",
    "    # 아웃풋을 설정한다.\n",
    "    touch_list = []\n",
    "    \n",
    "    for n in numbers:\n",
    "        if n in (1, 4, 7): # 무조건 왼손\n",
    "            print('target_number and loc: ', n, all_loc[n])\n",
    "            print('left_loc: ', left_loc)\n",
    "            print('right_loc: ', right_loc)\n",
    "            left_loc = all_loc[n]\n",
    "            touch_list.append('L')\n",
    "            print('touch_list', touch_list)\n",
    "            \n",
    "        elif n in (3, 6, 9): # 무조건 오른손\n",
    "            print('target_number and loc: ', n, all_loc[n])\n",
    "            print('left_loc: ', left_loc)\n",
    "            print('right_loc: ', right_loc)\n",
    "            right_loc = all_loc[n]\n",
    "            touch_list.append('R')\n",
    "            print('touch_list', touch_list)\n",
    "            \n",
    "        else: # 2, 5, 8, 0 은 좌표값의 절대값 계산을 통해 거리를 비교해준다.\n",
    "            if sum(abs(np.array(all_loc[n]) - np.array(left_loc))) == sum(abs(np.array(all_loc[n]) - np.array(right_loc))):\n",
    "                if hand == 'right':  \n",
    "                    print('target_number and loc: ', n, all_loc[n])\n",
    "                    print('left_loc: ', left_loc)\n",
    "                    print('right_loc: ', right_loc)\n",
    "                    right_loc = all_loc[n]\n",
    "                    touch_list.append('R')\n",
    "                    print('touch_list', touch_list)\n",
    "                    \n",
    "                else:\n",
    "                    print('target_number and loc: ', n, all_loc[n])\n",
    "                    print('left_loc: ', left_loc)\n",
    "                    print('right_loc: ', right_loc)\n",
    "                    left_loc = all_loc[n]\n",
    "                    touch_list.append('L')\n",
    "                    print('touch_list', touch_list)\n",
    "                    \n",
    "            elif sum(abs(np.array(all_loc[n]) - np.array(left_loc))) > sum(abs(np.array(all_loc[n]) - np.array(right_loc))): # 왼손이 더 멀다.\n",
    "                print('target_number and loc: ', n, all_loc[n])\n",
    "                print('left_loc: ', left_loc)\n",
    "                print('right_loc: ', right_loc)\n",
    "                right_loc = all_loc[n]\n",
    "                touch_list.append('R')\n",
    "                print('touch_list', touch_list)\n",
    "            else:\n",
    "                print('target_number and loc: ', n, all_loc[n])\n",
    "                print('left_loc: ', left_loc)\n",
    "                print('right_loc: ', right_loc)\n",
    "                left_loc = all_loc[n]\n",
    "                touch_list.append('L')\n",
    "                print('touch_list', touch_list)\n",
    "    return ''.join(touch_list)"
   ]
  },
  {
   "cell_type": "code",
   "execution_count": 77,
   "id": "searching-might",
   "metadata": {},
   "outputs": [
    {
     "name": "stdout",
     "output_type": "stream",
     "text": [
      "target_number and loc:  1 [0, 0]\n",
      "left_loc:  [3, 0]\n",
      "right_loc:  [3, 0]\n",
      "touch_list ['L']\n",
      "target_number and loc:  3 [0, 0]\n",
      "left_loc:  [0, 0]\n",
      "right_loc:  [3, 0]\n",
      "touch_list ['L', 'R']\n",
      "target_number and loc:  4 [1, 0]\n",
      "left_loc:  [0, 0]\n",
      "right_loc:  [0, 0]\n",
      "touch_list ['L', 'R', 'L']\n",
      "target_number and loc:  5 [1, 1]\n",
      "left_loc:  [1, 0]\n",
      "right_loc:  [0, 0]\n",
      "touch_list ['L', 'R', 'L', 'L']\n",
      "target_number and loc:  8 [2, 1]\n",
      "left_loc:  [1, 1]\n",
      "right_loc:  [0, 0]\n",
      "touch_list ['L', 'R', 'L', 'L', 'L']\n",
      "target_number and loc:  2 [0, 1]\n",
      "left_loc:  [2, 1]\n",
      "right_loc:  [0, 0]\n",
      "touch_list ['L', 'R', 'L', 'L', 'L', 'R']\n",
      "target_number and loc:  1 [0, 0]\n",
      "left_loc:  [2, 1]\n",
      "right_loc:  [0, 1]\n",
      "touch_list ['L', 'R', 'L', 'L', 'L', 'R', 'L']\n",
      "target_number and loc:  4 [1, 0]\n",
      "left_loc:  [0, 0]\n",
      "right_loc:  [0, 1]\n",
      "touch_list ['L', 'R', 'L', 'L', 'L', 'R', 'L', 'L']\n",
      "target_number and loc:  5 [1, 1]\n",
      "left_loc:  [1, 0]\n",
      "right_loc:  [0, 1]\n",
      "touch_list ['L', 'R', 'L', 'L', 'L', 'R', 'L', 'L', 'R']\n",
      "target_number and loc:  9 [2, 0]\n",
      "left_loc:  [1, 0]\n",
      "right_loc:  [1, 1]\n",
      "touch_list ['L', 'R', 'L', 'L', 'L', 'R', 'L', 'L', 'R', 'R']\n",
      "target_number and loc:  5 [1, 1]\n",
      "left_loc:  [1, 0]\n",
      "right_loc:  [2, 0]\n",
      "touch_list ['L', 'R', 'L', 'L', 'L', 'R', 'L', 'L', 'R', 'R', 'L']\n"
     ]
    },
    {
     "data": {
      "text/plain": [
       "'LRLLLRLLRRL'"
      ]
     },
     "execution_count": 77,
     "metadata": {},
     "output_type": "execute_result"
    }
   ],
   "source": [
    "solution(numbers, hand)"
   ]
  },
  {
   "cell_type": "code",
   "execution_count": null,
   "id": "surrounded-doctor",
   "metadata": {},
   "outputs": [],
   "source": []
  }
 ],
 "metadata": {
  "kernelspec": {
   "display_name": "Python 3",
   "language": "python",
   "name": "python3"
  },
  "language_info": {
   "codemirror_mode": {
    "name": "ipython",
    "version": 3
   },
   "file_extension": ".py",
   "mimetype": "text/x-python",
   "name": "python",
   "nbconvert_exporter": "python",
   "pygments_lexer": "ipython3",
   "version": "3.8.8"
  }
 },
 "nbformat": 4,
 "nbformat_minor": 5
}
