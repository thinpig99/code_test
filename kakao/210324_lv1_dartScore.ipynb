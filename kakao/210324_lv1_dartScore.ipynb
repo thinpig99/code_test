{
 "cells": [
  {
   "cell_type": "markdown",
   "id": "lined-oracle",
   "metadata": {},
   "source": [
    "# 코딩 테스트 연습 > 카카오 > 다트 게임"
   ]
  },
  {
   "cell_type": "markdown",
   "id": "prospective-duncan",
   "metadata": {},
   "source": [
    "## 문제 설명\n",
    "\n",
    "카카오톡 게임별의 하반기 신규 서비스로 다트 게임을 출시하기로 했다. 다트 게임은 다트판에 다트를 세 차례 던져 그 점수의 합계로 실력을 겨루는 게임으로, 모두가 간단히 즐길 수 있다.\n",
    "갓 입사한 무지는 코딩 실력을 인정받아 게임의 핵심 부분인 점수 계산 로직을 맡게 되었다. 다트 게임의 점수 계산 로직은 아래와 같다.\n",
    "\n",
    "1. 다트 게임은 총 3번의 기회로 구성된다.\n",
    "2. 각 기회마다 얻을 수 있는 점수는 0점에서 10점까지이다.\n",
    "3. 점수와 함께 Single(S), Double(D), Triple(T) 영역이 존재하고 각 영역 당첨 시 점수에서 1제곱, 2제곱, 3제곱 (점수1 , 점수2 , 점수3 )으로 계산된다.\n",
    "4. 옵션으로 스타상(*) , 아차상(#)이 존재하며 스타상(*) 당첨 시 해당 점수와 바로 전에 얻은 점수를 각 2배로 만든다. 아차상(#) 당첨 시 해당 점수는 마이너스된다.\n",
    "5. 스타상(*)은 첫 번째 기회에서도 나올 수 있다. 이 경우 첫 번째 스타상(*)의 점수만 2배가 된다. (예제 4번 참고)\n",
    "6. 스타상(*)의 효과는 다른 스타상(*)의 효과와 중첩될 수 있다. 이 경우 중첩된 스타상(*) 점수는 4배가 된다. (예제 4번 참고)\n",
    "7. 스타상(*)의 효과는 아차상(#)의 효과와 중첩될 수 있다. 이 경우 중첩된 아차상(#)의 점수는 -2배가 된다. (예제 5번 참고)\n",
    "8. Single(S), Double(D), Triple(T)은 점수마다 하나씩 존재한다.\n",
    "9. 스타상(*), 아차상(#)은 점수마다 둘 중 하나만 존재할 수 있으며, 존재하지 않을 수도 있다.\n",
    "\n",
    "0~10의 정수와 문자 S, D, T, *, #로 구성된 문자열이 입력될 시 총점수를 반환하는 함수를 작성하라."
   ]
  },
  {
   "cell_type": "markdown",
   "id": "higher-midnight",
   "metadata": {},
   "source": [
    "## 입력 형식\n",
    "\"점수|보너스|[옵션]\"으로 이루어진 문자열 3세트.\n",
    "\n",
    "\n",
    "예) 1S2D*3T\n",
    "\n",
    "- 점수는 0에서 10 사이의 정수이다.\n",
    "- 보너스는 S, D, T 중 하나이다.\n",
    "- 옵선은 *이나 # 중 하나이며, 없을 수도 있다."
   ]
  },
  {
   "cell_type": "markdown",
   "id": "collaborative-denmark",
   "metadata": {},
   "source": [
    "## 출력 형식\n",
    "3번의 기회에서 얻은 점수 합계에 해당하는 정수값을 출력한다.\n",
    "\n",
    "예) 37"
   ]
  },
  {
   "cell_type": "markdown",
   "id": "blank-model",
   "metadata": {},
   "source": [
    "## 입출력 예제\n",
    "|예제|\tdartResult|\tanswer|\t설명|\n",
    "|---|---|---|---|\n",
    "|1|\t1S2D*3T\t|37\t|11 * 2 + 22 * 2 + 33|\n",
    "|2|\t1D2S#10S\t|9|\t12 + 21 * (-1) + 101|\n",
    "|3|\t1D2S0T|\t3|\t12 + 21 + 03|\n",
    "|4|\t1S*2T*3S|\t23|\t11 * 2 * 2 + 23 * 2 + 31|\n",
    "|5|\t1D#2S*3S|\t5|\t12 * (-1) * 2 + 21 * 2 + 31|\n",
    "|6|\t1T2D3D#\t|-4|\t13 + 22 + 32 * (-1)|\n",
    "|7|\t1D2S3T*\t|59\t|12 + 21 * 2 + 33 * 2|"
   ]
  },
  {
   "cell_type": "code",
   "execution_count": 1,
   "id": "considered-canal",
   "metadata": {},
   "outputs": [],
   "source": [
    "dartResult = '10T#0D#9D*'"
   ]
  },
  {
   "cell_type": "code",
   "execution_count": 140,
   "id": "maritime-foster",
   "metadata": {},
   "outputs": [
    {
     "data": {
      "text/plain": [
       "['1', '0', 'T', '#', '0', 'D', '#', '9', 'D', '*']"
      ]
     },
     "execution_count": 140,
     "metadata": {},
     "output_type": "execute_result"
    }
   ],
   "source": [
    "list(dartResult)"
   ]
  },
  {
   "cell_type": "code",
   "execution_count": 13,
   "id": "needed-nebraska",
   "metadata": {},
   "outputs": [
    {
     "name": "stdout",
     "output_type": "stream",
     "text": [
      "i, k, j, cnt:  1 1 0 [1]\n",
      "i, k, j, cnt:  0 1 0 [10]\n",
      "i, k, j, cnt:  T T 0 [1000]\n",
      "i, k, j, cnt:  # # 0 [-1000]\n",
      "i, k, j, cnt:  0 0 1 [-1000, 0]\n",
      "i, k, j, cnt:  D D 1 [-1000, 0]\n",
      "i, k, j, cnt:  # # 1 [-1000, 0]\n",
      "i, k, j, cnt:  9 9 2 [-1000, 0, 9]\n",
      "i, k, j, cnt:  D D 2 [-1000, 0, 81]\n",
      "i, k, j, cnt:  * * 2 [-1000, 0, 162]\n"
     ]
    }
   ],
   "source": [
    "cnt = []\n",
    "j = -1\n",
    "k = ''\n",
    "for i in list(dartResult):\n",
    "    try:\n",
    "        if int(i) in list(range(1, 10)):\n",
    "            cnt.append(int(i))\n",
    "            k = i\n",
    "            j += 1\n",
    "        if int(i) == 0:\n",
    "            if k == '1':\n",
    "                cnt[j] = 10\n",
    "            else:\n",
    "                cnt.append(int(i))\n",
    "                k = i\n",
    "                j += 1\n",
    "    except:\n",
    "        if i == 'D': # 2승\n",
    "            k = i\n",
    "            cnt[j] = cnt[j]**2\n",
    "        elif i == 'T': # 3승\n",
    "            k = i\n",
    "            cnt[j] = cnt[j]**3\n",
    "        elif i == '*': # 해당 점수와 이전 점수를 2배\n",
    "            k = i\n",
    "            cnt[j], cnt[j-1] = cnt[j]*2, cnt[j-1]*2\n",
    "        elif i == '#': # 해당 점수 마이너스\n",
    "            k = i\n",
    "            cnt[j] = cnt[j]*-1\n",
    "    \n",
    "    print('i, k, j, cnt: ', i, k, j, cnt)"
   ]
  },
  {
   "cell_type": "code",
   "execution_count": 14,
   "id": "danish-prefix",
   "metadata": {},
   "outputs": [
    {
     "data": {
      "text/plain": [
       "-838"
      ]
     },
     "execution_count": 14,
     "metadata": {},
     "output_type": "execute_result"
    }
   ],
   "source": [
    "sum(cnt)"
   ]
  },
  {
   "cell_type": "markdown",
   "id": "constitutional-circuit",
   "metadata": {},
   "source": [
    "자꾸 오류가 떠서 처음부터 다시 짜보겠습니다."
   ]
  },
  {
   "cell_type": "code",
   "execution_count": 16,
   "id": "purple-python",
   "metadata": {},
   "outputs": [
    {
     "data": {
      "text/plain": [
       "'10T#0D#9D*'"
      ]
     },
     "execution_count": 16,
     "metadata": {},
     "output_type": "execute_result"
    }
   ],
   "source": [
    "dartResult"
   ]
  },
  {
   "cell_type": "code",
   "execution_count": 17,
   "id": "subjective-advice",
   "metadata": {},
   "outputs": [
    {
     "data": {
      "text/plain": [
       "['1', '0', 'T', '#', '0', 'D', '#', '9', 'D', '*']"
      ]
     },
     "execution_count": 17,
     "metadata": {},
     "output_type": "execute_result"
    }
   ],
   "source": [
    "list(dartResult)"
   ]
  },
  {
   "cell_type": "code",
   "execution_count": 22,
   "id": "abstract-synthetic",
   "metadata": {},
   "outputs": [
    {
     "name": "stdout",
     "output_type": "stream",
     "text": [
      "number\n",
      "num [1] 0\n",
      "number\n",
      "num [10] 0\n",
      "bonus\n",
      "bon [1000] 0\n",
      "option\n",
      "opt [-1000] 0\n",
      "number\n",
      "num [-1000, 0] 1\n",
      "bonus\n",
      "bon [-1000, 0] 1\n",
      "option\n",
      "opt [-1000, 0] 1\n",
      "number\n",
      "num [-1000, 0, 9] 2\n",
      "bonus\n",
      "bon [-1000, 0, 81] 2\n",
      "option\n",
      "opt [-1000, 0, 162] 2\n"
     ]
    }
   ],
   "source": [
    "scores = []\n",
    "prior = ''\n",
    "cnt = -1\n",
    "for d in list(dartResult):\n",
    "    # 보너스를 받을 때\n",
    "    if d in ['S', 'D', 'T']:\n",
    "        print('bonus')\n",
    "        prior = 'bon'\n",
    "        if d == 'S':\n",
    "            pass\n",
    "        elif d == 'D':\n",
    "            scores[cnt] = scores[cnt]**2\n",
    "        else:\n",
    "            scores[cnt] = scores[cnt]**3\n",
    "        print(prior, scores, cnt)\n",
    "    # 옵션을 받을 때\n",
    "    elif d in ['*', '#']:\n",
    "        print('option')\n",
    "        prior = 'opt'\n",
    "        if d == '*':\n",
    "            scores[cnt], scores[cnt-1] = scores[cnt]*2, scores[cnt-1]*2\n",
    "        else:\n",
    "            scores[cnt] = scores[cnt]*(-1)\n",
    "        print(prior, scores, cnt)\n",
    "    # 숫자를 받을 때\n",
    "    else:\n",
    "        print('number')\n",
    "        if prior == 'num':\n",
    "            scores.pop()\n",
    "            scores.append(10)\n",
    "        else:\n",
    "            prior = 'num'\n",
    "            scores.append(int(d))\n",
    "            cnt += 1\n",
    "        print(prior, scores, cnt)"
   ]
  },
  {
   "cell_type": "code",
   "execution_count": 23,
   "id": "ongoing-wilderness",
   "metadata": {},
   "outputs": [
    {
     "data": {
      "text/plain": [
       "[-1000, 0, 162]"
      ]
     },
     "execution_count": 23,
     "metadata": {},
     "output_type": "execute_result"
    }
   ],
   "source": [
    "scores"
   ]
  },
  {
   "cell_type": "markdown",
   "id": "third-correction",
   "metadata": {},
   "source": [
    "통과하네요. 뭐가 틀렸던 거야..."
   ]
  },
  {
   "cell_type": "code",
   "execution_count": null,
   "id": "pressing-pointer",
   "metadata": {},
   "outputs": [],
   "source": []
  }
 ],
 "metadata": {
  "kernelspec": {
   "display_name": "wyatt38",
   "language": "python",
   "name": "wyatt38"
  },
  "language_info": {
   "codemirror_mode": {
    "name": "ipython",
    "version": 3
   },
   "file_extension": ".py",
   "mimetype": "text/x-python",
   "name": "python",
   "nbconvert_exporter": "python",
   "pygments_lexer": "ipython3",
   "version": "3.8.0"
  }
 },
 "nbformat": 4,
 "nbformat_minor": 5
}
