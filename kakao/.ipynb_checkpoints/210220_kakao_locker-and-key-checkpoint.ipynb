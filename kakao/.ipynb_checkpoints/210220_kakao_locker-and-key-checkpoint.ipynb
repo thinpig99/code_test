{
 "cells": [
  {
   "cell_type": "markdown",
   "metadata": {},
   "source": [
    "# 코딩테스트 연습 > 카카오 > 자물쇠와 열쇠"
   ]
  },
  {
   "cell_type": "markdown",
   "metadata": {},
   "source": [
    "## 문제 설명\n",
    "고고학자인 튜브는 고대 유적지에서 보물과 유적이 가득할 것으로 추정되는 비밀의 문을 발견하였습니다. 그런데 문을 열려고 살펴보니 특이한 형태의 자물쇠로 잠겨 있었고 문 앞에는 특이한 형태의 열쇠와 함께 자물쇠를 푸는 방법에 대해 다음과 같이 설명해 주는 종이가 발견되었습니다.\n",
    "\n",
    "잠겨있는 자물쇠는 격자 한 칸의 크기가 1 x 1인 N x N 크기의 정사각 격자 형태이고 특이한 모양의 열쇠는 M x M 크기인 정사각 격자 형태로 되어 있습니다.\n",
    "\n",
    "자물쇠에는 홈이 파여 있고 열쇠 또한 홈과 돌기 부분이 있습니다. 열쇠는 회전과 이동이 가능하며 열쇠의 돌기 부분을 자물쇠의 홈 부분에 딱 맞게 채우면 자물쇠가 열리게 되는 구조입니다. 자물쇠 영역을 벗어난 부분에 있는 열쇠의 홈과 돌기는 자물쇠를 여는 데 영향을 주지 않지만, 자물쇠 영역 내에서는 열쇠의 돌기 부분과 자물쇠의 홈 부분이 정확히 일치해야 하며 열쇠의 돌기와 자물쇠의 돌기가 만나서는 안됩니다. 또한 자물쇠의 모든 홈을 채워 비어있는 곳이 없어야 자물쇠를 열 수 있습니다.\n",
    "\n",
    "열쇠를 나타내는 2차원 배열 key와 자물쇠를 나타내는 2차원 배열 lock이 매개변수로 주어질 때, 열쇠로 자물쇠를 열수 있으면 true를, 열 수 없으면 false를 return 하도록 solution 함수를 완성해주세요."
   ]
  },
  {
   "cell_type": "markdown",
   "metadata": {},
   "source": [
    "## 제한사항\n",
    "- key는 M x M(3 ≤ M ≤ 20, M은 자연수)크기 2차원 배열입니다.\n",
    "- lock은 N x N(3 ≤ N ≤ 20, N은 자연수)크기 2차원 배열입니다.\n",
    "- M은 항상 N 이하입니다.\n",
    "- key와 lock의 원소는 0 또는 1로 이루어져 있습니다.\n",
    "- 0은 홈 부분, 1은 돌기 부분을 나타냅니다."
   ]
  },
  {
   "cell_type": "markdown",
   "metadata": {},
   "source": [
    "## 입출력 예\n",
    "|key|lock|result|\n",
    "|---|---|---|\n",
    "|[[0, 0, 0], [1, 0, 0], [0, 1, 1]]|[[1, 1, 1], [1, 1, 0], [1, 0, 1]]|true|"
   ]
  },
  {
   "cell_type": "markdown",
   "metadata": {},
   "source": [
    "### 아이디어"
   ]
  },
  {
   "cell_type": "markdown",
   "metadata": {},
   "source": [
    "CNN의 필터링과 비슷하다는 생각이 듭니다.\n",
    "\n",
    "키는 90도씩 회전해서 4개의 모양을 가집니다. 즉 키는 4개입니다.\n",
    "\n",
    "lock의 모든 부분을 맞춰가면서 비교해야하는데, 그러면 padding를 주고 4개의 필터를 각각 대조해주면 됩니다.\n",
    "\n",
    "padding은 key의 배열 shape에서 1개만 빼고 주면 됩니다. key 가 (3, 3)이면 2를 주면 됩니다.\n",
    "\n",
    "마지막으로 핵심은 padding을 제외하고 lock의 부분을 window로 잡아서 조건을 통해 비교해주면 됩니다."
   ]
  },
  {
   "cell_type": "code",
   "execution_count": 1,
   "metadata": {},
   "outputs": [],
   "source": [
    "import numpy as np"
   ]
  },
  {
   "cell_type": "code",
   "execution_count": 110,
   "metadata": {},
   "outputs": [],
   "source": [
    "key = np.array([[0, 0, 0], [1, 0, 0], [0, 1, 1]])\n",
    "lock = np.array([[1, 1, 1], [1, 1, 0], [1, 0, 1]])"
   ]
  },
  {
   "cell_type": "code",
   "execution_count": 111,
   "metadata": {},
   "outputs": [
    {
     "data": {
      "text/plain": [
       "(array([[0, 0, 0],\n",
       "        [1, 0, 0],\n",
       "        [0, 1, 1]]),\n",
       " array([[1, 1, 1],\n",
       "        [1, 1, 0],\n",
       "        [1, 0, 1]]))"
      ]
     },
     "execution_count": 111,
     "metadata": {},
     "output_type": "execute_result"
    }
   ],
   "source": [
    "key, lock"
   ]
  },
  {
   "cell_type": "code",
   "execution_count": 13,
   "metadata": {},
   "outputs": [
    {
     "data": {
      "text/plain": [
       "array([[0, 1, 0],\n",
       "       [1, 0, 0],\n",
       "       [1, 0, 0]])"
      ]
     },
     "execution_count": 13,
     "metadata": {},
     "output_type": "execute_result"
    }
   ],
   "source": [
    "np.rot90(key, 1, axes=(1, 0))"
   ]
  },
  {
   "cell_type": "code",
   "execution_count": 14,
   "metadata": {},
   "outputs": [
    {
     "data": {
      "text/plain": [
       "array([[1, 1, 0],\n",
       "       [0, 0, 1],\n",
       "       [0, 0, 0]])"
      ]
     },
     "execution_count": 14,
     "metadata": {},
     "output_type": "execute_result"
    }
   ],
   "source": [
    "np.rot90(key, 2, axes=(1, 0))"
   ]
  },
  {
   "cell_type": "code",
   "execution_count": 15,
   "metadata": {},
   "outputs": [
    {
     "data": {
      "text/plain": [
       "array([[0, 0, 1],\n",
       "       [0, 0, 1],\n",
       "       [0, 1, 0]])"
      ]
     },
     "execution_count": 15,
     "metadata": {},
     "output_type": "execute_result"
    }
   ],
   "source": [
    "np.rot90(key, 3, axes=(1, 0))"
   ]
  },
  {
   "cell_type": "code",
   "execution_count": 16,
   "metadata": {},
   "outputs": [
    {
     "data": {
      "text/plain": [
       "array([[0, 0, 0],\n",
       "       [1, 0, 0],\n",
       "       [0, 1, 1]])"
      ]
     },
     "execution_count": 16,
     "metadata": {},
     "output_type": "execute_result"
    }
   ],
   "source": [
    "np.rot90(key, 4, axes=(1, 0))"
   ]
  },
  {
   "cell_type": "markdown",
   "metadata": {},
   "source": [
    "이렇게 4개로 key의 모양이 나옵니다."
   ]
  },
  {
   "cell_type": "code",
   "execution_count": 47,
   "metadata": {},
   "outputs": [
    {
     "data": {
      "text/plain": [
       "2"
      ]
     },
     "execution_count": 47,
     "metadata": {},
     "output_type": "execute_result"
    }
   ],
   "source": [
    "pad = len(key[0])-1\n",
    "pad"
   ]
  },
  {
   "cell_type": "code",
   "execution_count": 49,
   "metadata": {},
   "outputs": [
    {
     "data": {
      "text/plain": [
       "array([[0, 0, 0, 0, 0, 0, 0],\n",
       "       [0, 0, 0, 0, 0, 0, 0],\n",
       "       [0, 0, 1, 1, 1, 0, 0],\n",
       "       [0, 0, 1, 1, 0, 0, 0],\n",
       "       [0, 0, 1, 0, 1, 0, 0],\n",
       "       [0, 0, 0, 0, 0, 0, 0],\n",
       "       [0, 0, 0, 0, 0, 0, 0]])"
      ]
     },
     "execution_count": 49,
     "metadata": {},
     "output_type": "execute_result"
    }
   ],
   "source": [
    "padded_lock = np.pad(lock, pad)\n",
    "padded_lock"
   ]
  },
  {
   "cell_type": "markdown",
   "metadata": {},
   "source": [
    "np.pad() 를 통해서 패딩을 해줍니다."
   ]
  },
  {
   "cell_type": "markdown",
   "metadata": {},
   "source": [
    "결과를 확인할 window를 지정해줍니다."
   ]
  },
  {
   "cell_type": "code",
   "execution_count": 54,
   "metadata": {},
   "outputs": [
    {
     "data": {
      "text/plain": [
       "array([[1, 1, 1],\n",
       "       [1, 1, 0],\n",
       "       [1, 0, 1]])"
      ]
     },
     "execution_count": 54,
     "metadata": {},
     "output_type": "execute_result"
    }
   ],
   "source": [
    "window = padded_lock[pad:len(padded_lock[0])-pad, pad:len(padded_lock[0])-pad]\n",
    "window"
   ]
  },
  {
   "cell_type": "code",
   "execution_count": 61,
   "metadata": {},
   "outputs": [
    {
     "data": {
      "text/plain": [
       "array([[1, 1, 1],\n",
       "       [1, 1, 0],\n",
       "       [1, 0, 1]])"
      ]
     },
     "execution_count": 61,
     "metadata": {},
     "output_type": "execute_result"
    }
   ],
   "source": [
    "np.where(window == 1, 1, 0)"
   ]
  },
  {
   "cell_type": "code",
   "execution_count": 62,
   "metadata": {},
   "outputs": [
    {
     "data": {
      "text/plain": [
       "7"
      ]
     },
     "execution_count": 62,
     "metadata": {},
     "output_type": "execute_result"
    }
   ],
   "source": [
    "np.sum(np.where(window == 1, 1, 0))"
   ]
  },
  {
   "cell_type": "markdown",
   "metadata": {},
   "source": [
    "np.where() 를 통해서 1인 값은 1로 받고, 아니면 0으로 받습니다. 그러면 1인 값이 9개가 되어야 sum이 9가 됩니다. 그러면 딱 맞습니다."
   ]
  },
  {
   "cell_type": "code",
   "execution_count": 136,
   "metadata": {},
   "outputs": [
    {
     "data": {
      "text/plain": [
       "9"
      ]
     },
     "execution_count": 136,
     "metadata": {},
     "output_type": "execute_result"
    }
   ],
   "source": [
    "lock.shape[0] * lock.shape[1]"
   ]
  },
  {
   "cell_type": "markdown",
   "metadata": {},
   "source": [
    "자 이제 세팅은 다 되었습니다. 그럼 비교만 하면 됩니다..."
   ]
  },
  {
   "cell_type": "code",
   "execution_count": 135,
   "metadata": {},
   "outputs": [],
   "source": [
    "key = np.array([[0, 0, 0], [1, 0, 0], [0, 1, 1]])\n",
    "lock = np.array([[1, 1, 1], [1, 1, 0], [1, 0, 1]])"
   ]
  },
  {
   "cell_type": "code",
   "execution_count": 143,
   "metadata": {},
   "outputs": [],
   "source": [
    "def solution(key, lock):\n",
    "    key = np.array(key)\n",
    "    lock = np.array(lock)\n",
    "    \n",
    "    answer = False\n",
    "    \n",
    "    # 4개의 커널을 만들어줍니다.\n",
    "    key_2 = np.rot90(key, 1, axes=(1, 0))\n",
    "    key_3 = np.rot90(key, 2, axes=(1, 0))\n",
    "    key_4 = np.rot90(key, 3, axes=(1, 0))\n",
    "    kernel = [key, key_2, key_3, key_4]\n",
    "    print(\"kernels: \")\n",
    "    print(kernel[0])\n",
    "    print(kernel[1])\n",
    "    print(kernel[2])\n",
    "    print(kernel[3])\n",
    "    \n",
    "    # 패드를 잡아줍니다.\n",
    "    pad = key.shape[0] - 1\n",
    "    print(\"pad: \", pad)\n",
    "    \n",
    "    # 커널 사이즈를 잡아줍니다.\n",
    "    ks = key.shape[0]\n",
    "    print(\"kernel_size: \", ks)\n",
    "\n",
    "    # 패딩을 해줍니다.\n",
    "    padded_lock = np.pad(lock, pad)\n",
    "    print(\"padded_lock: \")\n",
    "    print(padded_lock)\n",
    "    \n",
    "    # activation map의 크기를 정해줍니다.\n",
    "    # O = floor((I - K + 2P / S) + 1)\n",
    "    # stride는 1로 고정입니다.\n",
    "    O = int(np.floor(lock.shape[0] - ks + (2 * pad) + 1))\n",
    "    print(\"activation map: \", O)\n",
    "    \n",
    "    for k in kernel: # 키를 하나씩 꺼내서 맞춰봅니다.\n",
    "        print('*'*50)\n",
    "        for i in range(O):# activation map의 크기만큼 행 반복\n",
    "            for j in range(O):# activation map의 크기만큼 열 반복\n",
    "                padded_key = np.zeros(padded_lock.shape) # 반복해서 새로운 키패드를 만듭니다.\n",
    "                padded_key[i : i + k.shape[0],\n",
    "                           j : j + k.shape[0]] = k # activation map에 해당하는 key를 만듭니다.\n",
    "                match = padded_lock + padded_key # key와 lock 을 더해줍니다.\n",
    "                window = match[pad : padded_lock.shape[0] - pad,\n",
    "                               pad : padded_lock.shape[0] - pad] # window를 구해줍니다.\n",
    "                print(\"window: \")\n",
    "                print(window)\n",
    "                \n",
    "                print(\"sum: \", np.sum(np.where(window == 1, 1, 0))) # 1은 1, 그 외는 0으로 맞춰어서 sum을 해줍니다.\n",
    "\n",
    "                if np.sum(np.where(window == 1, 1, 0)) == lock.shape[0] * lock.shape[1]: # sum이 MxM 과 같다면 true 반환\n",
    "                    answer = True\n",
    "                    print(\"--------------Congratulations!---------------\")\n",
    "                    break\n",
    "                    \n",
    "            # 3중 포문을 빠져나가기 위한 breaker \n",
    "            if answer == True:\n",
    "                break\n",
    "                \n",
    "        # 마찬가지.\n",
    "        if answer == True:\n",
    "            break\n",
    "            \n",
    "    return answer"
   ]
  },
  {
   "cell_type": "code",
   "execution_count": 144,
   "metadata": {
    "scrolled": false
   },
   "outputs": [
    {
     "name": "stdout",
     "output_type": "stream",
     "text": [
      "kernels: \n",
      "[[0 0 0]\n",
      " [1 0 0]\n",
      " [0 1 1]]\n",
      "[[0 1 0]\n",
      " [1 0 0]\n",
      " [1 0 0]]\n",
      "[[1 1 0]\n",
      " [0 0 1]\n",
      " [0 0 0]]\n",
      "[[0 0 1]\n",
      " [0 0 1]\n",
      " [0 1 0]]\n",
      "pad:  2\n",
      "kernel_size:  3\n",
      "padded_lock: \n",
      "[[0 0 0 0 0 0 0]\n",
      " [0 0 0 0 0 0 0]\n",
      " [0 0 1 1 1 0 0]\n",
      " [0 0 1 1 0 0 0]\n",
      " [0 0 1 0 1 0 0]\n",
      " [0 0 0 0 0 0 0]\n",
      " [0 0 0 0 0 0 0]]\n",
      "activation map:  5\n",
      "**************************************************\n",
      "window: \n",
      "[[2. 1. 1.]\n",
      " [1. 1. 0.]\n",
      " [1. 0. 1.]]\n",
      "sum:  6\n",
      "window: \n",
      "[[2. 2. 1.]\n",
      " [1. 1. 0.]\n",
      " [1. 0. 1.]]\n",
      "sum:  5\n",
      "window: \n",
      "[[1. 2. 2.]\n",
      " [1. 1. 0.]\n",
      " [1. 0. 1.]]\n",
      "sum:  5\n",
      "window: \n",
      "[[1. 1. 2.]\n",
      " [1. 1. 0.]\n",
      " [1. 0. 1.]]\n",
      "sum:  6\n",
      "window: \n",
      "[[1. 1. 1.]\n",
      " [1. 1. 0.]\n",
      " [1. 0. 1.]]\n",
      "sum:  7\n",
      "window: \n",
      "[[1. 1. 1.]\n",
      " [2. 1. 0.]\n",
      " [1. 0. 1.]]\n",
      "sum:  6\n",
      "window: \n",
      "[[1. 1. 1.]\n",
      " [2. 2. 0.]\n",
      " [1. 0. 1.]]\n",
      "sum:  5\n",
      "window: \n",
      "[[2. 1. 1.]\n",
      " [1. 2. 1.]\n",
      " [1. 0. 1.]]\n",
      "sum:  6\n",
      "window: \n",
      "[[1. 2. 1.]\n",
      " [1. 1. 1.]\n",
      " [1. 0. 1.]]\n",
      "sum:  7\n",
      "window: \n",
      "[[1. 1. 2.]\n",
      " [1. 1. 0.]\n",
      " [1. 0. 1.]]\n",
      "sum:  6\n",
      "window: \n",
      "[[1. 1. 1.]\n",
      " [1. 1. 0.]\n",
      " [2. 0. 1.]]\n",
      "sum:  6\n",
      "window: \n",
      "[[1. 1. 1.]\n",
      " [1. 1. 0.]\n",
      " [2. 1. 1.]]\n",
      "sum:  7\n",
      "window: \n",
      "[[1. 1. 1.]\n",
      " [2. 1. 0.]\n",
      " [1. 1. 2.]]\n",
      "sum:  6\n",
      "window: \n",
      "[[1. 1. 1.]\n",
      " [1. 2. 0.]\n",
      " [1. 0. 2.]]\n",
      "sum:  5\n",
      "window: \n",
      "[[1. 1. 1.]\n",
      " [1. 1. 1.]\n",
      " [1. 0. 1.]]\n",
      "sum:  8\n",
      "window: \n",
      "[[1. 1. 1.]\n",
      " [1. 1. 0.]\n",
      " [1. 0. 1.]]\n",
      "sum:  7\n",
      "window: \n",
      "[[1. 1. 1.]\n",
      " [1. 1. 0.]\n",
      " [1. 0. 1.]]\n",
      "sum:  7\n",
      "window: \n",
      "[[1. 1. 1.]\n",
      " [1. 1. 0.]\n",
      " [2. 0. 1.]]\n",
      "sum:  6\n",
      "window: \n",
      "[[1. 1. 1.]\n",
      " [1. 1. 0.]\n",
      " [1. 1. 1.]]\n",
      "sum:  8\n",
      "window: \n",
      "[[1. 1. 1.]\n",
      " [1. 1. 0.]\n",
      " [1. 0. 2.]]\n",
      "sum:  6\n",
      "window: \n",
      "[[1. 1. 1.]\n",
      " [1. 1. 0.]\n",
      " [1. 0. 1.]]\n",
      "sum:  7\n",
      "window: \n",
      "[[1. 1. 1.]\n",
      " [1. 1. 0.]\n",
      " [1. 0. 1.]]\n",
      "sum:  7\n",
      "window: \n",
      "[[1. 1. 1.]\n",
      " [1. 1. 0.]\n",
      " [1. 0. 1.]]\n",
      "sum:  7\n",
      "window: \n",
      "[[1. 1. 1.]\n",
      " [1. 1. 0.]\n",
      " [1. 0. 1.]]\n",
      "sum:  7\n",
      "window: \n",
      "[[1. 1. 1.]\n",
      " [1. 1. 0.]\n",
      " [1. 0. 1.]]\n",
      "sum:  7\n",
      "**************************************************\n",
      "window: \n",
      "[[1. 1. 1.]\n",
      " [1. 1. 0.]\n",
      " [1. 0. 1.]]\n",
      "sum:  7\n",
      "window: \n",
      "[[1. 1. 1.]\n",
      " [1. 1. 0.]\n",
      " [1. 0. 1.]]\n",
      "sum:  7\n",
      "window: \n",
      "[[2. 1. 1.]\n",
      " [1. 1. 0.]\n",
      " [1. 0. 1.]]\n",
      "sum:  6\n",
      "window: \n",
      "[[1. 2. 1.]\n",
      " [1. 1. 0.]\n",
      " [1. 0. 1.]]\n",
      "sum:  6\n",
      "window: \n",
      "[[1. 1. 2.]\n",
      " [1. 1. 0.]\n",
      " [1. 0. 1.]]\n",
      "sum:  6\n",
      "window: \n",
      "[[1. 1. 1.]\n",
      " [1. 1. 0.]\n",
      " [1. 0. 1.]]\n",
      "sum:  7\n",
      "window: \n",
      "[[1. 1. 1.]\n",
      " [1. 1. 0.]\n",
      " [1. 0. 1.]]\n",
      "sum:  7\n",
      "window: \n",
      "[[2. 1. 1.]\n",
      " [2. 1. 0.]\n",
      " [1. 0. 1.]]\n",
      "sum:  5\n",
      "window: \n",
      "[[1. 2. 1.]\n",
      " [1. 2. 0.]\n",
      " [1. 0. 1.]]\n",
      "sum:  5\n",
      "window: \n",
      "[[1. 1. 2.]\n",
      " [1. 1. 1.]\n",
      " [1. 0. 1.]]\n",
      "sum:  7\n",
      "window: \n",
      "[[1. 1. 1.]\n",
      " [1. 1. 0.]\n",
      " [1. 0. 1.]]\n",
      "sum:  7\n",
      "window: \n",
      "[[2. 1. 1.]\n",
      " [1. 1. 0.]\n",
      " [1. 0. 1.]]\n",
      "sum:  6\n",
      "window: \n",
      "[[1. 2. 1.]\n",
      " [2. 1. 0.]\n",
      " [2. 0. 1.]]\n",
      "sum:  4\n",
      "window: \n",
      "[[1. 1. 2.]\n",
      " [1. 2. 0.]\n",
      " [1. 1. 1.]]\n",
      "sum:  6\n",
      "window: \n",
      "[[1. 1. 1.]\n",
      " [1. 1. 1.]\n",
      " [1. 0. 2.]]\n",
      "sum:  7\n",
      "window: \n",
      "[[1. 1. 1.]\n",
      " [1. 1. 0.]\n",
      " [1. 0. 1.]]\n",
      "sum:  7\n",
      "window: \n",
      "[[1. 1. 1.]\n",
      " [2. 1. 0.]\n",
      " [1. 0. 1.]]\n",
      "sum:  6\n",
      "window: \n",
      "[[1. 1. 1.]\n",
      " [1. 2. 0.]\n",
      " [2. 0. 1.]]\n",
      "sum:  5\n",
      "window: \n",
      "[[1. 1. 1.]\n",
      " [1. 1. 1.]\n",
      " [1. 1. 1.]]\n",
      "sum:  9\n",
      "--------------Congratulations!---------------\n",
      "[[1. 1. 1.]\n",
      " [1. 1. 1.]\n",
      " [1. 1. 1.]]\n"
     ]
    },
    {
     "data": {
      "text/plain": [
       "True"
      ]
     },
     "execution_count": 144,
     "metadata": {},
     "output_type": "execute_result"
    }
   ],
   "source": [
    "solution(key, lock)"
   ]
  },
  {
   "cell_type": "code",
   "execution_count": null,
   "metadata": {},
   "outputs": [],
   "source": []
  }
 ],
 "metadata": {
  "kernelspec": {
   "display_name": "Python 3",
   "language": "python",
   "name": "python3"
  },
  "language_info": {
   "codemirror_mode": {
    "name": "ipython",
    "version": 3
   },
   "file_extension": ".py",
   "mimetype": "text/x-python",
   "name": "python",
   "nbconvert_exporter": "python",
   "pygments_lexer": "ipython3",
   "version": "3.8.0"
  }
 },
 "nbformat": 4,
 "nbformat_minor": 4
}
