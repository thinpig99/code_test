{
 "cells": [
  {
   "cell_type": "markdown",
   "id": "legislative-firewall",
   "metadata": {},
   "source": [
    "# 코딩 테스트 연습 > 카카오 > 메뉴 리뉴얼"
   ]
  },
  {
   "cell_type": "markdown",
   "id": "enclosed-assignment",
   "metadata": {},
   "source": [
    "## 문제 설명\n",
    "레스토랑을 운영하던 스카피는 코로나19로 인한 불경기를 극복하고자 메뉴를 새로 구성하려고 고민하고 있습니다.\n",
    "기존에는 단품으로만 제공하던 메뉴를 조합해서 코스요리 형태로 재구성해서 새로운 메뉴를 제공하기로 결정했습니다. 어떤 단품메뉴들을 조합해서 코스요리 메뉴로 구성하면 좋을 지 고민하던 스카피는 이전에 각 손님들이 주문할 때 가장 많이 함께 주문한 단품메뉴들을 코스요리 메뉴로 구성하기로 했습니다.\n",
    "단, 코스요리 메뉴는 최소 2가지 이상의 단품메뉴로 구성하려고 합니다. 또한, 최소 2명 이상의 손님으로부터 주문된 단품메뉴 조합에 대해서만 코스요리 메뉴 후보에 포함하기로 했습니다.\n",
    "\n",
    "예를 들어, 손님 6명이 주문한 단품메뉴들의 조합이 다음과 같다면,\n",
    "(각 손님은 단품메뉴를 2개 이상 주문해야 하며, 각 단품메뉴는 A ~ Z의 알파벳 대문자로 표기합니다.)"
   ]
  },
  {
   "cell_type": "markdown",
   "id": "responsible-background",
   "metadata": {},
   "source": [
    "|손님 번호|주문한 단품메뉴 조합|\n",
    "|---|---|\n",
    "|1번 손님\t|A, B, C, F, G|\n",
    "|2번 손님\t|A, C|\n",
    "|3번 손님\t|C, D, E|\n",
    "|4번 손님\t|A, C, D, E|\n",
    "|5번 손님\t|B, C, F, G|\n",
    "|6번 손님\t|A, C, D, E, H|"
   ]
  },
  {
   "cell_type": "markdown",
   "id": "approved-volunteer",
   "metadata": {},
   "source": [
    "가장 많이 함께 주문된 단품메뉴 조합에 따라 스카피가 만들게 될 코스요리 메뉴 구성 후보는 다음과 같습니다."
   ]
  },
  {
   "cell_type": "markdown",
   "id": "spiritual-thinking",
   "metadata": {},
   "source": [
    "|코스 종류\t|메뉴 구성\t|설명|\n",
    "|---|---|---|\n",
    "|요리 2개 코스|\tA, C\t|1번, 2번, 4번, 6번 손님으로부터 총 4번 주문됐습니다.|\n",
    "|요리 3개 코스|\tC, D, E\t|3번, 4번, 6번 손님으로부터 총 3번 주문됐습니다.|\n",
    "|요리 4개 코스|\tB, C, F, G|\t1번, 5번 손님으로부터 총 2번 주문됐습니다.|\n",
    "|요리 4개 코스|\tA, C, D, E\t|4번, 6번 손님으로부터 총 2번 주문됐습니다.|"
   ]
  },
  {
   "cell_type": "markdown",
   "id": "marked-thermal",
   "metadata": {},
   "source": [
    "## [문제]\n",
    "각 손님들이 주문한 단품메뉴들이 문자열 형식으로 담긴 배열 orders, 스카피가 추가하고 싶어하는 코스요리를 구성하는 단품메뉴들의 갯수가 담긴 배열 course가 매개변수로 주어질 때, 스카피가 새로 추가하게 될 코스요리의 메뉴 구성을 문자열 형태로 배열에 담아 return 하도록 solution 함수를 완성해 주세요.\n",
    "\n",
    "## [제한사항]\n",
    "- orders 배열의 크기는 2 이상 20 이하입니다.\n",
    "- orders 배열의 각 원소는 크기가 2 이상 10 이하인 문자열입니다.\n",
    "    - 각 문자열은 알파벳 대문자로만 이루어져 있습니다.\n",
    "    - 각 문자열에는 같은 알파벳이 중복해서 들어있지 않습니다.\n",
    "- course 배열의 크기는 1 이상 10 이하입니다.\n",
    "    - course 배열의 각 원소는 2 이상 10 이하인 자연수가 오름차순으로 정렬되어 있습니다.\n",
    "    - course 배열에는 같은 값이 중복해서 들어있지 않습니다.\n",
    "- 정답은 각 코스요리 메뉴의 구성을 문자열 형식으로 배열에 담아 사전 순으로 오름차순 정렬해서 return 해주세요.\n",
    "    - 배열의 각 원소에 저장된 문자열 또한 알파벳 오름차순으로 정렬되어야 합니다.\n",
    "    - 만약 가장 많이 함께 주문된 메뉴 구성이 여러 개라면, 모두 배열에 담아 return 하면 됩니다.\n",
    "    - orders와 course 매개변수는 return 하는 배열의 길이가 1 이상이 되도록 주어집니다."
   ]
  },
  {
   "cell_type": "markdown",
   "id": "minus-welding",
   "metadata": {},
   "source": [
    "## [입출력 예]\n",
    "|orders\t|course|\tresult|\n",
    "|---|---|---|\n",
    "|[\"ABCFG\", \"AC\", \"CDE\", \"ACDE\", \"BCFG\", \"ACDEH\"]|\t[2,3,4]|\t[\"AC\", \"ACDE\", \"BCFG\", \"CDE\"]|\n",
    "|[\"ABCDE\", \"AB\", \"CD\", \"ADE\", \"XYZ\", \"XYZ\", \"ACD\"]|\t[2,3,5]\t|[\"ACD\", \"AD\", \"ADE\", \"CD\", \"XYZ\"]|\n",
    "|[\"XYZ\", \"XWY\", \"WXA\"]|\t[2,3,4]|\t[\"WX\", \"XY\"]|"
   ]
  },
  {
   "cell_type": "markdown",
   "id": "neither-laugh",
   "metadata": {},
   "source": [
    "## 입출력 예에 대한 설명\n",
    "### 입출력 예 #1\n",
    "문제의 예시와 같습니다.\n",
    "\n",
    "### 입출력 예 #2\n",
    "AD가 세 번, CD가 세 번, ACD가 두 번, ADE가 두 번, XYZ 가 두 번 주문됐습니다.\n",
    "요리 5개를 주문한 손님이 1명 있지만, 최소 2명 이상의 손님에게서 주문된 구성만 코스요리 후보에 들어가므로, 요리 5개로 구성된 코스요리는 새로 추가하지 않습니다.\n",
    "\n",
    "### 입출력 예 #3\n",
    "WX가 두 번, XY가 두 번 주문됐습니다.\n",
    "3명의 손님 모두 단품메뉴를 3개씩 주문했지만, 최소 2명 이상의 손님에게서 주문된 구성만 코스요리 후보에 들어가므로, 요리 3개로 구성된 코스요리는 새로 추가하지 않습니다.\n",
    "또, 단품메뉴를 4개 이상 주문한 손님은 없으므로, 요리 4개로 구성된 코스요리 또한 새로 추가하지 않습니다."
   ]
  },
  {
   "cell_type": "markdown",
   "id": "surrounded-month",
   "metadata": {},
   "source": [
    "## 아이디어"
   ]
  },
  {
   "cell_type": "markdown",
   "id": "contemporary-republican",
   "metadata": {},
   "source": [
    "매우 무식하게 피지컬로 승부봤습니다.\n",
    "\n",
    "아이디어는 없고, 구현에 초점을 두었습니다.\n",
    "\n",
    "일단 itertools의 combinations함수를 활용하여 모든 고객의 주문 메뉴의 course당 조합을 추출하고, 그것을 set으로 감싸서 고유 조합을 뽑아냅니다.\n",
    "\n",
    "고유 조합에 해당하는 고객들의 메뉴 조합을 count 하여 dict로 감싼 뒤,\n",
    "\n",
    "2개 이상에서 가장 많은 수를 가진 조합을 추출합니다.\n",
    "\n",
    "그러면 끝."
   ]
  },
  {
   "cell_type": "code",
   "execution_count": 130,
   "id": "operational-dragon",
   "metadata": {},
   "outputs": [],
   "source": [
    "orders = [\"ABCDE\", \"AB\", \"CD\", \"ADE\", \"XYZ\", \"XYZ\", \"ACD\"]\n",
    "course = [2,3,5]"
   ]
  },
  {
   "cell_type": "code",
   "execution_count": 131,
   "id": "cognitive-promise",
   "metadata": {},
   "outputs": [],
   "source": [
    "result = [\"ACD\", \"AD\", \"ADE\", \"CD\", \"XYZ\"]"
   ]
  },
  {
   "cell_type": "code",
   "execution_count": 142,
   "id": "serious-devices",
   "metadata": {},
   "outputs": [
    {
     "name": "stdout",
     "output_type": "stream",
     "text": [
      "course:  2\n",
      "--------------------------------------------------\n",
      "all combination of menu is: \n",
      "[('A', 'B'), ('A', 'C'), ('A', 'D'), ('A', 'E'), ('B', 'C'), ('B', 'D'), ('B', 'E'), ('C', 'D'), ('C', 'E'), ('D', 'E'), ('A', 'B'), ('C', 'D'), ('A', 'D'), ('A', 'E'), ('D', 'E'), ('X', 'Y'), ('X', 'Z'), ('Y', 'Z'), ('X', 'Y'), ('X', 'Z'), ('Y', 'Z'), ('A', 'C'), ('A', 'D'), ('C', 'D')]\n",
      "drop duplicates combination of menu is: \n",
      "[('A', 'E'), ('B', 'E'), ('C', 'E'), ('A', 'B'), ('C', 'D'), ('X', 'Y'), ('X', 'Z'), ('A', 'C'), ('Y', 'Z'), ('D', 'E'), ('B', 'C'), ('A', 'D'), ('B', 'D')]\n",
      "comb menu count is: \n",
      "{('A', 'E'): 2, ('B', 'E'): 1, ('C', 'E'): 1, ('A', 'B'): 2, ('C', 'D'): 3, ('X', 'Y'): 2, ('X', 'Z'): 2, ('A', 'C'): 2, ('Y', 'Z'): 2, ('D', 'E'): 2, ('B', 'C'): 1, ('A', 'D'): 3, ('B', 'D'): 1}\n",
      "max_combos: \n",
      "[(('C', 'D'), 3), (('A', 'D'), 3)]\n",
      "final_result is:  ['CD', 'AD']\n",
      "course:  3\n",
      "--------------------------------------------------\n",
      "all combination of menu is: \n",
      "[('A', 'B', 'C'), ('A', 'B', 'D'), ('A', 'B', 'E'), ('A', 'C', 'D'), ('A', 'C', 'E'), ('A', 'D', 'E'), ('B', 'C', 'D'), ('B', 'C', 'E'), ('B', 'D', 'E'), ('C', 'D', 'E'), ('A', 'D', 'E'), ('X', 'Y', 'Z'), ('X', 'Y', 'Z'), ('A', 'C', 'D')]\n",
      "drop duplicates combination of menu is: \n",
      "[('A', 'B', 'E'), ('B', 'D', 'E'), ('A', 'D', 'E'), ('B', 'C', 'D'), ('A', 'C', 'D'), ('C', 'D', 'E'), ('A', 'B', 'C'), ('X', 'Y', 'Z'), ('B', 'C', 'E'), ('A', 'C', 'E'), ('A', 'B', 'D')]\n",
      "comb menu count is: \n",
      "{('A', 'B', 'E'): 1, ('B', 'D', 'E'): 1, ('A', 'D', 'E'): 2, ('B', 'C', 'D'): 1, ('A', 'C', 'D'): 2, ('C', 'D', 'E'): 1, ('A', 'B', 'C'): 1, ('X', 'Y', 'Z'): 2, ('B', 'C', 'E'): 1, ('A', 'C', 'E'): 1, ('A', 'B', 'D'): 1}\n",
      "max_combos: \n",
      "[(('A', 'D', 'E'), 2), (('A', 'C', 'D'), 2), (('X', 'Y', 'Z'), 2)]\n",
      "final_result is:  ['CD', 'AD', 'ADE', 'ACD', 'XYZ']\n",
      "course:  5\n",
      "--------------------------------------------------\n",
      "all combination of menu is: \n",
      "[('A', 'B', 'C', 'D', 'E')]\n",
      "drop duplicates combination of menu is: \n",
      "[('A', 'B', 'C', 'D', 'E')]\n",
      "comb menu count is: \n",
      "{('A', 'B', 'C', 'D', 'E'): 1}\n",
      "----------------------------------------------------------------------------------------------------\n"
     ]
    },
    {
     "data": {
      "text/plain": [
       "['ACD', 'AD', 'ADE', 'CD', 'XYZ']"
      ]
     },
     "execution_count": 142,
     "metadata": {},
     "output_type": "execute_result"
    }
   ],
   "source": [
    "import itertools\n",
    "import numpy as np\n",
    "\n",
    "sorted_orders = []\n",
    "for order in orders: # 알파벳 순서가 뒤바뀐 고객들이 있습니다. 정렬해서 다시 만들어야 합니다.\n",
    "    sorted_orders.append(''.join(sorted(order)))\n",
    "    \n",
    "orders = sorted_orders\n",
    "\n",
    "final_result = []\n",
    "for cs in course:\n",
    "    print('course: ', cs)\n",
    "    print('-'*50)\n",
    "    \n",
    "    all_comb = [] # 모든 메뉴 콤비네이션 프레임 할당\n",
    "    for i in range(len(orders)): # orders의 개수는 고객의 수이기 때문에 고객의 수만큼 반복한다.\n",
    "        all_comb += list(itertools.combinations(orders[i], cs)) # 고객별로 메뉴 콤비를 모두 모아준다. 중복 허용\n",
    "    print('all combination of menu is: ')\n",
    "    print(all_comb)\n",
    "    \n",
    "    set_comb = list(set(all_comb)) # 중복을 제거한 set_comb를 리스트로 받아준다.\n",
    "    print('drop duplicates combination of menu is: ')\n",
    "    print(set_comb)\n",
    "    \n",
    "    comb_count = {} # 각 메뉴 콤보를 카운트 해줄 딕셔너리 할당\n",
    "    for comb in set_comb:\n",
    "        comb_count[comb] = np.where((np.where(np.array(all_comb) == comb, 1, 0).sum(axis=1)) == cs, 1, 0).sum()\n",
    "        # 복잡해 보이지만 간단하다.\n",
    "        # all_comb는 리스트였기에 어레이로 받아주고, set_comb의 각 comb와 같으면 1, 아니면 0으로 받아준다.\n",
    "        # 그러나 튜플이기 때문에 [0, 1], [1, 0], [1, 1] 의 형식이 된다.\n",
    "        # 그래서 이걸 .sum(axis=1)로 두 개의 엘리먼트를 더해주고,\n",
    "        # 다시 np.where를 사용해서 합계가 2 이면 1로 받아서 sum()을 해준다.\n",
    "    print('comb menu count is: ')\n",
    "    print(comb_count)\n",
    "    \n",
    "    try: # 조합을 2명 이상이 주문 안 하는 경우도 있습니다. 에러 처리를 해줍니다.\n",
    "        max_combo_score = sorted([x for x in comb_count.items() if x[1] > 1], key=lambda x: x[1])[-1][1]\n",
    "        # 2명 이상이 주문했으면서 가장 많은 수를 주문한 메뉴의 개수를 받아준다. 2개 이상이 있을 수도 있기 때문이다.\n",
    "\n",
    "        max_combos = [x for x in comb_count.items() if x[1] == max_combo_score]\n",
    "        # max_combo 숫자를 가진 max_comb를 받아준다.\n",
    "        print('max_combos: ')\n",
    "        print(max_combos)\n",
    "\n",
    "        # 이제 저 max_combos 를 str로 바꿔서 최종 결과에 어펜드 해주면 됩니다.\n",
    "        result = []\n",
    "        for max_combo, _ in max_combos:\n",
    "            k = ''\n",
    "            for c in max_combo:\n",
    "                k += ''.join(c)\n",
    "            final_result.append(k)\n",
    "        print('final_result is: ', final_result)\n",
    "    except:\n",
    "        pass\n",
    "    \n",
    "print('-'*100)\n",
    "sorted(final_result)"
   ]
  }
 ],
 "metadata": {
  "kernelspec": {
   "display_name": "Python 3",
   "language": "python",
   "name": "python3"
  },
  "language_info": {
   "codemirror_mode": {
    "name": "ipython",
    "version": 3
   },
   "file_extension": ".py",
   "mimetype": "text/x-python",
   "name": "python",
   "nbconvert_exporter": "python",
   "pygments_lexer": "ipython3",
   "version": "3.8.6"
  }
 },
 "nbformat": 4,
 "nbformat_minor": 5
}
