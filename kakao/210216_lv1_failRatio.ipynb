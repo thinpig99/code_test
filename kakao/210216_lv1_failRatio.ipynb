{
 "cells": [
  {
   "cell_type": "markdown",
   "metadata": {},
   "source": [
    "# 코딩테스트 연습 > 2019 카카오 > 실패율"
   ]
  },
  {
   "cell_type": "markdown",
   "metadata": {},
   "source": [
    "본 문제의 저작권은 주식회사 프로그래머스에 있습니다. 문제를 풀고 싶으시다면 해당 회사의 웹사이트로 가시면 됩니다."
   ]
  },
  {
   "cell_type": "markdown",
   "metadata": {},
   "source": [
    "## 문제 설명\n",
    "\n",
    "슈퍼 게임 개발자 오렐리는 큰 고민에 빠졌다. 그녀가 만든 프랜즈 오천성이 대성공을 거뒀지만, 요즘 신규 사용자의 수가 급감한 것이다. 원인은 신규 사용자와 기존 사용자 사이에 스테이지 차이가 너무 큰 것이 문제였다.\n",
    "\n",
    "이 문제를 어떻게 할까 고민 한 그녀는 동적으로 게임 시간을 늘려서 난이도를 조절하기로 했다. 역시 슈퍼 개발자라 대부분의 로직은 쉽게 구현했지만, 실패율을 구하는 부분에서 위기에 빠지고 말았다. 오렐리를 위해 실패율을 구하는 코드를 완성하라.\n",
    "\n",
    " - 실패율은 다음과 같이 정의한다.\n",
    "     - 스테이지에 도달했으나 아직 클리어하지 못한 플레이어의 수 / 스테이지에 도달한 플레이어 수\n",
    "     \n",
    "     \n",
    "전체 스테이지의 개수 N, 게임을 이용하는 사용자가 현재 멈춰있는 스테이지의 번호가 담긴 배열 stages가 매개변수로 주어질 때, 실패율이 높은 스테이지부터 내림차순으로 스테이지의 번호가 담겨있는 배열을 return 하도록 solution 함수를 완성하라."
   ]
  },
  {
   "cell_type": "markdown",
   "metadata": {},
   "source": [
    "## 제한사항\n",
    " - 스테이지의 개수 N은 1 이상 500 이하의 자연수이다.\n",
    " - stages의 길이는 1 이상 200,000 이하이다.\n",
    " - stages에는 1 이상 N + 1 이하의 자연수가 담겨있다.\n",
    "    - 각 자연수는 사용자가 현재 도전 중인 스테이지의 번호를 나타낸다.\n",
    "    - 단, N + 1 은 마지막 스테이지(N 번째 스테이지) 까지 클리어 한 사용자를 나타낸다.\n",
    " - 만약 실패율이 같은 스테이지가 있다면 작은 번호의 스테이지가 먼저 오도록 하면 된다.\n",
    " - 스테이지에 도달한 유저가 없는 경우 해당 스테이지의 실패율은 0 으로 정의한다."
   ]
  },
  {
   "cell_type": "markdown",
   "metadata": {},
   "source": [
    "## 입출력 예\n",
    "|N|stages|result|\n",
    "|---|---|---|\n",
    "|5|[2, 1, 2, 5, 2, 4, 3, 3]|[3,4,2,1,5]|\n",
    "|4|[4,4,4,4,4]|[4,1,2,3]|"
   ]
  },
  {
   "cell_type": "markdown",
   "metadata": {},
   "source": [
    "### 입출력 예 설명\n",
    "\n",
    "#### 입출력 예 #1\n",
    "1번 스테이지에는 총 8명의 사용자가 도전했으며, 이 중 1명의 사용자가 아직 클리어하지 못했다. 따라서 1번 스테이지의 실패율은 다음과 같다.\n",
    "\n",
    " - 1 번 스테이지 실패율 : 1/8\n",
    "\n",
    "2번 스테이지에는 총 7명의 사용자가 도전했으며, 이 중 3명의 사용자가 아직 클리어하지 못했다. 따라서 2번 스테이지의 실패율은 다음과 같다.\n",
    "\n",
    " - 2 번 스테이지 실패율 : 3/7\n",
    "\n",
    "마찬가지로 나머지 스테이지의 실패율은 다음과 같다.\n",
    "\n",
    " - 3 번 스테이지 실패율 : 2/4\n",
    " - 4번 스테이지 실패율 : 1/2\n",
    " - 5번 스테이지 실패율 : 0/1\n",
    "\n",
    "각 스테이지의 번호를 실패율의 내림차순으로 정렬하면 다음과 같다.\n",
    "\n",
    " - [3,4,2,1,5]\n",
    "\n",
    "#### 입출력 예 #2\n",
    "\n",
    "모든 사용자가 마지막 스테이지에 있으므로 4번 스테이지의 실패율은 1이며 나머지 스테이지의 실패율은 0이다.\n",
    "\n",
    " - [4,1,2,3]"
   ]
  },
  {
   "cell_type": "markdown",
   "metadata": {},
   "source": [
    "### 아이디어"
   ]
  },
  {
   "cell_type": "markdown",
   "metadata": {},
   "source": [
    "N의 크기에 맞춰 스테이지 리스트를 받아주고,\n",
    "\n",
    "하나씩 비교해가면서 실패율을 계산하면 됩니다.\n",
    "\n",
    "다만 이미 사용된 유저는 유저수에서 빼주면 됩니다."
   ]
  },
  {
   "cell_type": "code",
   "execution_count": 1,
   "metadata": {},
   "outputs": [],
   "source": [
    "import numpy as np"
   ]
  },
  {
   "cell_type": "markdown",
   "metadata": {},
   "source": [
    "stages를 받아서 각 스테이지별로 실패율을 산정하면 되는 것인데...\n",
    "\n",
    "중요한 건 가장 낮은 스테이지부터 정하면 되는 것이다."
   ]
  },
  {
   "cell_type": "code",
   "execution_count": 121,
   "metadata": {},
   "outputs": [],
   "source": [
    "N = 5\n",
    "stages = [2, 1, 2, 4, 2, 4, 3, 3]\n",
    "result = [3, 4, 2, 1, 5]"
   ]
  },
  {
   "cell_type": "code",
   "execution_count": 122,
   "metadata": {},
   "outputs": [
    {
     "data": {
      "text/plain": [
       "array([1, 2, 3, 4, 5])"
      ]
     },
     "execution_count": 122,
     "metadata": {},
     "output_type": "execute_result"
    }
   ],
   "source": [
    "stage = np.arange(N) + 1\n",
    "np.arange(N) + 1"
   ]
  },
  {
   "cell_type": "code",
   "execution_count": 123,
   "metadata": {},
   "outputs": [
    {
     "data": {
      "text/plain": [
       "8"
      ]
     },
     "execution_count": 123,
     "metadata": {},
     "output_type": "execute_result"
    }
   ],
   "source": [
    "user = len(stages)\n",
    "user"
   ]
  },
  {
   "cell_type": "code",
   "execution_count": 124,
   "metadata": {},
   "outputs": [
    {
     "name": "stdout",
     "output_type": "stream",
     "text": [
      "stage_remain:  1\n",
      "user:  7\n",
      "ratio:  0.125\n",
      "[(1, 0.125)]\n",
      "stage_remain:  3\n",
      "user:  4\n",
      "ratio:  0.42857142857142855\n",
      "[(1, 0.125), (2, 0.42857142857142855)]\n",
      "stage_remain:  2\n",
      "user:  2\n",
      "ratio:  0.5\n",
      "[(1, 0.125), (2, 0.42857142857142855), (3, 0.5)]\n",
      "stage_remain:  2\n",
      "user:  0\n",
      "ratio:  1.0\n",
      "[(1, 0.125), (2, 0.42857142857142855), (3, 0.5), (4, 1.0)]\n",
      "stage_remain:  0\n",
      "[(1, 0.125), (2, 0.42857142857142855), (3, 0.5), (4, 1.0), (5, 0)]\n"
     ]
    }
   ],
   "source": [
    "result = []\n",
    "\n",
    "for i in stage:\n",
    "    stage_remain = len(np.where(stages == stage[i - 1])[0])\n",
    "    print('stage_remain: ', stage_remain)\n",
    "    \n",
    "    try:\n",
    "        ratio = stage_remain / user\n",
    "        user = user - stage_remain\n",
    "        result.append((i, ratio))\n",
    "        print('user: ', user)\n",
    "        print('ratio: ', ratio)\n",
    "    except:\n",
    "        result.append((i, 0))\n",
    "        \n",
    "    print(result)"
   ]
  },
  {
   "cell_type": "code",
   "execution_count": 125,
   "metadata": {},
   "outputs": [
    {
     "data": {
      "text/plain": [
       "[(4, 1.0), (3, 0.5), (2, 0.42857142857142855), (1, 0.125), (5, 0)]"
      ]
     },
     "execution_count": 125,
     "metadata": {},
     "output_type": "execute_result"
    }
   ],
   "source": [
    "result.sort(key=lambda x: x[1], reverse=True)\n",
    "result"
   ]
  },
  {
   "cell_type": "code",
   "execution_count": 126,
   "metadata": {},
   "outputs": [
    {
     "data": {
      "text/plain": [
       "[4, 3, 2, 1, 5]"
      ]
     },
     "execution_count": 126,
     "metadata": {},
     "output_type": "execute_result"
    }
   ],
   "source": [
    "[x for (x, _) in result]"
   ]
  },
  {
   "cell_type": "code",
   "execution_count": null,
   "metadata": {},
   "outputs": [],
   "source": []
  }
 ],
 "metadata": {
  "kernelspec": {
   "display_name": "Python 3",
   "language": "python",
   "name": "python3"
  },
  "language_info": {
   "codemirror_mode": {
    "name": "ipython",
    "version": 3
   },
   "file_extension": ".py",
   "mimetype": "text/x-python",
   "name": "python",
   "nbconvert_exporter": "python",
   "pygments_lexer": "ipython3",
   "version": "3.7.7"
  }
 },
 "nbformat": 4,
 "nbformat_minor": 4
}
