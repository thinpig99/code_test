{
 "cells": [
  {
   "cell_type": "markdown",
   "id": "swiss-creature",
   "metadata": {},
   "source": [
    "# 코딩 테스트 연습 > 카카오 > 비밀지도"
   ]
  },
  {
   "cell_type": "markdown",
   "id": "departmental-protein",
   "metadata": {},
   "source": [
    "## 문제 설명\n",
    "### 비밀지도\n",
    "네오는 평소 프로도가 비상금을 숨겨놓는 장소를 알려줄 비밀지도를 손에 넣었다. 그런데 이 비밀지도는 숫자로 암호화되어 있어 위치를 확인하기 위해서는 암호를 해독해야 한다. 다행히 지도 암호를 해독할 방법을 적어놓은 메모도 함께 발견했다.\n",
    "\n",
    "지도는 한 변의 길이가 n인 정사각형 배열 형태로, 각 칸은 \"공백\"(\" \") 또는 \"벽\"(\"#\") 두 종류로 이루어져 있다.\n",
    "전체 지도는 두 장의 지도를 겹쳐서 얻을 수 있다. 각각 \"지도 1\"과 \"지도 2\"라고 하자. 지도 1 또는 지도 2 중 어느 하나라도 벽인 부분은 전체 지도에서도 벽이다. 지도 1과 지도 2에서 모두 공백인 부분은 전체 지도에서도 공백이다.\n",
    "\"지도 1\"과 \"지도 2\"는 각각 정수 배열로 암호화되어 있다.\n",
    "암호화된 배열은 지도의 각 가로줄에서 벽 부분을 1, 공백 부분을 0으로 부호화했을 때 얻어지는 이진수에 해당하는 값의 배열이다."
   ]
  },
  {
   "cell_type": "code",
   "execution_count": 7,
   "id": "handled-arthur",
   "metadata": {},
   "outputs": [],
   "source": [
    "from IPython.display import Image\n",
    "from IPython.core.display import HTML "
   ]
  },
  {
   "cell_type": "code",
   "execution_count": 8,
   "id": "arranged-multimedia",
   "metadata": {},
   "outputs": [
    {
     "data": {
      "text/html": [
       "<img src=\"http://t1.kakaocdn.net/welcome2018/secret8.png\"/>"
      ],
      "text/plain": [
       "<IPython.core.display.Image object>"
      ]
     },
     "execution_count": 8,
     "metadata": {},
     "output_type": "execute_result"
    }
   ],
   "source": [
    "Image(url='http://t1.kakaocdn.net/welcome2018/secret8.png')"
   ]
  },
  {
   "cell_type": "markdown",
   "id": "authentic-status",
   "metadata": {},
   "source": [
    "네오가 프로도의 비상금을 손에 넣을 수 있도록, 비밀지도의 암호를 해독하는 작업을 도와줄 프로그램을 작성하라."
   ]
  },
  {
   "cell_type": "markdown",
   "id": "approved-overview",
   "metadata": {},
   "source": [
    "## 입력 형식\n",
    "입력으로 지도의 한 변 크기 n 과 2개의 정수 배열 arr1, arr2가 들어온다.\n",
    "\n",
    "- 1 ≦ n ≦ 16\n",
    "- arr1, arr2는 길이 n인 정수 배열로 주어진다.\n",
    "- 정수 배열의 각 원소 x를 이진수로 변환했을 때의 길이는 n 이하이다. 즉, 0 ≦ x ≦ 2n - 1을 만족한다."
   ]
  },
  {
   "cell_type": "markdown",
   "id": "delayed-profile",
   "metadata": {},
   "source": [
    "## 출력 형식\n",
    "원래의 비밀지도를 해독하여 '#', 공백으로 구성된 문자열 배열로 출력하라."
   ]
  },
  {
   "cell_type": "markdown",
   "id": "prescription-circumstances",
   "metadata": {},
   "source": [
    "## 입출력 예제\n",
    "|매개변수|\t값|\n",
    "|---|---|\n",
    "|n|\t5|\n",
    "|arr1|\t[9, 20, 28, 18, 11]|\n",
    "|arr2|\t[30, 1, 21, 17, 28]|\n",
    "|출력|\t[\"#####\",\"# # #\", \"### #\", \"# ##\", \"#####\"]|\n",
    "|n|\t6|\n",
    "|arr1|\t[46, 33, 33 ,22, 31, 50]|\n",
    "|arr2|\t[27 ,56, 19, 14, 14, 10]|\n",
    "|출력|\t[\"######\", \"### #\", \"## ##\", \" #### \", \" #####\", \"### # \"]|"
   ]
  },
  {
   "cell_type": "markdown",
   "id": "straight-figure",
   "metadata": {},
   "source": [
    "### 아이디어\n",
    "\n",
    "직관적으로 생각해서, 어레이를 받아서 1과 0으로 된 매트릭스를 만들고\n",
    "\n",
    "두 매트릭스를 행렬합을 해서 #으로 바꿔서 제출하면 된다."
   ]
  },
  {
   "cell_type": "code",
   "execution_count": 9,
   "id": "addressed-permission",
   "metadata": {},
   "outputs": [],
   "source": [
    "import numpy as np"
   ]
  },
  {
   "cell_type": "code",
   "execution_count": 25,
   "id": "hazardous-essex",
   "metadata": {},
   "outputs": [],
   "source": [
    "n = 5\n",
    "arr1 = [9, 20, 28, 18, 11]\n",
    "arr2 = [30, 1, 21, 17, 28]"
   ]
  },
  {
   "cell_type": "code",
   "execution_count": 65,
   "id": "desirable-advisory",
   "metadata": {},
   "outputs": [],
   "source": [
    "def two(arr1, n):\n",
    "    mat = []\n",
    "    for quo in arr1:\n",
    "        two = []\n",
    "        while True:\n",
    "            quo, rem = divmod(quo, 2)\n",
    "            two.append(rem)\n",
    "            if quo == 0:\n",
    "                while len(two) != n:\n",
    "                    two.append(0)\n",
    "                two.reverse()\n",
    "                mat.append(two)\n",
    "                break\n",
    "    return mat"
   ]
  },
  {
   "cell_type": "code",
   "execution_count": 66,
   "id": "outdoor-thinking",
   "metadata": {},
   "outputs": [
    {
     "data": {
      "text/plain": [
       "array([[0, 1, 0, 0, 1],\n",
       "       [1, 0, 1, 0, 0],\n",
       "       [1, 1, 1, 0, 0],\n",
       "       [1, 0, 0, 1, 0],\n",
       "       [0, 1, 0, 1, 1]])"
      ]
     },
     "execution_count": 66,
     "metadata": {},
     "output_type": "execute_result"
    }
   ],
   "source": [
    "ar1 = np.array(two(arr1, n))\n",
    "ar1"
   ]
  },
  {
   "cell_type": "code",
   "execution_count": 67,
   "id": "disabled-principle",
   "metadata": {},
   "outputs": [
    {
     "data": {
      "text/plain": [
       "array([[1, 1, 1, 1, 0],\n",
       "       [0, 0, 0, 0, 1],\n",
       "       [1, 0, 1, 0, 1],\n",
       "       [1, 0, 0, 0, 1],\n",
       "       [1, 1, 1, 0, 0]])"
      ]
     },
     "execution_count": 67,
     "metadata": {},
     "output_type": "execute_result"
    }
   ],
   "source": [
    "ar2 = np.array(two(arr2, n))\n",
    "ar2"
   ]
  },
  {
   "cell_type": "code",
   "execution_count": 49,
   "id": "iraqi-aluminum",
   "metadata": {},
   "outputs": [],
   "source": [
    "ar12 = ar1 + ar2"
   ]
  },
  {
   "cell_type": "code",
   "execution_count": 59,
   "id": "experimental-venezuela",
   "metadata": {},
   "outputs": [],
   "source": [
    "ar13 = np.where(ar12 > 0, '#', ' ').tolist()"
   ]
  },
  {
   "cell_type": "code",
   "execution_count": 60,
   "id": "dominant-agriculture",
   "metadata": {},
   "outputs": [
    {
     "data": {
      "text/plain": [
       "[['#', '#', '#', '#', '#'],\n",
       " ['#', ' ', '#', ' ', '#'],\n",
       " ['#', '#', '#', ' ', '#'],\n",
       " ['#', ' ', ' ', '#', '#'],\n",
       " ['#', '#', '#', '#', '#']]"
      ]
     },
     "execution_count": 60,
     "metadata": {},
     "output_type": "execute_result"
    }
   ],
   "source": [
    "ar13"
   ]
  },
  {
   "cell_type": "code",
   "execution_count": 63,
   "id": "derived-provision",
   "metadata": {},
   "outputs": [],
   "source": [
    "final = []\n",
    "for x in ar13:\n",
    "    final.append(''.join(x))"
   ]
  },
  {
   "cell_type": "code",
   "execution_count": 64,
   "id": "internal-group",
   "metadata": {},
   "outputs": [
    {
     "data": {
      "text/plain": [
       "['#####', '# # #', '### #', '#  ##', '#####']"
      ]
     },
     "execution_count": 64,
     "metadata": {},
     "output_type": "execute_result"
    }
   ],
   "source": [
    "final"
   ]
  },
  {
   "cell_type": "code",
   "execution_count": null,
   "id": "fancy-neighbor",
   "metadata": {},
   "outputs": [],
   "source": []
  }
 ],
 "metadata": {
  "kernelspec": {
   "display_name": "wyatt38",
   "language": "python",
   "name": "wyatt38"
  },
  "language_info": {
   "codemirror_mode": {
    "name": "ipython",
    "version": 3
   },
   "file_extension": ".py",
   "mimetype": "text/x-python",
   "name": "python",
   "nbconvert_exporter": "python",
   "pygments_lexer": "ipython3",
   "version": "3.8.0"
  }
 },
 "nbformat": 4,
 "nbformat_minor": 5
}
