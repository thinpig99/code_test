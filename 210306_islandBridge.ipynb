{
 "cells": [
  {
   "cell_type": "markdown",
   "id": "established-pizza",
   "metadata": {},
   "source": [
    "# 코딩 테스트 연습 > 탑욕법(Greedy) > 섬 연결하기 "
   ]
  },
  {
   "cell_type": "markdown",
   "id": "focal-dragon",
   "metadata": {},
   "source": [
    "## 문제 설명\n",
    "n개의 섬 사이에 다리를 건설하는 비용(costs)이 주어질 때, 최소의 비용으로 모든 섬이 서로 통행 가능하도록 만들 때 필요한 최소 비용을 return 하도록 solution을 완성하세요.\n",
    "\n",
    "다리를 여러 번 건너더라도, 도달할 수만 있으면 통행 가능하다고 봅니다. 예를 들어 A 섬과 B 섬 사이에 다리가 있고, B 섬과 C 섬 사이에 다리가 있으면 A 섬과 C 섬은 서로 통행 가능합니다."
   ]
  },
  {
   "cell_type": "markdown",
   "id": "social-repair",
   "metadata": {},
   "source": [
    "## 제한사항\n",
    "\n",
    "- 섬의 개수 n은 1 이상 100 이하입니다.\n",
    "- costs의 길이는 ((n-1) * n) / 2이하입니다.\n",
    "- 임의의 i에 대해, costs[i][0] 와 costs[i] [1]에는 다리가 연결되는 두 섬의 번호가 들어있고, costs[i] [2]에는 이 두 섬을 연결하는 다리를 건설할 때 드는 비용입니다.\n",
    "- 같은 연결은 두 번 주어지지 않습니다. 또한 순서가 바뀌더라도 같은 연결로 봅니다. 즉 0과 1 사이를 연결하는 비용이 주어졌을 때, 1과 0의 비용이 주어지지 않습니다.\n",
    "- 모든 섬 사이의 다리 건설 비용이 주어지지 않습니다. 이 경우, 두 섬 사이의 건설이 불가능한 것으로 봅니다.\n",
    "- 연결할 수 없는 섬은 주어지지 않습니다."
   ]
  },
  {
   "cell_type": "markdown",
   "id": "voluntary-algeria",
   "metadata": {},
   "source": [
    "## 입출력 예\n",
    "\n",
    "|n|costs|return|\n",
    "|---|---|---|\n",
    "|4|[[0,1,1],[0,2,2],[1,2,5],[1,3,1],[2,3,8]]|4|"
   ]
  },
  {
   "cell_type": "code",
   "execution_count": 1,
   "id": "unknown-stomach",
   "metadata": {},
   "outputs": [],
   "source": [
    "def solution(n, costs):\n",
    "    answer = 0\n",
    "    return answer"
   ]
  },
  {
   "cell_type": "code",
   "execution_count": 6,
   "id": "interesting-sport",
   "metadata": {},
   "outputs": [
    {
     "data": {
      "text/plain": [
       "[[0, 1, 1], [0, 2, 2], [1, 2, 5], [1, 3, 1], [2, 3, 8]]"
      ]
     },
     "execution_count": 6,
     "metadata": {},
     "output_type": "execute_result"
    }
   ],
   "source": [
    "n = 4\n",
    "costs = [[0,1,1],[0,2,2],[1,2,5],[1,3,1],[2,3,8]]\n",
    "costs"
   ]
  },
  {
   "cell_type": "markdown",
   "id": "female-campbell",
   "metadata": {},
   "source": [
    "1. 0과 1을 연결하는데 1의 코스트가 든다.\n",
    "2. 0과 2을 연결하는데 2가 든다.\n",
    "3. 1과 2를 연결하는데 5가 든다.\n",
    "4. 1과 3을 연결하는데 1이 든다.\n",
    "5. 2와 3을 연결하는데 8이 든다."
   ]
  },
  {
   "cell_type": "code",
   "execution_count": 7,
   "id": "indirect-remark",
   "metadata": {},
   "outputs": [
    {
     "data": {
      "text/plain": [
       "6.0"
      ]
     },
     "execution_count": 7,
     "metadata": {},
     "output_type": "execute_result"
    }
   ],
   "source": [
    "((n-1)*n)/2"
   ]
  },
  {
   "cell_type": "code",
   "execution_count": 37,
   "id": "surprised-tender",
   "metadata": {},
   "outputs": [],
   "source": [
    "new_costs = [[0, 1, 2], [0, 2, 1], [0, 3, 3],\n",
    "             [1, 2, 2], [1, 3, 7], [1, 4, 3],\n",
    "             [2, 3, 4], [2, 4, 5], [3, 4, 3]]\n",
    "new_n = 5"
   ]
  },
  {
   "cell_type": "markdown",
   "id": "perfect-drilling",
   "metadata": {},
   "source": [
    "## 아이디어"
   ]
  },
  {
   "cell_type": "markdown",
   "id": "psychological-stomach",
   "metadata": {},
   "source": [
    "1. 결국 가장 낮은 코스트로 섬을 다 연결하는 방법은 모든 섬을 일렬로 연결하는 것이다. 그러면 다리는 n-1개가 된다.\n",
    "2. 코스트가 가장 낮은 다리부터 연결하는 것이다.\n",
    "3. 다리를 다 연결하면, 맨 끝의 섬은 1개씩만 남고, 가운데 섬들은 두개가 된다."
   ]
  },
  {
   "cell_type": "code",
   "execution_count": 8,
   "id": "julian-breed",
   "metadata": {},
   "outputs": [],
   "source": [
    "import numpy as np"
   ]
  },
  {
   "cell_type": "code",
   "execution_count": 10,
   "id": "hazardous-hunter",
   "metadata": {},
   "outputs": [
    {
     "data": {
      "text/plain": [
       "array([[0, 1, 1],\n",
       "       [0, 2, 2],\n",
       "       [1, 2, 5],\n",
       "       [1, 3, 1],\n",
       "       [2, 3, 8]])"
      ]
     },
     "execution_count": 10,
     "metadata": {},
     "output_type": "execute_result"
    }
   ],
   "source": [
    "ncosts = np.array(costs)\n",
    "ncosts"
   ]
  },
  {
   "cell_type": "code",
   "execution_count": 13,
   "id": "unknown-jenny",
   "metadata": {},
   "outputs": [],
   "source": [
    "import itertools"
   ]
  },
  {
   "cell_type": "code",
   "execution_count": 43,
   "id": "cubic-fault",
   "metadata": {},
   "outputs": [
    {
     "name": "stdout",
     "output_type": "stream",
     "text": [
      "([0, 1, 1], [0, 2, 2], [1, 2, 5])\n",
      "8\n",
      "([0, 1, 1], [0, 2, 2], [1, 3, 1])\n",
      "4\n",
      "([0, 1, 1], [0, 2, 2], [2, 3, 8])\n",
      "11\n",
      "([0, 1, 1], [1, 2, 5], [1, 3, 1])\n",
      "7\n",
      "([0, 1, 1], [1, 2, 5], [2, 3, 8])\n",
      "14\n",
      "([0, 1, 1], [1, 3, 1], [2, 3, 8])\n",
      "10\n",
      "([0, 2, 2], [1, 2, 5], [1, 3, 1])\n",
      "8\n",
      "([0, 2, 2], [1, 2, 5], [2, 3, 8])\n",
      "15\n",
      "([0, 2, 2], [1, 3, 1], [2, 3, 8])\n",
      "11\n",
      "([1, 2, 5], [1, 3, 1], [2, 3, 8])\n",
      "14\n"
     ]
    }
   ],
   "source": [
    "cost = []\n",
    "for i in list(itertools.combinations(costs, n-1)):\n",
    "    print(i)\n",
    "    print(np.array(i).sum(axis=0)[2])\n",
    "    cost.append(np.array(i).sum(axis=0)[2])"
   ]
  },
  {
   "cell_type": "code",
   "execution_count": 44,
   "id": "sunrise-amateur",
   "metadata": {},
   "outputs": [
    {
     "data": {
      "text/plain": [
       "4"
      ]
     },
     "execution_count": 44,
     "metadata": {},
     "output_type": "execute_result"
    }
   ],
   "source": [
    "min(cost)"
   ]
  },
  {
   "cell_type": "markdown",
   "id": "sticky-mixer",
   "metadata": {},
   "source": [
    "### 아이디어2"
   ]
  },
  {
   "cell_type": "markdown",
   "id": "everyday-pressure",
   "metadata": {},
   "source": [
    "코스트 순으로 정렬을 한 다음, 빠르게 종료한다."
   ]
  },
  {
   "cell_type": "code",
   "execution_count": 49,
   "id": "heavy-heading",
   "metadata": {},
   "outputs": [
    {
     "data": {
      "text/plain": [
       "[([0, 1, 1], [0, 2, 2], [1, 2, 5]),\n",
       " ([0, 1, 1], [0, 2, 2], [1, 3, 1]),\n",
       " ([0, 1, 1], [0, 2, 2], [2, 3, 8]),\n",
       " ([0, 1, 1], [1, 2, 5], [1, 3, 1]),\n",
       " ([0, 1, 1], [1, 2, 5], [2, 3, 8]),\n",
       " ([0, 1, 1], [1, 3, 1], [2, 3, 8]),\n",
       " ([0, 2, 2], [1, 2, 5], [1, 3, 1]),\n",
       " ([0, 2, 2], [1, 2, 5], [2, 3, 8]),\n",
       " ([0, 2, 2], [1, 3, 1], [2, 3, 8]),\n",
       " ([1, 2, 5], [1, 3, 1], [2, 3, 8])]"
      ]
     },
     "execution_count": 49,
     "metadata": {},
     "output_type": "execute_result"
    }
   ],
   "source": [
    "temp = list(itertools.combinations(costs, n-1))\n",
    "temp"
   ]
  },
  {
   "cell_type": "code",
   "execution_count": 60,
   "id": "broad-inventory",
   "metadata": {},
   "outputs": [
    {
     "data": {
      "text/plain": [
       "4"
      ]
     },
     "execution_count": 60,
     "metadata": {},
     "output_type": "execute_result"
    }
   ],
   "source": [
    "min(np.array(temp).sum(axis=1)[:,2])"
   ]
  },
  {
   "cell_type": "markdown",
   "id": "organic-transmission",
   "metadata": {},
   "source": [
    "### 아이디어3"
   ]
  },
  {
   "cell_type": "markdown",
   "id": "charitable-coaching",
   "metadata": {},
   "source": [
    "1. itertools는 시간초과로 사용하지 못합니다.\n",
    "2. set()으로 모든 섬이 들어가 있는지를 확인합니다."
   ]
  },
  {
   "cell_type": "code",
   "execution_count": 82,
   "id": "competitive-polish",
   "metadata": {},
   "outputs": [
    {
     "data": {
      "text/plain": [
       "array([[0, 1, 1],\n",
       "       [0, 2, 2],\n",
       "       [1, 2, 5],\n",
       "       [1, 3, 1],\n",
       "       [2, 3, 8]])"
      ]
     },
     "execution_count": 82,
     "metadata": {},
     "output_type": "execute_result"
    }
   ],
   "source": [
    "n = 4\n",
    "ncosts = np.array(costs)\n",
    "ncosts"
   ]
  },
  {
   "cell_type": "code",
   "execution_count": 83,
   "id": "fifteen-minimum",
   "metadata": {},
   "outputs": [
    {
     "data": {
      "text/plain": [
       "array([0, 1, 2, 3])"
      ]
     },
     "execution_count": 83,
     "metadata": {},
     "output_type": "execute_result"
    }
   ],
   "source": [
    "np.arange(n)"
   ]
  },
  {
   "cell_type": "code",
   "execution_count": 84,
   "id": "tough-denmark",
   "metadata": {},
   "outputs": [
    {
     "data": {
      "text/plain": [
       "[(0, 1, 2), (0, 1, 3), (0, 2, 3), (1, 2, 3)]"
      ]
     },
     "execution_count": 84,
     "metadata": {},
     "output_type": "execute_result"
    }
   ],
   "source": [
    "list(itertools.combinations(np.arange(n), n-1))"
   ]
  },
  {
   "cell_type": "code",
   "execution_count": 94,
   "id": "revised-surveillance",
   "metadata": {},
   "outputs": [],
   "source": [
    "cost_list = []\n",
    "for i in list(itertools.combinations(np.arange(n), n-1)):\n",
    "    if len(set(ncosts[[i],: 2].flatten())) == n: # 만일 섬이 다 들어가 있으면\n",
    "        cost_list.append(ncosts[[i], 2].sum())"
   ]
  },
  {
   "cell_type": "code",
   "execution_count": 95,
   "id": "preceding-february",
   "metadata": {},
   "outputs": [
    {
     "data": {
      "text/plain": [
       "4"
      ]
     },
     "execution_count": 95,
     "metadata": {},
     "output_type": "execute_result"
    }
   ],
   "source": [
    "int(min(cost_list))"
   ]
  },
  {
   "cell_type": "code",
   "execution_count": null,
   "id": "exposed-sheep",
   "metadata": {},
   "outputs": [],
   "source": []
  }
 ],
 "metadata": {
  "kernelspec": {
   "display_name": "Python 3",
   "language": "python",
   "name": "python3"
  },
  "language_info": {
   "codemirror_mode": {
    "name": "ipython",
    "version": 3
   },
   "file_extension": ".py",
   "mimetype": "text/x-python",
   "name": "python",
   "nbconvert_exporter": "python",
   "pygments_lexer": "ipython3",
   "version": "3.8.6"
  }
 },
 "nbformat": 4,
 "nbformat_minor": 5
}
