{
 "cells": [
  {
   "cell_type": "markdown",
   "metadata": {},
   "source": [
    "# 코딩테스트 연습 > 완전탐색 > 카펫"
   ]
  },
  {
   "cell_type": "markdown",
   "metadata": {},
   "source": [
    "## 문제 설명\n",
    "\n",
    "Leo는 카펫을 사러 갔다가 아래 그림과 같이 중앙에는 노란색으로 칠해져 있고 테두리 1줄은 갈색으로 칠해져 있는 격자 모양 카펫을 봤습니다.\n",
    "\n",
    "Leo는 집으로 돌아와서 아까 본 카펫의 노란색과 갈색으로 색칠된 격자의 개수는 기억했지만, 전체 카펫의 크기는 기억하지 못했습니다.\n",
    "\n",
    "Leo가 본 카펫에서 갈색 격자의 수 brown, 노란색 격자의 수 yellow가 매개변수로 주어질 때 카펫의 가로, 세로 크기를 순서대로 배열에 담아 return 하도록 solution 함수를 작성해주세요."
   ]
  },
  {
   "cell_type": "markdown",
   "metadata": {},
   "source": [
    "## 제한사항\n",
    "- 갈색 격자의 수 brown은 8 이상 5,000 이하인 자연수입니다.\n",
    "- 노란색 격자의 수 yellow는 1 이상 2,000,000 이하인 자연수입니다.\n",
    "- 카펫의 가로 길이는 세로 길이와 같거나, 세로 길이보다 깁니다."
   ]
  },
  {
   "cell_type": "markdown",
   "metadata": {},
   "source": [
    "## 입출력 예\n",
    "|brown|yellow|return|\n",
    "|---|---|---|\n",
    "|10|2|[4, 3]|\n",
    "|8|1|[3, 3]|\n",
    "|24|24|[8, 6]|\n",
    "|16|5|[7, 3]|"
   ]
  },
  {
   "cell_type": "markdown",
   "metadata": {},
   "source": [
    "### 아이디어"
   ]
  },
  {
   "cell_type": "markdown",
   "metadata": {},
   "source": [
    "yellow를 brown이 감싸야 하기 때문에, yellow와 brown을 합친 것을 carpet이라고 한다면,\n",
    "\n",
    "carpet과 yellow는 shape이 2씩 차이가 나게 됩니다.\n",
    "\n",
    "따라서 두 행열에서 약수를 전부 추출해서 조합을 만들고,\n",
    "\n",
    "이를 비교해서 2씩 차이가 나는 조합을 리턴합니다."
   ]
  },
  {
   "cell_type": "code",
   "execution_count": 101,
   "metadata": {},
   "outputs": [],
   "source": [
    "import numpy as np"
   ]
  },
  {
   "cell_type": "code",
   "execution_count": 225,
   "metadata": {},
   "outputs": [],
   "source": [
    "brown = 8\n",
    "yellow = 1"
   ]
  },
  {
   "cell_type": "code",
   "execution_count": 226,
   "metadata": {},
   "outputs": [
    {
     "data": {
      "text/plain": [
       "9"
      ]
     },
     "execution_count": 226,
     "metadata": {},
     "output_type": "execute_result"
    }
   ],
   "source": [
    "carpet = brown + yellow\n",
    "carpet"
   ]
  },
  {
   "cell_type": "code",
   "execution_count": 227,
   "metadata": {},
   "outputs": [],
   "source": [
    "def pair(x):\n",
    "    pair = []\n",
    "    for i in range(1, x + 1):\n",
    "        if x % i == 0:\n",
    "            pair.append(i)\n",
    "    \n",
    "    return pair"
   ]
  },
  {
   "cell_type": "code",
   "execution_count": 228,
   "metadata": {},
   "outputs": [],
   "source": [
    "def pair_2(x):\n",
    "    pair_2 = []\n",
    "    while x:\n",
    "        if len(x) > 1:\n",
    "            print('if')\n",
    "            pair_2.append([x.pop(), x.pop(0)])\n",
    "            print(x)\n",
    "        else:\n",
    "            print('else')\n",
    "            print(x)\n",
    "            pair_2.append([x[0], x[0]])\n",
    "            x = []\n",
    "    return pair_2"
   ]
  },
  {
   "cell_type": "code",
   "execution_count": 229,
   "metadata": {},
   "outputs": [
    {
     "data": {
      "text/plain": [
       "([1, 3, 9], [1])"
      ]
     },
     "execution_count": 229,
     "metadata": {},
     "output_type": "execute_result"
    }
   ],
   "source": [
    "c = pair(carpet)\n",
    "y = pair(yellow)\n",
    "c, y"
   ]
  },
  {
   "cell_type": "code",
   "execution_count": 230,
   "metadata": {},
   "outputs": [
    {
     "name": "stdout",
     "output_type": "stream",
     "text": [
      "if\n",
      "[3]\n",
      "else\n",
      "[3]\n"
     ]
    },
    {
     "data": {
      "text/plain": [
       "[[9, 1], [3, 3]]"
      ]
     },
     "execution_count": 230,
     "metadata": {},
     "output_type": "execute_result"
    }
   ],
   "source": [
    "c = pair_2(c)\n",
    "c"
   ]
  },
  {
   "cell_type": "code",
   "execution_count": 231,
   "metadata": {},
   "outputs": [
    {
     "name": "stdout",
     "output_type": "stream",
     "text": [
      "else\n",
      "[1]\n"
     ]
    },
    {
     "data": {
      "text/plain": [
       "[[1, 1]]"
      ]
     },
     "execution_count": 231,
     "metadata": {},
     "output_type": "execute_result"
    }
   ],
   "source": [
    "y = pair_2(y)\n",
    "y"
   ]
  },
  {
   "cell_type": "code",
   "execution_count": 232,
   "metadata": {},
   "outputs": [
    {
     "name": "stdout",
     "output_type": "stream",
     "text": [
      "if\n",
      "[3]\n",
      "else\n",
      "[3]\n",
      "else\n",
      "[1]\n",
      "[3, 3]\n"
     ]
    }
   ],
   "source": [
    "carpet = brown + yellow\n",
    "c = pair_2(pair(carpet))\n",
    "y = pair_2(pair(yellow))\n",
    "for h in c:\n",
    "    for j in y:\n",
    "        if np.sum(np.array(h) - np.array(j) == np.array([2, 2])) == 2:\n",
    "            print(h)"
   ]
  },
  {
   "cell_type": "code",
   "execution_count": null,
   "metadata": {},
   "outputs": [],
   "source": []
  }
 ],
 "metadata": {
  "kernelspec": {
   "display_name": "Python 3",
   "language": "python",
   "name": "python3"
  },
  "language_info": {
   "codemirror_mode": {
    "name": "ipython",
    "version": 3
   },
   "file_extension": ".py",
   "mimetype": "text/x-python",
   "name": "python",
   "nbconvert_exporter": "python",
   "pygments_lexer": "ipython3",
   "version": "3.7.7"
  }
 },
 "nbformat": 4,
 "nbformat_minor": 4
}
