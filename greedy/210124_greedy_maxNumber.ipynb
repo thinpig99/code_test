{
 "cells": [
  {
   "cell_type": "markdown",
   "metadata": {},
   "source": [
    "# 코딩테스트 연습 > 그리디 > 큰 수 만들기"
   ]
  },
  {
   "cell_type": "markdown",
   "metadata": {},
   "source": [
    "본 문제의 저작권은 주식회사 프로그래머스에 있습니다. 문제를 풀고 싶으시다면 해당 회사의 웹사이트로 가시면 됩니다."
   ]
  },
  {
   "cell_type": "markdown",
   "metadata": {},
   "source": [
    "## 문제 설명\n",
    "어떤 숫자에서 k개의 수를 제거했을 때 얻을 수 있는 가장 큰 숫자를 구하려 합니다.\n",
    "\n",
    "예를 들어, 숫자 1924에서 수 두 개를 제거하면 [19, 12, 14, 92, 94, 24] 를 만들 수 있습니다. 이 중 가장 큰 숫자는 94 입니다.\n",
    "\n",
    "문자열 형식으로 숫자 number와 제거할 수의 개수 k가 solution 함수의 매개변수로 주어집니다. number에서 k 개의 수를 제거했을 때 만들 수 있는 수 중 가장 큰 숫자를 문자열 형태로 return 하도록 solution 함수를 완성하세요.\n",
    "\n",
    "## 제한 조건\n",
    "number는 1자리 이상, 1,000,000자리 이하인 숫자입니다.\n",
    "\n",
    "k는 1 이상 number의 자릿수 미만인 자연수입니다.\n",
    "\n",
    "### 입출력 예\n",
    "- number\tk\treturn\n",
    "- '1924' /2 /94\n",
    "- '1231234' /3 /3234\n",
    "- '4177252841' /4 /775841"
   ]
  },
  {
   "cell_type": "code",
   "execution_count": 1,
   "metadata": {},
   "outputs": [],
   "source": [
    "import numpy as np"
   ]
  },
  {
   "cell_type": "code",
   "execution_count": 201,
   "metadata": {},
   "outputs": [],
   "source": [
    "number = '4177252841'\n",
    "k = 4"
   ]
  },
  {
   "cell_type": "code",
   "execution_count": 194,
   "metadata": {},
   "outputs": [],
   "source": [
    "number = '1924'\n",
    "k = 2"
   ]
  },
  {
   "cell_type": "code",
   "execution_count": 198,
   "metadata": {},
   "outputs": [],
   "source": [
    "number = '1231234'\n",
    "k = 3"
   ]
  },
  {
   "cell_type": "code",
   "execution_count": 202,
   "metadata": {},
   "outputs": [],
   "source": [
    "def solution(number, k):\n",
    "    outlen = len(number) - k\n",
    "    out = []\n",
    "    \n",
    "    numbers = np.array([int(x) for x in number])\n",
    "    new_numbers = numbers.copy()\n",
    "    \n",
    "    for i in range(outlen):\n",
    "        try:\n",
    "            print('len(new_numbers): ', len(new_numbers))\n",
    "            print('new_numbers: ', new_numbers)\n",
    "            idx = np.argmax(new_numbers[:-outlen + (i+1)])\n",
    "            print('idx_numbers: ', new_numbers[:-outlen + (i+1)])\n",
    "            out.append(new_numbers[idx])\n",
    "            print('out: ', out)\n",
    "            new_numbers = new_numbers[idx+1:]\n",
    "\n",
    "            if len(new_numbers) == outlen - len(out):\n",
    "                for x in new_numbers:\n",
    "                    out.append(x)\n",
    "                break\n",
    "        except:\n",
    "            out.append(np.max(new_numbers))\n",
    "    \n",
    "    answer = ''.join(str(x) for x in out)\n",
    "    return answer"
   ]
  },
  {
   "cell_type": "code",
   "execution_count": 203,
   "metadata": {},
   "outputs": [
    {
     "name": "stdout",
     "output_type": "stream",
     "text": [
      "len(new_numbers):  10\n",
      "new_numbers:  [4 1 7 7 2 5 2 8 4 1]\n",
      "idx_numbers:  [4 1 7 7 2]\n",
      "out:  [7]\n",
      "len(new_numbers):  7\n",
      "new_numbers:  [7 2 5 2 8 4 1]\n",
      "idx_numbers:  [7 2 5]\n",
      "out:  [7, 7]\n",
      "len(new_numbers):  6\n",
      "new_numbers:  [2 5 2 8 4 1]\n",
      "idx_numbers:  [2 5 2]\n",
      "out:  [7, 7, 5]\n",
      "len(new_numbers):  4\n",
      "new_numbers:  [2 8 4 1]\n",
      "idx_numbers:  [2 8]\n",
      "out:  [7, 7, 5, 8]\n"
     ]
    },
    {
     "data": {
      "text/plain": [
       "'775841'"
      ]
     },
     "execution_count": 203,
     "metadata": {},
     "output_type": "execute_result"
    }
   ],
   "source": [
    "solution(number, k)"
   ]
  },
  {
   "cell_type": "code",
   "execution_count": null,
   "metadata": {},
   "outputs": [],
   "source": []
  }
 ],
 "metadata": {
  "kernelspec": {
   "display_name": "Python 3",
   "language": "python",
   "name": "python3"
  },
  "language_info": {
   "codemirror_mode": {
    "name": "ipython",
    "version": 3
   },
   "file_extension": ".py",
   "mimetype": "text/x-python",
   "name": "python",
   "nbconvert_exporter": "python",
   "pygments_lexer": "ipython3",
   "version": "3.7.7"
  }
 },
 "nbformat": 4,
 "nbformat_minor": 4
}
