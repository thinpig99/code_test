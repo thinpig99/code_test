{
 "cells": [
  {
   "cell_type": "markdown",
   "id": "established-pizza",
   "metadata": {},
   "source": [
    "# 코딩 테스트 연습 > 탑욕법(Greedy) > 섬 연결하기 "
   ]
  },
  {
   "cell_type": "markdown",
   "id": "focal-dragon",
   "metadata": {},
   "source": [
    "## 문제 설명\n",
    "n개의 섬 사이에 다리를 건설하는 비용(costs)이 주어질 때, 최소의 비용으로 모든 섬이 서로 통행 가능하도록 만들 때 필요한 최소 비용을 return 하도록 solution을 완성하세요.\n",
    "\n",
    "다리를 여러 번 건너더라도, 도달할 수만 있으면 통행 가능하다고 봅니다. 예를 들어 A 섬과 B 섬 사이에 다리가 있고, B 섬과 C 섬 사이에 다리가 있으면 A 섬과 C 섬은 서로 통행 가능합니다."
   ]
  },
  {
   "cell_type": "markdown",
   "id": "social-repair",
   "metadata": {},
   "source": [
    "## 제한사항\n",
    "\n",
    "- 섬의 개수 n은 1 이상 100 이하입니다.\n",
    "- costs의 길이는 ((n-1) * n) / 2이하입니다.\n",
    "- 임의의 i에 대해, costs[i][0] 와 costs[i] [1]에는 다리가 연결되는 두 섬의 번호가 들어있고, costs[i] [2]에는 이 두 섬을 연결하는 다리를 건설할 때 드는 비용입니다.\n",
    "- 같은 연결은 두 번 주어지지 않습니다. 또한 순서가 바뀌더라도 같은 연결로 봅니다. 즉 0과 1 사이를 연결하는 비용이 주어졌을 때, 1과 0의 비용이 주어지지 않습니다.\n",
    "- 모든 섬 사이의 다리 건설 비용이 주어지지 않습니다. 이 경우, 두 섬 사이의 건설이 불가능한 것으로 봅니다.\n",
    "- 연결할 수 없는 섬은 주어지지 않습니다."
   ]
  },
  {
   "cell_type": "markdown",
   "id": "voluntary-algeria",
   "metadata": {},
   "source": [
    "## 입출력 예\n",
    "\n",
    "|n|costs|return|\n",
    "|---|---|---|\n",
    "|4|[[0,1,1],[0,2,2],[1,2,5],[1,3,1],[2,3,8]]|4|"
   ]
  },
  {
   "cell_type": "code",
   "execution_count": 1,
   "id": "unknown-stomach",
   "metadata": {},
   "outputs": [],
   "source": [
    "def solution(n, costs):\n",
    "    answer = 0\n",
    "    return answer"
   ]
  },
  {
   "cell_type": "code",
   "execution_count": 6,
   "id": "interesting-sport",
   "metadata": {},
   "outputs": [
    {
     "data": {
      "text/plain": [
       "[[0, 1, 1], [0, 2, 2], [1, 2, 5], [1, 3, 1], [2, 3, 8]]"
      ]
     },
     "execution_count": 6,
     "metadata": {},
     "output_type": "execute_result"
    }
   ],
   "source": [
    "n = 4\n",
    "costs = [[0,1,1],[0,2,2],[1,2,5],[1,3,1],[2,3,8]]\n",
    "costs"
   ]
  },
  {
   "cell_type": "markdown",
   "id": "female-campbell",
   "metadata": {},
   "source": [
    "1. 0과 1을 연결하는데 1의 코스트가 든다.\n",
    "2. 0과 2을 연결하는데 2가 든다.\n",
    "3. 1과 2를 연결하는데 5가 든다.\n",
    "4. 1과 3을 연결하는데 1이 든다.\n",
    "5. 2와 3을 연결하는데 8이 든다."
   ]
  },
  {
   "cell_type": "markdown",
   "id": "perfect-drilling",
   "metadata": {},
   "source": [
    "## 아이디어"
   ]
  },
  {
   "cell_type": "markdown",
   "id": "psychological-stomach",
   "metadata": {},
   "source": [
    "1. 결국 가장 낮은 코스트로 섬을 다 연결하는 방법은 모든 섬을 일렬로 연결하는 것이다. 그러면 다리는 n-1개가 된다.\n",
    "2. 코스트가 가장 낮은 다리부터 연결하는 것이다.\n",
    "3. 다리를 다 연결하면, 맨 끝의 섬은 1개씩만 남고, 가운데 섬들은 두개가 된다."
   ]
  },
  {
   "cell_type": "code",
   "execution_count": 8,
   "id": "julian-breed",
   "metadata": {},
   "outputs": [],
   "source": [
    "import numpy as np"
   ]
  },
  {
   "cell_type": "code",
   "execution_count": 10,
   "id": "hazardous-hunter",
   "metadata": {},
   "outputs": [
    {
     "data": {
      "text/plain": [
       "array([[0, 1, 1],\n",
       "       [0, 2, 2],\n",
       "       [1, 2, 5],\n",
       "       [1, 3, 1],\n",
       "       [2, 3, 8]])"
      ]
     },
     "execution_count": 10,
     "metadata": {},
     "output_type": "execute_result"
    }
   ],
   "source": [
    "ncosts = np.array(costs)\n",
    "ncosts"
   ]
  },
  {
   "cell_type": "code",
   "execution_count": 13,
   "id": "unknown-jenny",
   "metadata": {},
   "outputs": [],
   "source": [
    "import itertools"
   ]
  },
  {
   "cell_type": "code",
   "execution_count": 43,
   "id": "cubic-fault",
   "metadata": {},
   "outputs": [
    {
     "name": "stdout",
     "output_type": "stream",
     "text": [
      "([0, 1, 1], [0, 2, 2], [1, 2, 5])\n",
      "8\n",
      "([0, 1, 1], [0, 2, 2], [1, 3, 1])\n",
      "4\n",
      "([0, 1, 1], [0, 2, 2], [2, 3, 8])\n",
      "11\n",
      "([0, 1, 1], [1, 2, 5], [1, 3, 1])\n",
      "7\n",
      "([0, 1, 1], [1, 2, 5], [2, 3, 8])\n",
      "14\n",
      "([0, 1, 1], [1, 3, 1], [2, 3, 8])\n",
      "10\n",
      "([0, 2, 2], [1, 2, 5], [1, 3, 1])\n",
      "8\n",
      "([0, 2, 2], [1, 2, 5], [2, 3, 8])\n",
      "15\n",
      "([0, 2, 2], [1, 3, 1], [2, 3, 8])\n",
      "11\n",
      "([1, 2, 5], [1, 3, 1], [2, 3, 8])\n",
      "14\n"
     ]
    }
   ],
   "source": [
    "cost = []\n",
    "for i in list(itertools.combinations(costs, n-1)):\n",
    "    print(i)\n",
    "    print(np.array(i).sum(axis=0)[2])\n",
    "    cost.append(np.array(i).sum(axis=0)[2])"
   ]
  },
  {
   "cell_type": "code",
   "execution_count": 44,
   "id": "sunrise-amateur",
   "metadata": {},
   "outputs": [
    {
     "data": {
      "text/plain": [
       "4"
      ]
     },
     "execution_count": 44,
     "metadata": {},
     "output_type": "execute_result"
    }
   ],
   "source": [
    "min(cost)"
   ]
  },
  {
   "cell_type": "markdown",
   "id": "sticky-mixer",
   "metadata": {},
   "source": [
    "### 아이디어2"
   ]
  },
  {
   "cell_type": "markdown",
   "id": "everyday-pressure",
   "metadata": {},
   "source": [
    "코스트 순으로 정렬을 한 다음, 빠르게 종료한다."
   ]
  },
  {
   "cell_type": "code",
   "execution_count": 49,
   "id": "heavy-heading",
   "metadata": {},
   "outputs": [
    {
     "data": {
      "text/plain": [
       "[([0, 1, 1], [0, 2, 2], [1, 2, 5]),\n",
       " ([0, 1, 1], [0, 2, 2], [1, 3, 1]),\n",
       " ([0, 1, 1], [0, 2, 2], [2, 3, 8]),\n",
       " ([0, 1, 1], [1, 2, 5], [1, 3, 1]),\n",
       " ([0, 1, 1], [1, 2, 5], [2, 3, 8]),\n",
       " ([0, 1, 1], [1, 3, 1], [2, 3, 8]),\n",
       " ([0, 2, 2], [1, 2, 5], [1, 3, 1]),\n",
       " ([0, 2, 2], [1, 2, 5], [2, 3, 8]),\n",
       " ([0, 2, 2], [1, 3, 1], [2, 3, 8]),\n",
       " ([1, 2, 5], [1, 3, 1], [2, 3, 8])]"
      ]
     },
     "execution_count": 49,
     "metadata": {},
     "output_type": "execute_result"
    }
   ],
   "source": [
    "temp = list(itertools.combinations(costs, n-1))\n",
    "temp"
   ]
  },
  {
   "cell_type": "code",
   "execution_count": 60,
   "id": "broad-inventory",
   "metadata": {},
   "outputs": [
    {
     "data": {
      "text/plain": [
       "4"
      ]
     },
     "execution_count": 60,
     "metadata": {},
     "output_type": "execute_result"
    }
   ],
   "source": [
    "min(np.array(temp).sum(axis=1)[:,2])"
   ]
  },
  {
   "cell_type": "markdown",
   "id": "organic-transmission",
   "metadata": {},
   "source": [
    "### 아이디어3"
   ]
  },
  {
   "cell_type": "markdown",
   "id": "charitable-coaching",
   "metadata": {},
   "source": [
    "1. itertools는 시간초과로 사용하지 못합니다.\n",
    "2. set()으로 모든 섬이 들어가 있는지를 확인합니다."
   ]
  },
  {
   "cell_type": "code",
   "execution_count": 82,
   "id": "competitive-polish",
   "metadata": {},
   "outputs": [
    {
     "data": {
      "text/plain": [
       "array([[0, 1, 1],\n",
       "       [0, 2, 2],\n",
       "       [1, 2, 5],\n",
       "       [1, 3, 1],\n",
       "       [2, 3, 8]])"
      ]
     },
     "execution_count": 82,
     "metadata": {},
     "output_type": "execute_result"
    }
   ],
   "source": [
    "n = 4\n",
    "ncosts = np.array(costs)\n",
    "ncosts"
   ]
  },
  {
   "cell_type": "code",
   "execution_count": 83,
   "id": "fifteen-minimum",
   "metadata": {},
   "outputs": [
    {
     "data": {
      "text/plain": [
       "array([0, 1, 2, 3])"
      ]
     },
     "execution_count": 83,
     "metadata": {},
     "output_type": "execute_result"
    }
   ],
   "source": [
    "np.arange(n)"
   ]
  },
  {
   "cell_type": "code",
   "execution_count": 84,
   "id": "tough-denmark",
   "metadata": {},
   "outputs": [
    {
     "data": {
      "text/plain": [
       "[(0, 1, 2), (0, 1, 3), (0, 2, 3), (1, 2, 3)]"
      ]
     },
     "execution_count": 84,
     "metadata": {},
     "output_type": "execute_result"
    }
   ],
   "source": [
    "list(itertools.combinations(np.arange(n), n-1))"
   ]
  },
  {
   "cell_type": "code",
   "execution_count": 94,
   "id": "revised-surveillance",
   "metadata": {},
   "outputs": [],
   "source": [
    "cost_list = []\n",
    "for i in list(itertools.combinations(np.arange(n), n-1)):\n",
    "    if len(set(ncosts[[i],: 2].flatten())) == n: # 만일 섬이 다 들어가 있으면\n",
    "        cost_list.append(ncosts[[i], 2].sum())"
   ]
  },
  {
   "cell_type": "code",
   "execution_count": 95,
   "id": "preceding-february",
   "metadata": {},
   "outputs": [
    {
     "data": {
      "text/plain": [
       "4"
      ]
     },
     "execution_count": 95,
     "metadata": {},
     "output_type": "execute_result"
    }
   ],
   "source": [
    "int(min(cost_list))"
   ]
  },
  {
   "cell_type": "markdown",
   "id": "steady-proceeding",
   "metadata": {},
   "source": [
    "### 뉴 아이디어"
   ]
  },
  {
   "cell_type": "markdown",
   "id": "incorporate-integral",
   "metadata": {},
   "source": [
    "itertools를 쓰지 않고 맨 낮은 코스트부터 조합으로 하다가 멈추면 어때?!"
   ]
  },
  {
   "cell_type": "code",
   "execution_count": 1,
   "id": "ranging-columbia",
   "metadata": {},
   "outputs": [
    {
     "data": {
      "text/plain": [
       "[[0, 1, 1], [0, 2, 2], [1, 2, 5], [1, 3, 1], [2, 3, 8]]"
      ]
     },
     "execution_count": 1,
     "metadata": {},
     "output_type": "execute_result"
    }
   ],
   "source": [
    "n = 4\n",
    "costs = [[0,1,1],[0,2,2],[1,2,5],[1,3,1],[2,3,8]]\n",
    "costs"
   ]
  },
  {
   "cell_type": "code",
   "execution_count": 2,
   "id": "suited-wisconsin",
   "metadata": {},
   "outputs": [],
   "source": [
    "costs.sort(key=lambda x: x[2])"
   ]
  },
  {
   "cell_type": "code",
   "execution_count": 3,
   "id": "portuguese-ecology",
   "metadata": {
    "scrolled": true
   },
   "outputs": [
    {
     "data": {
      "text/plain": [
       "[[0, 1, 1], [1, 3, 1], [0, 2, 2], [1, 2, 5], [2, 3, 8]]"
      ]
     },
     "execution_count": 3,
     "metadata": {},
     "output_type": "execute_result"
    }
   ],
   "source": [
    "costs"
   ]
  },
  {
   "cell_type": "markdown",
   "id": "silent-fabric",
   "metadata": {},
   "source": [
    "### 혜인이 답안"
   ]
  },
  {
   "cell_type": "code",
   "execution_count": 4,
   "id": "consistent-regression",
   "metadata": {},
   "outputs": [
    {
     "data": {
      "text/plain": [
       "[[0, 1, 1], [0, 2, 2], [1, 2, 5], [1, 3, 1], [2, 3, 8]]"
      ]
     },
     "execution_count": 4,
     "metadata": {},
     "output_type": "execute_result"
    }
   ],
   "source": [
    "n = 4\n",
    "costs = [[0,1,1],[0,2,2],[1,2,5],[1,3,1],[2,3,8]]\n",
    "costs"
   ]
  },
  {
   "cell_type": "code",
   "execution_count": 14,
   "id": "spectacular-pollution",
   "metadata": {},
   "outputs": [
    {
     "name": "stdout",
     "output_type": "stream",
     "text": [
      "start cost_way is:  [(0, 1), (0, 2), (1, 2), (1, 3), (2, 3)]\n",
      "----------------------------------------------------------------------------------------------------\n",
      "start_way is:  (0, 1)\n",
      "new cost_way is:  [(0, 1), (0, 2), (1, 2), (1, 3), (2, 3)]\n",
      "way_cost_dict is:  {(0, 1): 1, (0, 2): 2, (1, 2): 5, (1, 3): 1, (2, 3): 8}\n",
      "connected_group is:  [0, 1]\n",
      "total_cost is:  1\n",
      "deleted way_cost_dict:  {(0, 2): 2, (1, 2): 5, (1, 3): 1, (2, 3): 8}\n",
      "candidate_ways is:  [(0, 2)]\n",
      "candidate_ways is:  [(0, 2), (1, 2), (1, 3)]\n",
      "min_way is:  (1, 3)\n",
      "candidate_ways is:  [(0, 2)]\n",
      "candidate_ways is:  [(0, 2), (1, 2)]\n",
      "candidate_ways is:  [(0, 2), (1, 2), (2, 3)]\n",
      "min_way is:  (0, 2)\n",
      "----------------------------------------------------------------------------------------------------\n",
      "start_way is:  (0, 2)\n",
      "new cost_way is:  [(0, 1), (0, 2), (1, 2), (1, 3), (2, 3)]\n",
      "way_cost_dict is:  {(0, 1): 1, (0, 2): 2, (1, 2): 5, (1, 3): 1, (2, 3): 8}\n",
      "connected_group is:  [0, 2]\n",
      "total_cost is:  2\n",
      "deleted way_cost_dict:  {(0, 1): 1, (1, 2): 5, (1, 3): 1, (2, 3): 8}\n",
      "candidate_ways is:  [(0, 1)]\n",
      "candidate_ways is:  [(0, 1), (1, 2), (2, 3)]\n",
      "min_way is:  (0, 1)\n",
      "candidate_ways is:  []\n",
      "candidate_ways is:  [(1, 2), (1, 3)]\n",
      "candidate_ways is:  [(1, 2), (1, 3), (1, 2), (2, 3)]\n",
      "min_way is:  (1, 3)\n",
      "----------------------------------------------------------------------------------------------------\n",
      "start_way is:  (1, 2)\n",
      "new cost_way is:  [(0, 1), (0, 2), (1, 2), (1, 3), (2, 3)]\n",
      "way_cost_dict is:  {(0, 1): 1, (0, 2): 2, (1, 2): 5, (1, 3): 1, (2, 3): 8}\n",
      "connected_group is:  [1, 2]\n",
      "total_cost is:  5\n",
      "deleted way_cost_dict:  {(0, 1): 1, (0, 2): 2, (1, 3): 1, (2, 3): 8}\n",
      "candidate_ways is:  [(0, 1), (1, 3)]\n",
      "candidate_ways is:  [(0, 1), (1, 3), (0, 2), (2, 3)]\n",
      "min_way is:  (0, 1)\n",
      "candidate_ways is:  [(0, 2)]\n",
      "candidate_ways is:  [(0, 2), (1, 3)]\n",
      "candidate_ways is:  [(0, 2), (1, 3), (0, 2), (2, 3)]\n",
      "min_way is:  (1, 3)\n",
      "----------------------------------------------------------------------------------------------------\n",
      "start_way is:  (1, 3)\n",
      "new cost_way is:  [(0, 1), (0, 2), (1, 2), (1, 3), (2, 3)]\n",
      "way_cost_dict is:  {(0, 1): 1, (0, 2): 2, (1, 2): 5, (1, 3): 1, (2, 3): 8}\n",
      "connected_group is:  [1, 3]\n",
      "total_cost is:  1\n",
      "deleted way_cost_dict:  {(0, 1): 1, (0, 2): 2, (1, 2): 5, (2, 3): 8}\n",
      "candidate_ways is:  [(0, 1), (1, 2)]\n",
      "candidate_ways is:  [(0, 1), (1, 2), (2, 3)]\n",
      "min_way is:  (0, 1)\n",
      "candidate_ways is:  [(0, 2)]\n",
      "candidate_ways is:  [(0, 2), (1, 2)]\n",
      "candidate_ways is:  [(0, 2), (1, 2), (2, 3)]\n",
      "min_way is:  (0, 2)\n",
      "----------------------------------------------------------------------------------------------------\n",
      "start_way is:  (2, 3)\n",
      "new cost_way is:  [(0, 1), (0, 2), (1, 2), (1, 3), (2, 3)]\n",
      "way_cost_dict is:  {(0, 1): 1, (0, 2): 2, (1, 2): 5, (1, 3): 1, (2, 3): 8}\n",
      "connected_group is:  [2, 3]\n",
      "total_cost is:  8\n",
      "deleted way_cost_dict:  {(0, 1): 1, (0, 2): 2, (1, 2): 5, (1, 3): 1}\n",
      "candidate_ways is:  [(0, 2), (1, 2)]\n",
      "candidate_ways is:  [(0, 2), (1, 2), (1, 3)]\n",
      "min_way is:  (1, 3)\n",
      "candidate_ways is:  [(0, 1), (1, 2)]\n",
      "candidate_ways is:  [(0, 1), (1, 2), (0, 2), (1, 2)]\n",
      "candidate_ways is:  [(0, 1), (1, 2), (0, 2), (1, 2)]\n",
      "min_way is:  (0, 1)\n",
      "----------------------------------------------------------------------------------------------------\n"
     ]
    },
    {
     "data": {
      "text/plain": [
       "4"
      ]
     },
     "execution_count": 14,
     "metadata": {},
     "output_type": "execute_result"
    }
   ],
   "source": [
    "answer = []\n",
    "cost_way = [tuple(x[:2]) for x in costs] #경로 정보 init\n",
    "print(\"start cost_way is: \", cost_way)\n",
    "print(\"-\"*100)\n",
    "\n",
    "for start_way in cost_way:\n",
    "    print(\"start_way is: \", start_way)\n",
    "    cost_way = [tuple(x[:2]) for x in costs] # cost way를 다시 정의해준다.\n",
    "    print(\"new cost_way is: \", cost_way)\n",
    "    \n",
    "    way_cost_dict = {tuple(x[:2]):x[2] for x in costs}\n",
    "    print(\"way_cost_dict is: \", way_cost_dict)\n",
    "    \n",
    "    cost_way.remove(start_way) # 사용한 다리는 지운다.\n",
    "    connected_group  = list(start_way)\n",
    "    print(\"connected_group is: \", connected_group)\n",
    "    total_cost = way_cost_dict[start_way]\n",
    "    print(\"total_cost is: \", total_cost)\n",
    "    del way_cost_dict[start_way]\n",
    "    print(\"deleted way_cost_dict: \", way_cost_dict)\n",
    "\n",
    "    while len(connected_group) != n: # connected group 이 n의 길이와 다르면\n",
    "        candidate_ways =[]\n",
    "        for i in connected_group:\n",
    "            candidate_ways.extend(list(filter(lambda x: i in x, cost_way)))\n",
    "            # append는 요소 그대로 하나의 요소로 투입, extend는 요소를 펼쳐서 다수의 요소들로 투입.\n",
    "            print(\"candidate_ways is: \", candidate_ways)\n",
    "            \n",
    "        min_way = min(candidate_ways, key=lambda x: way_cost_dict[x])\n",
    "        print(\"min_way is: \", min_way)\n",
    "         \n",
    "        if set(min_way).intersection(set(connected_group)) != set(min_way):            \n",
    "            connected_group.extend(list(min_way))\n",
    "            connected_group = list(set(connected_group))\n",
    "            total_cost+= way_cost_dict[min_way]\n",
    "            \n",
    "        del way_cost_dict[min_way]\n",
    "        \n",
    "        cost_way.remove(min_way)\n",
    "        \n",
    "    answer.append(total_cost)\n",
    "    \n",
    "    print(\"-\"*100)\n",
    "min(answer)"
   ]
  },
  {
   "cell_type": "code",
   "execution_count": null,
   "id": "european-bachelor",
   "metadata": {},
   "outputs": [],
   "source": []
  }
 ],
 "metadata": {
  "kernelspec": {
   "display_name": "Python 3",
   "language": "python",
   "name": "python3"
  },
  "language_info": {
   "codemirror_mode": {
    "name": "ipython",
    "version": 3
   },
   "file_extension": ".py",
   "mimetype": "text/x-python",
   "name": "python",
   "nbconvert_exporter": "python",
   "pygments_lexer": "ipython3",
   "version": "3.8.6"
  }
 },
 "nbformat": 4,
 "nbformat_minor": 5
}
