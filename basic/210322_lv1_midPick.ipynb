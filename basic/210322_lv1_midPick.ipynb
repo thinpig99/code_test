{
 "cells": [
  {
   "cell_type": "markdown",
   "id": "alternate-planet",
   "metadata": {},
   "source": [
    "# 코딩 테스트 연습 > 연습문제 > 가운데 글자 가져오기"
   ]
  },
  {
   "cell_type": "markdown",
   "id": "aware-preview",
   "metadata": {},
   "source": [
    "## 문제 설명\n",
    "단어 s의 가운데 글자를 반환하는 함수, solution을 만들어 보세요. 단어의 길이가 짝수라면 가운데 두글자를 반환하면 됩니다."
   ]
  },
  {
   "cell_type": "markdown",
   "id": "continent-trustee",
   "metadata": {},
   "source": [
    "## 제한사항\n",
    "- s는 길이가 1 이상, 100이하인 스트링입니다."
   ]
  },
  {
   "cell_type": "markdown",
   "id": "regular-return",
   "metadata": {},
   "source": [
    "## 입출력 예\n",
    "|s|\treturn|\n",
    "|---|---|\n",
    "|\"abcde\"|\t\"c\"|\n",
    "|\"qwer\"|\t\"we\"|"
   ]
  },
  {
   "cell_type": "code",
   "execution_count": 5,
   "id": "cardiac-invention",
   "metadata": {},
   "outputs": [],
   "source": [
    "s = 'abcde'"
   ]
  },
  {
   "cell_type": "code",
   "execution_count": 11,
   "id": "respected-projector",
   "metadata": {},
   "outputs": [],
   "source": [
    "def solution(s):\n",
    "    l = len(s)\n",
    "    if l % 2 == 0:\n",
    "        answer = s[(l//2)-1: l//2 +1]\n",
    "    else:\n",
    "        answer = s[l//2]\n",
    "    return answer"
   ]
  },
  {
   "cell_type": "code",
   "execution_count": 12,
   "id": "surprising-colon",
   "metadata": {},
   "outputs": [
    {
     "data": {
      "text/plain": [
       "'c'"
      ]
     },
     "execution_count": 12,
     "metadata": {},
     "output_type": "execute_result"
    }
   ],
   "source": [
    "solution(s)"
   ]
  },
  {
   "cell_type": "code",
   "execution_count": 13,
   "id": "public-relation",
   "metadata": {},
   "outputs": [
    {
     "data": {
      "text/plain": [
       "'we'"
      ]
     },
     "execution_count": 13,
     "metadata": {},
     "output_type": "execute_result"
    }
   ],
   "source": [
    "solution('qwer')"
   ]
  },
  {
   "cell_type": "code",
   "execution_count": null,
   "id": "military-plasma",
   "metadata": {},
   "outputs": [],
   "source": []
  }
 ],
 "metadata": {
  "kernelspec": {
   "display_name": "wyatt38",
   "language": "python",
   "name": "wyatt38"
  },
  "language_info": {
   "codemirror_mode": {
    "name": "ipython",
    "version": 3
   },
   "file_extension": ".py",
   "mimetype": "text/x-python",
   "name": "python",
   "nbconvert_exporter": "python",
   "pygments_lexer": "ipython3",
   "version": "3.8.0"
  }
 },
 "nbformat": 4,
 "nbformat_minor": 5
}
