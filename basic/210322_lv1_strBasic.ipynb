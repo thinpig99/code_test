{
 "cells": [
  {
   "cell_type": "markdown",
   "id": "fifth-chance",
   "metadata": {},
   "source": [
    "# 코딩 테스트 연습 > 연습문제 > 문자열 다루기 기본"
   ]
  },
  {
   "cell_type": "markdown",
   "id": "worst-chance",
   "metadata": {},
   "source": [
    "## 문제 설명\n",
    "문자열 s의 길이가 4 혹은 6이고, 숫자로만 구성돼있는지 확인해주는 함수, solution을 완성하세요. 예를 들어 s가 \"a234\"이면 False를 리턴하고 \"1234\"라면 True를 리턴하면 됩니다."
   ]
  },
  {
   "cell_type": "markdown",
   "id": "attempted-independence",
   "metadata": {},
   "source": [
    "## 제한 사항\n",
    "- s는 길이 1 이상, 길이 8 이하인 문자열입니다."
   ]
  },
  {
   "cell_type": "markdown",
   "id": "crude-presentation",
   "metadata": {},
   "source": [
    "## 입출력 예\n",
    "|s|\treturn|\n",
    "|---|---|\n",
    "|\"a234\"|\tfalse|\n",
    "|\"1234\"|\ttrue|"
   ]
  },
  {
   "cell_type": "markdown",
   "id": "hairy-episode",
   "metadata": {},
   "source": [
    "문자열 길이가 4 혹은 6이어야 합니다."
   ]
  },
  {
   "cell_type": "code",
   "execution_count": 1,
   "id": "reasonable-thousand",
   "metadata": {},
   "outputs": [],
   "source": [
    "import re\n",
    "def solution(s):\n",
    "    num = re.findall('[0-9]+', s)\n",
    "    if len(''.join([x for x in num])) == len(s) and len(s) == 4 or len(s) == 6:\n",
    "        return True\n",
    "    else:\n",
    "        return False"
   ]
  },
  {
   "cell_type": "markdown",
   "id": "bacterial-twenty",
   "metadata": {},
   "source": [
    "이런 방법도 있습니다."
   ]
  },
  {
   "cell_type": "code",
   "execution_count": 52,
   "id": "restricted-admission",
   "metadata": {},
   "outputs": [],
   "source": [
    "def alpha_string46(s):\n",
    "    return s.isdigit() and len(s) in (4, 6)"
   ]
  },
  {
   "cell_type": "code",
   "execution_count": null,
   "id": "convertible-content",
   "metadata": {},
   "outputs": [],
   "source": []
  }
 ],
 "metadata": {
  "kernelspec": {
   "display_name": "Python 3",
   "language": "python",
   "name": "python3"
  },
  "language_info": {
   "codemirror_mode": {
    "name": "ipython",
    "version": 3
   },
   "file_extension": ".py",
   "mimetype": "text/x-python",
   "name": "python",
   "nbconvert_exporter": "python",
   "pygments_lexer": "ipython3",
   "version": "3.8.8"
  }
 },
 "nbformat": 4,
 "nbformat_minor": 5
}
