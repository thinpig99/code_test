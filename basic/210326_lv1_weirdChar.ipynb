{
 "cells": [
  {
   "cell_type": "markdown",
   "id": "interpreted-carolina",
   "metadata": {},
   "source": [
    "# 코딩 테스트 연습 > 연습문제 > 이상한 문자 만들기"
   ]
  },
  {
   "cell_type": "markdown",
   "id": "descending-parts",
   "metadata": {},
   "source": [
    "문제 설명\n",
    "문자열 s는 한 개 이상의 단어로 구성되어 있습니다. 각 단어는 하나 이상의 공백문자로 구분되어 있습니다. 각 단어의 짝수번째 알파벳은 대문자로, 홀수번째 알파벳은 소문자로 바꾼 문자열을 리턴하는 함수, solution을 완성하세요."
   ]
  },
  {
   "cell_type": "markdown",
   "id": "recorded-purple",
   "metadata": {},
   "source": [
    "## 제한 사항\n",
    "- 문자열 전체의 짝/홀수 인덱스가 아니라, 단어(공백을 기준)별로 짝/홀수 인덱스를 판단해야합니다.\n",
    "- 첫 번째 글자는 0번째 인덱스로 보아 짝수번째 알파벳으로 처리해야 합니다."
   ]
  },
  {
   "cell_type": "markdown",
   "id": "substantial-lottery",
   "metadata": {},
   "source": [
    "## 입출력 예\n",
    "|s|\treturn|\n",
    "|---|---|\n",
    "|\"try hello world\"|\t\"TrY HeLlO WoRlD\"|"
   ]
  },
  {
   "cell_type": "markdown",
   "id": "suitable-dinner",
   "metadata": {},
   "source": [
    "## 입출력 예 설명\n",
    "\"try hello world\"는 세 단어 \"try\", \"hello\", \"world\"로 구성되어 있습니다. 각 단어의 짝수번째 문자를 대문자로, 홀수번째 문자를 소문자로 바꾸면 \"TrY\", \"HeLlO\", \"WoRlD\"입니다. 따라서 \"TrY HeLlO WoRlD\" 를 리턴합니다."
   ]
  },
  {
   "cell_type": "code",
   "execution_count": 1,
   "id": "fifty-coordinate",
   "metadata": {},
   "outputs": [],
   "source": [
    "def solution(s):\n",
    "    answer = ''\n",
    "    return answer"
   ]
  },
  {
   "cell_type": "code",
   "execution_count": 11,
   "id": "healthy-alcohol",
   "metadata": {},
   "outputs": [],
   "source": [
    "s = \"   try    hello     world a a B   sa\""
   ]
  },
  {
   "cell_type": "code",
   "execution_count": 14,
   "id": "cultural-sodium",
   "metadata": {},
   "outputs": [
    {
     "name": "stdout",
     "output_type": "stream",
     "text": [
      "\n",
      "\n",
      "\n",
      "try\n",
      "0 t\n",
      "T\n",
      "1 r\n",
      "Tr\n",
      "2 y\n",
      "TrY\n",
      "\n",
      "\n",
      "\n",
      "hello\n",
      "0 h\n",
      "H\n",
      "1 e\n",
      "He\n",
      "2 l\n",
      "HeL\n",
      "3 l\n",
      "HeLl\n",
      "4 o\n",
      "HeLlO\n",
      "\n",
      "\n",
      "\n",
      "\n",
      "world\n",
      "0 w\n",
      "W\n",
      "1 o\n",
      "Wo\n",
      "2 r\n",
      "WoR\n",
      "3 l\n",
      "WoRl\n",
      "4 d\n",
      "WoRlD\n",
      "a\n",
      "0 a\n",
      "A\n",
      "a\n",
      "0 a\n",
      "A\n",
      "B\n",
      "0 B\n",
      "B\n",
      "\n",
      "\n",
      "sa\n",
      "0 s\n",
      "S\n",
      "1 a\n",
      "Sa\n"
     ]
    },
    {
     "data": {
      "text/plain": [
       "['',\n",
       " '',\n",
       " '',\n",
       " 'TrY',\n",
       " '',\n",
       " '',\n",
       " '',\n",
       " 'HeLlO',\n",
       " '',\n",
       " '',\n",
       " '',\n",
       " '',\n",
       " 'WoRlD',\n",
       " 'A',\n",
       " 'A',\n",
       " 'B',\n",
       " '',\n",
       " '',\n",
       " 'Sa']"
      ]
     },
     "execution_count": 14,
     "metadata": {},
     "output_type": "execute_result"
    }
   ],
   "source": [
    "change = []\n",
    "for w in s.split(' '):\n",
    "    print(w)\n",
    "    word = ''\n",
    "    for i, c in enumerate(w):\n",
    "        print(i, c)\n",
    "        if i % 2 == 0:\n",
    "            word += word.join(c.upper())\n",
    "        else:\n",
    "            word += word.join(c.lower())\n",
    "        print(word)\n",
    "    change.append(word)\n",
    "change"
   ]
  },
  {
   "cell_type": "code",
   "execution_count": 15,
   "id": "planned-impact",
   "metadata": {},
   "outputs": [
    {
     "data": {
      "text/plain": [
       "'   TrY    HeLlO     WoRlD A A B   Sa'"
      ]
     },
     "execution_count": 15,
     "metadata": {},
     "output_type": "execute_result"
    }
   ],
   "source": [
    "' '.join(change)"
   ]
  }
 ],
 "metadata": {
  "kernelspec": {
   "display_name": "Python 3",
   "language": "python",
   "name": "python3"
  },
  "language_info": {
   "codemirror_mode": {
    "name": "ipython",
    "version": 3
   },
   "file_extension": ".py",
   "mimetype": "text/x-python",
   "name": "python",
   "nbconvert_exporter": "python",
   "pygments_lexer": "ipython3",
   "version": "3.8.8"
  }
 },
 "nbformat": 4,
 "nbformat_minor": 5
}
