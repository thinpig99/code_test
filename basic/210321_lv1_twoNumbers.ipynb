{
 "cells": [
  {
   "cell_type": "markdown",
   "id": "sticky-squad",
   "metadata": {},
   "source": [
    "# 코딩 테스트 연습 > 연습문제 > 두 개 뽑아서 더하기"
   ]
  },
  {
   "cell_type": "markdown",
   "id": "historical-affiliation",
   "metadata": {},
   "source": [
    "## 문제 설명\n",
    "정수 배열 numbers가 주어집니다. numbers에서 서로 다른 인덱스에 있는 두 개의 수를 뽑아 더해서 만들 수 있는 모든 수를 배열에 오름차순으로 담아 return 하도록 solution 함수를 완성해주세요."
   ]
  },
  {
   "cell_type": "markdown",
   "id": "progressive-scheduling",
   "metadata": {},
   "source": [
    "## 제한사항\n",
    "- numbers의 길이는 2 이상 100 이하입니다.\n",
    "    - numbers의 모든 수는 0 이상 100 이하입니다."
   ]
  },
  {
   "cell_type": "markdown",
   "id": "sharp-mattress",
   "metadata": {},
   "source": [
    "## 입출력 예\n",
    "|numbers|\tresult|\n",
    "|---|---|\n",
    "|[2,1,3,4,1]|\t[2,3,4,5,6,7]|\n",
    "|[5,0,2,7]|\t[2,5,7,9,12]|"
   ]
  },
  {
   "cell_type": "markdown",
   "id": "atomic-procurement",
   "metadata": {},
   "source": [
    "### 아이디어\n",
    "\n",
    "사실 간단하게 comb 뽑아서 정렬 후 제출하면 되는 문제다.\n",
    "\n",
    "복병이 하나 있는데, 바로 sort와 set이다. 자세한 건 아래 링크 참고"
   ]
  },
  {
   "cell_type": "code",
   "execution_count": 22,
   "id": "charming-preserve",
   "metadata": {},
   "outputs": [],
   "source": [
    "numbers = [2, 1, 3, 4, 1]"
   ]
  },
  {
   "cell_type": "code",
   "execution_count": 24,
   "id": "earlier-sector",
   "metadata": {},
   "outputs": [],
   "source": [
    "def solution(numbers):\n",
    "    from itertools import combinations\n",
    "    comb = list(combinations(numbers, 2))\n",
    "    comb_sum = list(map(sum, comb))\n",
    "    comb_sum_set = list(set(comb_sum))\n",
    "    comb_sum_set.sort()\n",
    "    return comb_sum_set"
   ]
  },
  {
   "cell_type": "code",
   "execution_count": 25,
   "id": "brazilian-meditation",
   "metadata": {},
   "outputs": [
    {
     "data": {
      "text/plain": [
       "[2, 3, 4, 5, 6, 7]"
      ]
     },
     "execution_count": 25,
     "metadata": {},
     "output_type": "execute_result"
    }
   ],
   "source": [
    "solution(numbers)"
   ]
  },
  {
   "cell_type": "markdown",
   "id": "moral-connectivity",
   "metadata": {},
   "source": [
    "아래 링크는 파이썬 리스트에서 set을 했을 때, 순서가 유지되지 않는 것을 설명해 둔 곳이다.\n",
    "\n",
    "즉, 정렬을 해두고 set을 하면 순서가 망가진다. 다른 방법을 쓰거나, set을 먼저 하고 정렬을 해야 한다.\n",
    "\n",
    "https://m31phy.tistory.com/130"
   ]
  },
  {
   "cell_type": "code",
   "execution_count": null,
   "id": "discrete-syndrome",
   "metadata": {},
   "outputs": [],
   "source": []
  }
 ],
 "metadata": {
  "kernelspec": {
   "display_name": "Python 3",
   "language": "python",
   "name": "python3"
  },
  "language_info": {
   "codemirror_mode": {
    "name": "ipython",
    "version": 3
   },
   "file_extension": ".py",
   "mimetype": "text/x-python",
   "name": "python",
   "nbconvert_exporter": "python",
   "pygments_lexer": "ipython3",
   "version": "3.8.8"
  }
 },
 "nbformat": 4,
 "nbformat_minor": 5
}
