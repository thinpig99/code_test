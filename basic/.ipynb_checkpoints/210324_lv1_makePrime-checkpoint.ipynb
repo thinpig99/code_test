{
 "cells": [
  {
   "cell_type": "markdown",
   "id": "addressed-newport",
   "metadata": {},
   "source": [
    "# 코딩 테스트 연습 > 연습문제 > 소수 만들기"
   ]
  },
  {
   "cell_type": "markdown",
   "id": "entire-involvement",
   "metadata": {},
   "source": [
    "## 문제 설명\n",
    "주어진 숫자 중 3개의 수를 더했을 때 소수가 되는 경우의 개수를 구하려고 합니다. 숫자들이 들어있는 배열 nums가 매개변수로 주어질 때, nums에 있는 숫자들 중 서로 다른 3개를 골라 더했을 때 소수가 되는 경우의 개수를 return 하도록 solution 함수를 완성해주세요."
   ]
  },
  {
   "cell_type": "markdown",
   "id": "numerous-serve",
   "metadata": {},
   "source": [
    "## 제한사항\n",
    "- nums에 들어있는 숫자의 개수는 3개 이상 50개 이하입니다.\n",
    "- nums의 각 원소는 1 이상 1,000 이하의 자연수이며, 중복된 숫자가 들어있지 않습니다."
   ]
  },
  {
   "cell_type": "markdown",
   "id": "saving-superior",
   "metadata": {},
   "source": [
    "## 입출력 예\n",
    "|nums|\tresult|\n",
    "|---|---|\n",
    "|[1,2,3,4]|\t1|\n",
    "|[1,2,7,6,4]|\t4|"
   ]
  },
  {
   "cell_type": "code",
   "execution_count": 36,
   "id": "declared-running",
   "metadata": {},
   "outputs": [],
   "source": [
    "nums = [1, 2, 7, 6, 4]"
   ]
  },
  {
   "cell_type": "code",
   "execution_count": 44,
   "id": "skilled-spider",
   "metadata": {},
   "outputs": [],
   "source": [
    "from itertools import combinations\n",
    "def solution(nums):\n",
    "    cnt = 0\n",
    "    for i in list(combinations(nums, 3)):\n",
    "        k = sum(i)\n",
    "        if k % 2 == 0:\n",
    "            pass\n",
    "        else:\n",
    "            for j in range(k - 2, 1, -2):\n",
    "                if k % j == 0:\n",
    "                    break\n",
    "                else:\n",
    "                    if j == 3:\n",
    "                        cnt += 1\n",
    "    return cnt"
   ]
  },
  {
   "cell_type": "code",
   "execution_count": 45,
   "id": "valuable-pitch",
   "metadata": {},
   "outputs": [
    {
     "data": {
      "text/plain": [
       "4"
      ]
     },
     "execution_count": 45,
     "metadata": {},
     "output_type": "execute_result"
    }
   ],
   "source": [
    "solution(nums)"
   ]
  },
  {
   "cell_type": "code",
   "execution_count": null,
   "id": "existing-kenya",
   "metadata": {},
   "outputs": [],
   "source": []
  }
 ],
 "metadata": {
  "kernelspec": {
   "display_name": "wyatt38",
   "language": "python",
   "name": "wyatt38"
  },
  "language_info": {
   "codemirror_mode": {
    "name": "ipython",
    "version": 3
   },
   "file_extension": ".py",
   "mimetype": "text/x-python",
   "name": "python",
   "nbconvert_exporter": "python",
   "pygments_lexer": "ipython3",
   "version": "3.8.0"
  }
 },
 "nbformat": 4,
 "nbformat_minor": 5
}
