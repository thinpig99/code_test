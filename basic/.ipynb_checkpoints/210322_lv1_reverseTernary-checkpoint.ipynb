{
 "cells": [
  {
   "cell_type": "markdown",
   "id": "substantial-summary",
   "metadata": {},
   "source": [
    "# 코딩 테스트 연습 > 연습문제 > 3진법 뒤집기"
   ]
  },
  {
   "cell_type": "markdown",
   "id": "continuous-nerve",
   "metadata": {},
   "source": [
    "## 문제 설명\n",
    "자연수 n이 매개변수로 주어집니다. n을 3진법 상에서 앞뒤로 뒤집은 후, 이를 다시 10진법으로 표현한 수를 return 하도록 solution 함수를 완성해주세요."
   ]
  },
  {
   "cell_type": "markdown",
   "id": "framed-universe",
   "metadata": {},
   "source": [
    "## 제한사항\n",
    "- n은 1 이상 100,000,000 이하인 자연수입니다."
   ]
  },
  {
   "cell_type": "markdown",
   "id": "prepared-differential",
   "metadata": {},
   "source": [
    "## 입출력 예\n",
    "|n|\tresult|\n",
    "|---|---|\n",
    "|45|\t7|\n",
    "|125|\t229|"
   ]
  },
  {
   "cell_type": "markdown",
   "id": "robust-fiction",
   "metadata": {},
   "source": [
    "## 입출력 예 설명\n",
    "### 입출력 예 #1\n",
    "\n",
    "- 답을 도출하는 과정은 다음과 같습니다.\n",
    "|n (10진법)|\tn (3진법)|\t앞뒤 반전(3진법)|\t10진법으로 표현|\n",
    "|---|---|---|---|\n",
    "|45\t|1200|\t0021|\t7|\n",
    "- 따라서 7을 return 해야 합니다.\n",
    "\n",
    "\n",
    "### 입출력 예 #2\n",
    "\n",
    "- 답을 도출하는 과정은 다음과 같습니다.\n",
    "|n (10진법)|\tn (3진법)\t|앞뒤 반전(3진법)|\t10진법으로 표현|\n",
    "|---|---|---|---|\n",
    "|125\t|11122\t|22111\t|229|\n",
    "- 따라서 229를 return 해야 합니다."
   ]
  },
  {
   "cell_type": "code",
   "execution_count": 100,
   "id": "acoustic-anxiety",
   "metadata": {},
   "outputs": [],
   "source": [
    "three = []\n",
    "ten = 0\n",
    "def ten_to_three(quo):\n",
    "    global three \n",
    "    if quo <= 0:\n",
    "        return three\n",
    "    \n",
    "    quo, rem = divmod(quo, 3)\n",
    "    print(\"quo, rem\", quo, rem)\n",
    "    three.append(rem)\n",
    "    \n",
    "    ten_to_three(quo)\n",
    "    if quo <= 0:\n",
    "        return three"
   ]
  },
  {
   "cell_type": "code",
   "execution_count": 101,
   "id": "sonic-snapshot",
   "metadata": {},
   "outputs": [
    {
     "name": "stdout",
     "output_type": "stream",
     "text": [
      "quo, rem 41 2\n",
      "quo, rem 13 2\n",
      "quo, rem 4 1\n",
      "quo, rem 1 1\n",
      "quo, rem 0 1\n"
     ]
    }
   ],
   "source": [
    "ten_to_three(125)"
   ]
  },
  {
   "cell_type": "code",
   "execution_count": 102,
   "id": "substantial-provider",
   "metadata": {},
   "outputs": [
    {
     "data": {
      "text/plain": [
       "[2, 2, 1, 1, 1]"
      ]
     },
     "execution_count": 102,
     "metadata": {},
     "output_type": "execute_result"
    }
   ],
   "source": [
    "three"
   ]
  },
  {
   "cell_type": "code",
   "execution_count": 103,
   "id": "handy-sacrifice",
   "metadata": {},
   "outputs": [],
   "source": [
    "ten = 0\n",
    "length = len(three)\n",
    "for i, thr in enumerate(three):\n",
    "    ten += thr*(3**(length - i - 1))"
   ]
  },
  {
   "cell_type": "code",
   "execution_count": 104,
   "id": "still-institution",
   "metadata": {},
   "outputs": [
    {
     "data": {
      "text/plain": [
       "229"
      ]
     },
     "execution_count": 104,
     "metadata": {},
     "output_type": "execute_result"
    }
   ],
   "source": [
    "ten"
   ]
  },
  {
   "cell_type": "code",
   "execution_count": 107,
   "id": "occasional-auction",
   "metadata": {},
   "outputs": [],
   "source": [
    "three = []\n",
    "def solution(quo):\n",
    "    while True:\n",
    "        quo, rem = divmod(quo, 3)\n",
    "        three.append(rem)\n",
    "        if quo == 0:\n",
    "            break\n",
    "        \n",
    "    ten = 0\n",
    "    length = len(three)\n",
    "    for i, thr in enumerate(three):\n",
    "        ten += thr*(3**(length - i - 1))\n",
    "    return ten"
   ]
  },
  {
   "cell_type": "code",
   "execution_count": 108,
   "id": "confused-replication",
   "metadata": {},
   "outputs": [
    {
     "data": {
      "text/plain": [
       "7"
      ]
     },
     "execution_count": 108,
     "metadata": {},
     "output_type": "execute_result"
    }
   ],
   "source": [
    "solution(45)"
   ]
  },
  {
   "cell_type": "markdown",
   "id": "younger-canal",
   "metadata": {},
   "source": [
    "재귀 함수 말고 while로 해결했습니다..."
   ]
  },
  {
   "cell_type": "markdown",
   "id": "voluntary-merchandise",
   "metadata": {},
   "source": [
    "int의 미친 기능이 있습니다."
   ]
  },
  {
   "cell_type": "code",
   "execution_count": 110,
   "id": "discrete-cuisine",
   "metadata": {},
   "outputs": [
    {
     "name": "stdout",
     "output_type": "stream",
     "text": [
      "tmp:  0\n",
      "new_n:  15\n",
      "tmp:  00\n",
      "new_n:  5\n",
      "tmp:  002\n",
      "new_n:  1\n",
      "tmp:  0021\n",
      "new_n:  0\n"
     ]
    }
   ],
   "source": [
    "n = 45\n",
    "tmp = ''\n",
    "while n:\n",
    "    tmp += str(n % 3)\n",
    "    print(\"tmp: \", tmp)\n",
    "    n = n // 3\n",
    "    print('new_n: ', n)\n",
    "\n",
    "answer = int(tmp, 3)"
   ]
  },
  {
   "cell_type": "code",
   "execution_count": 111,
   "id": "rubber-request",
   "metadata": {},
   "outputs": [
    {
     "data": {
      "text/plain": [
       "7"
      ]
     },
     "execution_count": 111,
     "metadata": {},
     "output_type": "execute_result"
    }
   ],
   "source": [
    "answer"
   ]
  },
  {
   "cell_type": "code",
   "execution_count": 113,
   "id": "abandoned-fellow",
   "metadata": {},
   "outputs": [
    {
     "data": {
      "text/plain": [
       "7"
      ]
     },
     "execution_count": 113,
     "metadata": {},
     "output_type": "execute_result"
    }
   ],
   "source": [
    "int('0021', 3)"
   ]
  },
  {
   "cell_type": "code",
   "execution_count": 114,
   "id": "external-present",
   "metadata": {},
   "outputs": [
    {
     "data": {
      "text/plain": [
       "125"
      ]
     },
     "execution_count": 114,
     "metadata": {},
     "output_type": "execute_result"
    }
   ],
   "source": [
    "int('11122', 3)"
   ]
  },
  {
   "cell_type": "code",
   "execution_count": 115,
   "id": "filled-capital",
   "metadata": {},
   "outputs": [
    {
     "data": {
      "text/plain": [
       "346"
      ]
     },
     "execution_count": 115,
     "metadata": {},
     "output_type": "execute_result"
    }
   ],
   "source": [
    "int('11122', 4)"
   ]
  },
  {
   "cell_type": "code",
   "execution_count": 116,
   "id": "greek-lighter",
   "metadata": {},
   "outputs": [
    {
     "data": {
      "text/plain": [
       "787"
      ]
     },
     "execution_count": 116,
     "metadata": {},
     "output_type": "execute_result"
    }
   ],
   "source": [
    "int('11122', 5)"
   ]
  },
  {
   "cell_type": "code",
   "execution_count": null,
   "id": "active-brief",
   "metadata": {},
   "outputs": [],
   "source": []
  }
 ],
 "metadata": {
  "kernelspec": {
   "display_name": "wyatt38",
   "language": "python",
   "name": "wyatt38"
  },
  "language_info": {
   "codemirror_mode": {
    "name": "ipython",
    "version": 3
   },
   "file_extension": ".py",
   "mimetype": "text/x-python",
   "name": "python",
   "nbconvert_exporter": "python",
   "pygments_lexer": "ipython3",
   "version": "3.8.0"
  }
 },
 "nbformat": 4,
 "nbformat_minor": 5
}
