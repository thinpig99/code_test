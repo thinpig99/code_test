{
 "cells": [
  {
   "cell_type": "markdown",
   "id": "accredited-christian",
   "metadata": {},
   "source": [
    "# 코딩 테스트 연습 > 연습문제 > 나누어 떨어지는 숫자 배열"
   ]
  },
  {
   "cell_type": "markdown",
   "id": "precious-cambridge",
   "metadata": {},
   "source": [
    "## 문제 설명\n",
    "array의 각 element 중 divisor로 나누어 떨어지는 값을 오름차순으로 정렬한 배열을 반환하는 함수, solution을 작성해주세요.\n",
    "\n",
    "divisor로 나누어 떨어지는 element가 하나도 없다면 배열에 -1을 담아 반환하세요."
   ]
  },
  {
   "cell_type": "markdown",
   "id": "nearby-masters",
   "metadata": {},
   "source": [
    "## 제한사항\n",
    "- arr은 자연수를 담은 배열입니다.\n",
    "- 정수 i, j에 대해 i ≠ j 이면 arr[i] ≠ arr[j] 입니다.\n",
    "- divisor는 자연수입니다.\n",
    "- array는 길이 1 이상인 배열입니다."
   ]
  },
  {
   "cell_type": "markdown",
   "id": "golden-filing",
   "metadata": {},
   "source": [
    "## 입출력 예\n",
    "|arr|\tdivisor|\treturn|\n",
    "|---|---|---|\n",
    "|[5, 9, 7, 10]|\t5|\t[5, 10]|\n",
    "|[2, 36, 1, 3]|\t1|\t[1, 2, 3, 36]|\n",
    "|[3,2,6]\t|10\t|[-1]|"
   ]
  },
  {
   "cell_type": "code",
   "execution_count": 1,
   "id": "angry-chassis",
   "metadata": {},
   "outputs": [],
   "source": [
    "def solution(arr, divisor):\n",
    "    answer = []\n",
    "    for ar in arr:\n",
    "        if ar%divisor == 0:\n",
    "            answer.append(ar)\n",
    "    if answer:\n",
    "        return sorted(answer)\n",
    "    else:\n",
    "        return [-1]"
   ]
  },
  {
   "cell_type": "code",
   "execution_count": 3,
   "id": "gross-happening",
   "metadata": {},
   "outputs": [
    {
     "data": {
      "text/plain": [
       "[5, 10]"
      ]
     },
     "execution_count": 3,
     "metadata": {},
     "output_type": "execute_result"
    }
   ],
   "source": [
    "solution([5, 9, 7, 10], 5)"
   ]
  },
  {
   "cell_type": "code",
   "execution_count": 4,
   "id": "exceptional-mobile",
   "metadata": {},
   "outputs": [
    {
     "data": {
      "text/plain": [
       "[-1]"
      ]
     },
     "execution_count": 4,
     "metadata": {},
     "output_type": "execute_result"
    }
   ],
   "source": [
    "solution([3, 2, 6], 10)"
   ]
  },
  {
   "cell_type": "code",
   "execution_count": null,
   "id": "applied-rover",
   "metadata": {},
   "outputs": [],
   "source": []
  }
 ],
 "metadata": {
  "kernelspec": {
   "display_name": "wyatt38",
   "language": "python",
   "name": "wyatt38"
  },
  "language_info": {
   "codemirror_mode": {
    "name": "ipython",
    "version": 3
   },
   "file_extension": ".py",
   "mimetype": "text/x-python",
   "name": "python",
   "nbconvert_exporter": "python",
   "pygments_lexer": "ipython3",
   "version": "3.8.0"
  }
 },
 "nbformat": 4,
 "nbformat_minor": 5
}
