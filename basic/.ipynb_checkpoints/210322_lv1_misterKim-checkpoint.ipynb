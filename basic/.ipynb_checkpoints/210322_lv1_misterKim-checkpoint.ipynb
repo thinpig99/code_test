{
 "cells": [
  {
   "cell_type": "markdown",
   "id": "working-shakespeare",
   "metadata": {},
   "source": [
    "# 코딩 테스트 연습 > 연습문제 > 서울에서 김서방 찾기"
   ]
  },
  {
   "cell_type": "markdown",
   "id": "lasting-species",
   "metadata": {},
   "source": [
    "## 문제 설명\n",
    "String형 배열 seoul의 element중 \"Kim\"의 위치 x를 찾아, \"김서방은 x에 있다\"는 String을 반환하는 함수, solution을 완성하세요. seoul에 \"Kim\"은 오직 한 번만 나타나며 잘못된 값이 입력되는 경우는 없습니다."
   ]
  },
  {
   "cell_type": "markdown",
   "id": "approximate-translation",
   "metadata": {},
   "source": [
    "## 제한 사항\n",
    "- seoul은 길이 1 이상, 1000 이하인 배열입니다.\n",
    "- seoul의 원소는 길이 1 이상, 20 이하인 문자열입니다.\n",
    "- \"Kim\"은 반드시 seoul 안에 포함되어 있습니다."
   ]
  },
  {
   "cell_type": "markdown",
   "id": "anonymous-distributor",
   "metadata": {},
   "source": [
    "## 입출력 예\n",
    "|seoul|\treturn|\n",
    "|---|---|\n",
    "|[\"Jane\", \"Kim\"]|\t\"김서방은 1에 있다\"|"
   ]
  },
  {
   "cell_type": "code",
   "execution_count": 1,
   "id": "found-samba",
   "metadata": {},
   "outputs": [],
   "source": [
    "import numpy as np\n",
    "def solution(seoul):\n",
    "    seoul = np.array(seoul)\n",
    "    loc = np.where(seoul == \"Kim\")[0][0]\n",
    "    answer = \"김서방은 {}에 있다\".format(loc)\n",
    "    return answer"
   ]
  },
  {
   "cell_type": "code",
   "execution_count": 2,
   "id": "minus-parallel",
   "metadata": {},
   "outputs": [
    {
     "data": {
      "text/plain": [
       "'김서방은 1에 있다'"
      ]
     },
     "execution_count": 2,
     "metadata": {},
     "output_type": "execute_result"
    }
   ],
   "source": [
    "solution([\"Jane\", \"Kim\"])"
   ]
  },
  {
   "cell_type": "code",
   "execution_count": null,
   "id": "outer-lunch",
   "metadata": {},
   "outputs": [],
   "source": []
  }
 ],
 "metadata": {
  "kernelspec": {
   "display_name": "wyatt38",
   "language": "python",
   "name": "wyatt38"
  },
  "language_info": {
   "codemirror_mode": {
    "name": "ipython",
    "version": 3
   },
   "file_extension": ".py",
   "mimetype": "text/x-python",
   "name": "python",
   "nbconvert_exporter": "python",
   "pygments_lexer": "ipython3",
   "version": "3.8.0"
  }
 },
 "nbformat": 4,
 "nbformat_minor": 5
}
