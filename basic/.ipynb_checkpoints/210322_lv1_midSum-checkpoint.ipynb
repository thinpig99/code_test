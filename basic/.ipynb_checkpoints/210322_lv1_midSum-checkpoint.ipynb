{
 "cells": [
  {
   "cell_type": "markdown",
   "id": "personalized-garlic",
   "metadata": {},
   "source": [
    "# 코딩 테스트 연습 > 연습문제 > 두 정수 사이의 합"
   ]
  },
  {
   "cell_type": "markdown",
   "id": "useful-retreat",
   "metadata": {},
   "source": [
    "## 문제 설명\n",
    "두 정수 a, b가 주어졌을 때 a와 b 사이에 속한 모든 정수의 합을 리턴하는 함수, solution을 완성하세요.\n",
    "예를 들어 a = 3, b = 5인 경우, 3 + 4 + 5 = 12이므로 12를 리턴합니다."
   ]
  },
  {
   "cell_type": "markdown",
   "id": "reverse-wings",
   "metadata": {},
   "source": [
    "## 제한 조건\n",
    "- a와 b가 같은 경우는 둘 중 아무 수나 리턴하세요.\n",
    "- a와 b는 -10,000,000 이상 10,000,000 이하인 정수입니다.\n",
    "- a와 b의 대소관계는 정해져있지 않습니다."
   ]
  },
  {
   "cell_type": "markdown",
   "id": "indian-amount",
   "metadata": {},
   "source": [
    "## 입출력 예\n",
    "|a|\tb|\treturn|\n",
    "|---|---|---|\n",
    "|3\t|5|\t12|\n",
    "|3\t|3|\t3|\n",
    "|5\t|3\t|12|"
   ]
  },
  {
   "cell_type": "code",
   "execution_count": 7,
   "id": "stylish-uniform",
   "metadata": {},
   "outputs": [],
   "source": [
    "def solution(a, b):\n",
    "    if a < b:\n",
    "        answer = sum(range(a, b + 1))\n",
    "    else:\n",
    "        answer = sum(range(b, a + 1))\n",
    "    return answer"
   ]
  },
  {
   "cell_type": "code",
   "execution_count": 8,
   "id": "charitable-there",
   "metadata": {},
   "outputs": [
    {
     "data": {
      "text/plain": [
       "12"
      ]
     },
     "execution_count": 8,
     "metadata": {},
     "output_type": "execute_result"
    }
   ],
   "source": [
    "solution(3, 5)"
   ]
  },
  {
   "cell_type": "code",
   "execution_count": 9,
   "id": "billion-riding",
   "metadata": {},
   "outputs": [
    {
     "data": {
      "text/plain": [
       "12"
      ]
     },
     "execution_count": 9,
     "metadata": {},
     "output_type": "execute_result"
    }
   ],
   "source": [
    "solution(5, 3)"
   ]
  },
  {
   "cell_type": "markdown",
   "id": "measured-visibility",
   "metadata": {},
   "source": [
    "기발한 방법들이 많다."
   ]
  },
  {
   "cell_type": "code",
   "execution_count": 3,
   "id": "choice-solution",
   "metadata": {},
   "outputs": [],
   "source": [
    "a = 5\n",
    "b = 3"
   ]
  },
  {
   "cell_type": "code",
   "execution_count": 10,
   "id": "thirty-cabinet",
   "metadata": {},
   "outputs": [
    {
     "data": {
      "text/plain": [
       "12"
      ]
     },
     "execution_count": 10,
     "metadata": {},
     "output_type": "execute_result"
    }
   ],
   "source": [
    "# 파이썬의 특징을 살려 두 변수를 바꿔 버리는 방법\n",
    "if a > b:\n",
    "    a, b = b, a\n",
    "sum(range(a, b+1))"
   ]
  },
  {
   "cell_type": "code",
   "execution_count": 11,
   "id": "secret-dublin",
   "metadata": {},
   "outputs": [
    {
     "data": {
      "text/plain": [
       "12"
      ]
     },
     "execution_count": 11,
     "metadata": {},
     "output_type": "execute_result"
    }
   ],
   "source": [
    "# 절대값을 사용하는 방법\n",
    "(abs(a - b) + 1) * ( a + b ) // 2"
   ]
  },
  {
   "cell_type": "code",
   "execution_count": 12,
   "id": "enabling-fiber",
   "metadata": {},
   "outputs": [
    {
     "data": {
      "text/plain": [
       "12"
      ]
     },
     "execution_count": 12,
     "metadata": {},
     "output_type": "execute_result"
    }
   ],
   "source": [
    "# min max를 사용하는 방법\n",
    "sum(range(min(a, b), max(a, b) + 1))"
   ]
  }
 ],
 "metadata": {
  "kernelspec": {
   "display_name": "wyatt38",
   "language": "python",
   "name": "wyatt38"
  },
  "language_info": {
   "codemirror_mode": {
    "name": "ipython",
    "version": 3
   },
   "file_extension": ".py",
   "mimetype": "text/x-python",
   "name": "python",
   "nbconvert_exporter": "python",
   "pygments_lexer": "ipython3",
   "version": "3.8.0"
  }
 },
 "nbformat": 4,
 "nbformat_minor": 5
}
