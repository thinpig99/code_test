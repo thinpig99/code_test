{
 "cells": [
  {
   "cell_type": "markdown",
   "id": "photographic-advantage",
   "metadata": {},
   "source": [
    "# 코딩 테스트 연습 > 연습문제 > 같은 숫자는 싫어"
   ]
  },
  {
   "cell_type": "markdown",
   "id": "activated-crossing",
   "metadata": {},
   "source": [
    "## 문제 설명\n",
    "배열 arr가 주어집니다. 배열 arr의 각 원소는 숫자 0부터 9까지로 이루어져 있습니다. 이때, 배열 arr에서 연속적으로 나타나는 숫자는 하나만 남기고 전부 제거하려고 합니다. 단, 제거된 후 남은 수들을 반환할 때는 배열 arr의 원소들의 순서를 유지해야 합니다. 예를 들면,\n",
    "\n",
    "- arr = [1, 1, 3, 3, 0, 1, 1] 이면 [1, 3, 0, 1] 을 return 합니다.\n",
    "- arr = [4, 4, 4, 3, 3] 이면 [4, 3] 을 return 합니다.\n",
    "\n",
    "배열 arr에서 연속적으로 나타나는 숫자는 제거하고 남은 수들을 return 하는 solution 함수를 완성해 주세요."
   ]
  },
  {
   "cell_type": "markdown",
   "id": "satisfied-oasis",
   "metadata": {},
   "source": [
    "## 제한사항\n",
    "- 배열 arr의 크기 : 1,000,000 이하의 자연수\n",
    "- 배열 arr의 원소의 크기 : 0보다 크거나 같고 9보다 작거나 같은 정수"
   ]
  },
  {
   "cell_type": "markdown",
   "id": "bored-baltimore",
   "metadata": {},
   "source": [
    "## 입출력 예\n",
    "|arr|\tanswer|\n",
    "|---|---|\n",
    "|[1,1,3,3,0,1,1]|\t[1,3,0,1]|\n",
    "|[4,4,4,3,3]|\t[4,3]|"
   ]
  },
  {
   "cell_type": "code",
   "execution_count": 1,
   "id": "normal-wrong",
   "metadata": {},
   "outputs": [],
   "source": [
    "arr = [1, 1, 3, 3, 0, 1, 1]"
   ]
  },
  {
   "cell_type": "code",
   "execution_count": 50,
   "id": "french-cabinet",
   "metadata": {},
   "outputs": [],
   "source": [
    "import re\n",
    "def solution(arr):\n",
    "    string = ''.join([str(x) for x in arr])\n",
    "    for i in set(string):\n",
    "        string = re.sub(r'[{}]+'.format(i), '{}'.format(i), string)\n",
    "    return [int(x) for x in string]"
   ]
  },
  {
   "cell_type": "code",
   "execution_count": 51,
   "id": "postal-blackjack",
   "metadata": {},
   "outputs": [
    {
     "data": {
      "text/plain": [
       "[1, 3, 0, 1]"
      ]
     },
     "execution_count": 51,
     "metadata": {},
     "output_type": "execute_result"
    }
   ],
   "source": [
    "solution(arr)"
   ]
  },
  {
   "cell_type": "markdown",
   "id": "protecting-execution",
   "metadata": {},
   "source": [
    "훨씬 빠른 방법이 있었습니다."
   ]
  },
  {
   "cell_type": "code",
   "execution_count": 52,
   "id": "independent-switch",
   "metadata": {},
   "outputs": [],
   "source": [
    "s = arr\n",
    "a = []\n",
    "for i in s:\n",
    "    if a[-1:] == [i]:\n",
    "        continue\n",
    "    a.append(i)"
   ]
  },
  {
   "cell_type": "code",
   "execution_count": 53,
   "id": "small-passage",
   "metadata": {},
   "outputs": [
    {
     "data": {
      "text/plain": [
       "[1, 3, 0, 1]"
      ]
     },
     "execution_count": 53,
     "metadata": {},
     "output_type": "execute_result"
    }
   ],
   "source": [
    "a"
   ]
  },
  {
   "cell_type": "code",
   "execution_count": 55,
   "id": "negative-summit",
   "metadata": {},
   "outputs": [
    {
     "data": {
      "text/plain": [
       "[1]"
      ]
     },
     "execution_count": 55,
     "metadata": {},
     "output_type": "execute_result"
    }
   ],
   "source": [
    "a[-1:]"
   ]
  }
 ],
 "metadata": {
  "kernelspec": {
   "display_name": "wyatt38",
   "language": "python",
   "name": "wyatt38"
  },
  "language_info": {
   "codemirror_mode": {
    "name": "ipython",
    "version": 3
   },
   "file_extension": ".py",
   "mimetype": "text/x-python",
   "name": "python",
   "nbconvert_exporter": "python",
   "pygments_lexer": "ipython3",
   "version": "3.8.0"
  }
 },
 "nbformat": 4,
 "nbformat_minor": 5
}
