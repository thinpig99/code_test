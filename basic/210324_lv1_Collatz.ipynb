{
 "cells": [
  {
   "cell_type": "markdown",
   "id": "boxed-communist",
   "metadata": {},
   "source": [
    "# 코딩 테스트 연습 > 연습문제 > 콜라츠 추측"
   ]
  },
  {
   "cell_type": "markdown",
   "id": "aboriginal-quarterly",
   "metadata": {},
   "source": [
    "## 문제 설명\n",
    "1937년 Collatz란 사람에 의해 제기된 이 추측은, 주어진 수가 1이 될때까지 다음 작업을 반복하면, 모든 수를 1로 만들 수 있다는 추측입니다. 작업은 다음과 같습니다.\n",
    "\n",
    "- 1-1. 입력된 수가 짝수라면 2로 나눕니다. \n",
    "- 1-2. 입력된 수가 홀수라면 3을 곱하고 1을 더합니다.\n",
    "- 2. 결과로 나온 수에 같은 작업을 1이 될 때까지 반복합니다.\n",
    "\n",
    "예를 들어, 입력된 수가 6이라면 6→3→10→5→16→8→4→2→1 이 되어 총 8번 만에 1이 됩니다. 위 작업을 몇 번이나 반복해야하는지 반환하는 함수, solution을 완성해 주세요. 단, 작업을 500번을 반복해도 1이 되지 않는다면 –1을 반환해 주세요."
   ]
  },
  {
   "cell_type": "markdown",
   "id": "backed-stable",
   "metadata": {},
   "source": [
    "## 제한 사항\n",
    "- 입력된 수, num은 1 이상 8000000 미만인 정수입니다."
   ]
  },
  {
   "cell_type": "markdown",
   "id": "behind-maintenance",
   "metadata": {},
   "source": [
    "## 입출력 예\n",
    "|n|\tresult|\n",
    "|---|---|\n",
    "|6|\t8|\n",
    "|16|\t4|\n",
    "|626331|\t-1|"
   ]
  },
  {
   "cell_type": "code",
   "execution_count": 37,
   "id": "improving-revelation",
   "metadata": {},
   "outputs": [],
   "source": [
    "cnt = 0\n",
    "def solution(num):\n",
    "    global cnt\n",
    "    if cnt > 500:\n",
    "        cnt = -1\n",
    "        return cnt\n",
    "    \n",
    "    elif num == 1:\n",
    "        return cnt\n",
    "    \n",
    "    if num % 2 == 0:\n",
    "        num /= 2\n",
    "        cnt += 1\n",
    "        solution(num)\n",
    "        \n",
    "    else:\n",
    "        num *= 3\n",
    "        num += 1\n",
    "        cnt += 1\n",
    "        solution(num)\n",
    "        \n",
    "    return cnt"
   ]
  },
  {
   "cell_type": "code",
   "execution_count": 38,
   "id": "pregnant-frank",
   "metadata": {},
   "outputs": [
    {
     "data": {
      "text/plain": [
       "-1"
      ]
     },
     "execution_count": 38,
     "metadata": {},
     "output_type": "execute_result"
    }
   ],
   "source": [
    "solution(626331)"
   ]
  },
  {
   "cell_type": "code",
   "execution_count": 39,
   "id": "mysterious-logic",
   "metadata": {},
   "outputs": [
    {
     "data": {
      "text/plain": [
       "3"
      ]
     },
     "execution_count": 39,
     "metadata": {},
     "output_type": "execute_result"
    }
   ],
   "source": [
    "solution(16)"
   ]
  },
  {
   "cell_type": "code",
   "execution_count": 41,
   "id": "wired-discrimination",
   "metadata": {},
   "outputs": [],
   "source": [
    "num = 626331"
   ]
  },
  {
   "cell_type": "code",
   "execution_count": 44,
   "id": "agricultural-breath",
   "metadata": {},
   "outputs": [
    {
     "data": {
      "text/plain": [
       "-1"
      ]
     },
     "execution_count": 44,
     "metadata": {},
     "output_type": "execute_result"
    }
   ],
   "source": [
    "while num != 1:\n",
    "    if num % 2 == 0:\n",
    "        num /= 2\n",
    "        cnt += 1\n",
    "    else:\n",
    "        num *= 3\n",
    "        num += 1\n",
    "        cnt += 1\n",
    "    if cnt > 500:\n",
    "        cnt = -1\n",
    "        break\n",
    "cnt"
   ]
  },
  {
   "cell_type": "code",
   "execution_count": null,
   "id": "reported-matrix",
   "metadata": {},
   "outputs": [],
   "source": []
  }
 ],
 "metadata": {
  "kernelspec": {
   "display_name": "wyatt38",
   "language": "python",
   "name": "wyatt38"
  },
  "language_info": {
   "codemirror_mode": {
    "name": "ipython",
    "version": 3
   },
   "file_extension": ".py",
   "mimetype": "text/x-python",
   "name": "python",
   "nbconvert_exporter": "python",
   "pygments_lexer": "ipython3",
   "version": "3.8.0"
  }
 },
 "nbformat": 4,
 "nbformat_minor": 5
}
