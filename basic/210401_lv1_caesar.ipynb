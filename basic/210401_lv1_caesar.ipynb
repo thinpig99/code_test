{
 "cells": [
  {
   "cell_type": "markdown",
   "id": "friendly-utilization",
   "metadata": {},
   "source": [
    "# 코딩 테스트 연습 > 연습문제 > 시저암호"
   ]
  },
  {
   "cell_type": "markdown",
   "id": "mental-mattress",
   "metadata": {},
   "source": [
    "## 문제 설명\n",
    "어떤 문장의 각 알파벳을 일정한 거리만큼 밀어서 다른 알파벳으로 바꾸는 암호화 방식을 시저 암호라고 합니다. 예를 들어 \"AB\"는 1만큼 밀면 \"BC\"가 되고, 3만큼 밀면 \"DE\"가 됩니다. \"z\"는 1만큼 밀면 \"a\"가 됩니다. 문자열 s와 거리 n을 입력받아 s를 n만큼 민 암호문을 만드는 함수, solution을 완성해 보세요."
   ]
  },
  {
   "cell_type": "markdown",
   "id": "incomplete-cooler",
   "metadata": {},
   "source": [
    "## 제한 조건\n",
    "- 공백은 아무리 밀어도 공백입니다.\n",
    "- s는 알파벳 소문자, 대문자, 공백으로만 이루어져 있습니다.\n",
    "- s의 길이는 8000이하입니다.\n",
    "- n은 1 이상, 25이하인 자연수입니다."
   ]
  },
  {
   "cell_type": "markdown",
   "id": "incident-sewing",
   "metadata": {},
   "source": [
    "## 입출력 예\n",
    "|s|\tn|\tresult|\n",
    "|---|---|---|\n",
    "|\"AB\"|\t1|\t\"BC\"|\n",
    "|\"z\"|\t1|\t\"a\"|\n",
    "|\"a B z\"|\t4|\t\"e F d\"|"
   ]
  },
  {
   "cell_type": "code",
   "execution_count": 95,
   "id": "protecting-funds",
   "metadata": {},
   "outputs": [],
   "source": [
    "s = \"a B z\"\n",
    "n = 4"
   ]
  },
  {
   "cell_type": "code",
   "execution_count": 96,
   "id": "constant-avenue",
   "metadata": {},
   "outputs": [],
   "source": [
    "import string\n",
    "from collections import deque\n",
    "\n",
    "def solution(s, n):\n",
    "    lower = {}\n",
    "    low_list = []\n",
    "    for i, c in enumerate(list(string.ascii_lowercase)):\n",
    "        lower[c] = i\n",
    "        low_list.append(c)\n",
    "        \n",
    "    upper = {}\n",
    "    up_list = []\n",
    "    for i, c in enumerate(list(string.ascii_uppercase)):\n",
    "        upper[c] = i\n",
    "        up_list.append(c)\n",
    "        \n",
    "    low_deq = deque(low_list)\n",
    "    up_deq = deque(up_list)\n",
    "    \n",
    "    reset = []\n",
    "    low_deq.rotate(-n)\n",
    "    up_deq.rotate(-n)\n",
    "    for c in list(s):\n",
    "        try:\n",
    "            if c in list(string.ascii_lowercase):\n",
    "                i = lower[c]\n",
    "                reset.append(low_deq[i])\n",
    "            else:\n",
    "                i = upper[c]\n",
    "                reset.append(up_deq[i])\n",
    "        except:\n",
    "            reset.append(' ')\n",
    "    return ''.join(reset)"
   ]
  },
  {
   "cell_type": "code",
   "execution_count": 97,
   "id": "processed-current",
   "metadata": {},
   "outputs": [
    {
     "data": {
      "text/plain": [
       "'e F d'"
      ]
     },
     "execution_count": 97,
     "metadata": {},
     "output_type": "execute_result"
    }
   ],
   "source": [
    "solution(s, n)"
   ]
  },
  {
   "cell_type": "markdown",
   "id": "floppy-stand",
   "metadata": {},
   "source": [
    "훨씬 간단한 방법이 있습니다.\n",
    "\n",
    "chr() 함수로 캐릭터를 뽑고, ord() 함수로 인덱스를 뽑네요. 따로 만들어주지 않아도 됩니다."
   ]
  },
  {
   "cell_type": "code",
   "execution_count": 98,
   "id": "effective-minister",
   "metadata": {},
   "outputs": [],
   "source": [
    "def caesar(s, n):\n",
    "    s = list(s)\n",
    "    for i in range(len(s)):\n",
    "        if s[i].isupper(): # .isupper()를 통해 대소문자 bool을 봅니다.\n",
    "            s[i] = chr((ord(s[i]) - ord('A') + n) % 26 + ord('A')) # 26으로 나눠서 나머지를 받습니다.\n",
    "        elif s[i].islower():\n",
    "            s[i] = chr((ord(s[i]) - ord('a') + n) % 26 + ord('a'))\n",
    "\n",
    "    return \"\".join(s)"
   ]
  },
  {
   "cell_type": "code",
   "execution_count": 99,
   "id": "lesbian-turkish",
   "metadata": {},
   "outputs": [
    {
     "data": {
      "text/plain": [
       "'e F d'"
      ]
     },
     "execution_count": 99,
     "metadata": {},
     "output_type": "execute_result"
    }
   ],
   "source": [
    "caesar(s, n)"
   ]
  },
  {
   "cell_type": "code",
   "execution_count": null,
   "id": "communist-watts",
   "metadata": {},
   "outputs": [],
   "source": []
  }
 ],
 "metadata": {
  "kernelspec": {
   "display_name": "Python 3",
   "language": "python",
   "name": "python3"
  },
  "language_info": {
   "codemirror_mode": {
    "name": "ipython",
    "version": 3
   },
   "file_extension": ".py",
   "mimetype": "text/x-python",
   "name": "python",
   "nbconvert_exporter": "python",
   "pygments_lexer": "ipython3",
   "version": "3.8.8"
  }
 },
 "nbformat": 4,
 "nbformat_minor": 5
}
