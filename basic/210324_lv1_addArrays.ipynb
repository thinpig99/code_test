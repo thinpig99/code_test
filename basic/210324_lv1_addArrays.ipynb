{
 "cells": [
  {
   "cell_type": "markdown",
   "id": "underlying-insured",
   "metadata": {},
   "source": [
    "# 코딩 테스트 연습 > 연습문제 > 행렬의 덧셈"
   ]
  },
  {
   "cell_type": "markdown",
   "id": "technological-maximum",
   "metadata": {},
   "source": [
    "## 문제 설명\n",
    "행렬의 덧셈은 행과 열의 크기가 같은 두 행렬의 같은 행, 같은 열의 값을 서로 더한 결과가 됩니다. 2개의 행렬 arr1과 arr2를 입력받아, 행렬 덧셈의 결과를 반환하는 함수, solution을 완성해주세요."
   ]
  },
  {
   "cell_type": "markdown",
   "id": "extreme-deposit",
   "metadata": {},
   "source": [
    "## 제한 조건\n",
    "- 행렬 arr1, arr2의 행과 열의 길이는 500을 넘지 않습니다."
   ]
  },
  {
   "cell_type": "markdown",
   "id": "religious-arena",
   "metadata": {},
   "source": [
    "## 입출력 예\n",
    "|arr1|\tarr2|\treturn|\n",
    "|---|---|---|\n",
    "|[[1,2],[2,3]]\t|[[3,4],[5,6]]\t|[[4,6],[7,9]]|\n",
    "|[[1],[2]]\t|[[3],[4]]\t|[[4],[6]]|"
   ]
  },
  {
   "cell_type": "code",
   "execution_count": 8,
   "id": "solar-packet",
   "metadata": {},
   "outputs": [],
   "source": [
    "a1 = [[1,2],[2,3]]\n",
    "a2 = [[3,4],[5,6]]\n",
    "r = [[4,6],[7,9]]"
   ]
  },
  {
   "cell_type": "code",
   "execution_count": 20,
   "id": "egyptian-accent",
   "metadata": {},
   "outputs": [],
   "source": [
    "def solution(arr1, arr2):\n",
    "    import numpy as np\n",
    "    arr1 = np.array(arr1)\n",
    "    arr2 = np.array(arr2)\n",
    "\n",
    "    return np.sum([arr1, arr2], axis=0).tolist()"
   ]
  },
  {
   "cell_type": "code",
   "execution_count": 24,
   "id": "collaborative-pierre",
   "metadata": {},
   "outputs": [
    {
     "data": {
      "text/plain": [
       "[[4, 6], [7, 9]]"
      ]
     },
     "execution_count": 24,
     "metadata": {},
     "output_type": "execute_result"
    }
   ],
   "source": [
    "solution(a1, a2)"
   ]
  },
  {
   "cell_type": "markdown",
   "id": "behavioral-kentucky",
   "metadata": {},
   "source": [
    "넘파이를 쓰면 매우 편하다. 그렇지만 간단한 연산 같은 경우에는 효율성이 떨어진다. 넘파이 없이 도끼로 만들면 아래와 같다."
   ]
  },
  {
   "cell_type": "code",
   "execution_count": 22,
   "id": "sought-france",
   "metadata": {},
   "outputs": [
    {
     "data": {
      "text/plain": [
       "[[4, 6], [7, 9]]"
      ]
     },
     "execution_count": 22,
     "metadata": {},
     "output_type": "execute_result"
    }
   ],
   "source": [
    "a4 = []\n",
    "for i in range(len(a1)):\n",
    "    a3 = []\n",
    "    for j in range(len(a1[i])):\n",
    "        a3.append(a1[i][j] + a2[i][j])\n",
    "    a4.append(a3)\n",
    "a4"
   ]
  },
  {
   "cell_type": "code",
   "execution_count": null,
   "id": "acceptable-montana",
   "metadata": {},
   "outputs": [],
   "source": []
  }
 ],
 "metadata": {
  "kernelspec": {
   "display_name": "wyatt38",
   "language": "python",
   "name": "wyatt38"
  },
  "language_info": {
   "codemirror_mode": {
    "name": "ipython",
    "version": 3
   },
   "file_extension": ".py",
   "mimetype": "text/x-python",
   "name": "python",
   "nbconvert_exporter": "python",
   "pygments_lexer": "ipython3",
   "version": "3.8.0"
  }
 },
 "nbformat": 4,
 "nbformat_minor": 5
}
