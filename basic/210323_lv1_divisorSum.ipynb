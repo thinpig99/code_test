{
 "cells": [
  {
   "cell_type": "markdown",
   "id": "charitable-karen",
   "metadata": {},
   "source": [
    "# 코딩 테스트 연습 > 연습문제 > 약수의 합"
   ]
  },
  {
   "cell_type": "markdown",
   "id": "guilty-aspect",
   "metadata": {},
   "source": [
    "## 문제 설명\n",
    "정수 n을 입력받아 n의 약수를 모두 더한 값을 리턴하는 함수, solution을 완성해주세요."
   ]
  },
  {
   "cell_type": "markdown",
   "id": "worldwide-coordinator",
   "metadata": {},
   "source": [
    "## 제한 사항\n",
    "- n은 0 이상 3000이하인 정수입니다."
   ]
  },
  {
   "cell_type": "markdown",
   "id": "polar-pavilion",
   "metadata": {},
   "source": [
    "## 입출력 예\n",
    "|n|\treturn|\n",
    "|---|---|\n",
    "|12|\t28|\n",
    "|5|\t6|"
   ]
  },
  {
   "cell_type": "code",
   "execution_count": 7,
   "id": "direct-broadway",
   "metadata": {},
   "outputs": [],
   "source": [
    "n = 12"
   ]
  },
  {
   "cell_type": "code",
   "execution_count": 8,
   "id": "vital-qatar",
   "metadata": {},
   "outputs": [],
   "source": [
    "def solution(n):\n",
    "    divisor = []\n",
    "    for i in range(1, n+1):\n",
    "        if n % i == 0:\n",
    "            divisor.append(i)\n",
    "    return sum(divisor)"
   ]
  },
  {
   "cell_type": "code",
   "execution_count": 9,
   "id": "cooperative-equilibrium",
   "metadata": {},
   "outputs": [
    {
     "data": {
      "text/plain": [
       "28"
      ]
     },
     "execution_count": 9,
     "metadata": {},
     "output_type": "execute_result"
    }
   ],
   "source": [
    "solution(12)"
   ]
  },
  {
   "cell_type": "code",
   "execution_count": null,
   "id": "neutral-background",
   "metadata": {},
   "outputs": [],
   "source": []
  }
 ],
 "metadata": {
  "kernelspec": {
   "display_name": "Python 3",
   "language": "python",
   "name": "python3"
  },
  "language_info": {
   "codemirror_mode": {
    "name": "ipython",
    "version": 3
   },
   "file_extension": ".py",
   "mimetype": "text/x-python",
   "name": "python",
   "nbconvert_exporter": "python",
   "pygments_lexer": "ipython3",
   "version": "3.8.8"
  }
 },
 "nbformat": 4,
 "nbformat_minor": 5
}
