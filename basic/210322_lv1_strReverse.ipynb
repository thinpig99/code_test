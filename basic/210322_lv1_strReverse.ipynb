{
 "cells": [
  {
   "cell_type": "markdown",
   "id": "transparent-horizon",
   "metadata": {},
   "source": [
    "# 코딩 테스트 연습 > 연습문제 > 문자열 내림차순으로 배치하기"
   ]
  },
  {
   "cell_type": "markdown",
   "id": "significant-toilet",
   "metadata": {},
   "source": [
    "## 문제 설명\n",
    "문자열 s에 나타나는 문자를 큰것부터 작은 순으로 정렬해 새로운 문자열을 리턴하는 함수, solution을 완성해주세요.\n",
    "s는 영문 대소문자로만 구성되어 있으며, 대문자는 소문자보다 작은 것으로 간주합니다."
   ]
  },
  {
   "cell_type": "markdown",
   "id": "naughty-induction",
   "metadata": {},
   "source": [
    "## 제한 사항\n",
    "- str은 길이 1 이상인 문자열입니다."
   ]
  },
  {
   "cell_type": "markdown",
   "id": "finite-zealand",
   "metadata": {},
   "source": [
    "## 입출력 예\n",
    "|s|\treturn|\n",
    "|---|---|\n",
    "|\"Zbcdefg\"|\t\"gfedcbZ\"|"
   ]
  },
  {
   "cell_type": "code",
   "execution_count": 12,
   "id": "natural-strategy",
   "metadata": {},
   "outputs": [],
   "source": [
    "s = \"Zbcdefg\""
   ]
  },
  {
   "cell_type": "code",
   "execution_count": 13,
   "id": "veterinary-arena",
   "metadata": {},
   "outputs": [],
   "source": [
    "def solution(s):\n",
    "    return ''.join(sorted(s, reverse=True))"
   ]
  },
  {
   "cell_type": "code",
   "execution_count": 14,
   "id": "owned-effect",
   "metadata": {},
   "outputs": [
    {
     "data": {
      "text/plain": [
       "'gfedcbZ'"
      ]
     },
     "execution_count": 14,
     "metadata": {},
     "output_type": "execute_result"
    }
   ],
   "source": [
    "solution(s)"
   ]
  }
 ],
 "metadata": {
  "kernelspec": {
   "display_name": "Python 3",
   "language": "python",
   "name": "python3"
  },
  "language_info": {
   "codemirror_mode": {
    "name": "ipython",
    "version": 3
   },
   "file_extension": ".py",
   "mimetype": "text/x-python",
   "name": "python",
   "nbconvert_exporter": "python",
   "pygments_lexer": "ipython3",
   "version": "3.8.8"
  }
 },
 "nbformat": 4,
 "nbformat_minor": 5
}
