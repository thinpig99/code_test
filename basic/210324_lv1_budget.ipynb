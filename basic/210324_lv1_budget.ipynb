{
 "cells": [
  {
   "cell_type": "markdown",
   "id": "close-picture",
   "metadata": {},
   "source": [
    "# 코딩 테스트 연습 > 연습문제 > 예산"
   ]
  },
  {
   "cell_type": "markdown",
   "id": "essential-registration",
   "metadata": {},
   "source": [
    "## 문제 설명\n",
    "S사에서는 각 부서에 필요한 물품을 지원해 주기 위해 부서별로 물품을 구매하는데 필요한 금액을 조사했습니다. 그러나, 전체 예산이 정해져 있기 때문에 모든 부서의 물품을 구매해 줄 수는 없습니다. 그래서 최대한 많은 부서의 물품을 구매해 줄 수 있도록 하려고 합니다.\n",
    "\n",
    "물품을 구매해 줄 때는 각 부서가 신청한 금액만큼을 모두 지원해 줘야 합니다. 예를 들어 1,000원을 신청한 부서에는 정확히 1,000원을 지원해야 하며, 1,000원보다 적은 금액을 지원해 줄 수는 없습니다.\n",
    "\n",
    "부서별로 신청한 금액이 들어있는 배열 d와 예산 budget이 매개변수로 주어질 때, 최대 몇 개의 부서에 물품을 지원할 수 있는지 return 하도록 solution 함수를 완성해주세요."
   ]
  },
  {
   "cell_type": "markdown",
   "id": "separate-aurora",
   "metadata": {},
   "source": [
    "## 제한사항\n",
    "- d는 부서별로 신청한 금액이 들어있는 배열이며, 길이(전체 부서의 개수)는 1 이상 100 이하입니다.\n",
    "- d의 각 원소는 부서별로 신청한 금액을 나타내며, 부서별 신청 금액은 1 이상 100,000 이하의 자연수입니다.\n",
    "- budget은 예산을 나타내며, 1 이상 10,000,000 이하의 자연수입니다."
   ]
  },
  {
   "cell_type": "markdown",
   "id": "auburn-invite",
   "metadata": {},
   "source": [
    "## 입출력 예\n",
    "|d|\tbudget|\tresult|\n",
    "|---|---|---|\n",
    "|[1,3,2,5,4]|\t9|\t3|\n",
    "|[2,2,3,3]|\t10|\t4|"
   ]
  },
  {
   "cell_type": "code",
   "execution_count": 20,
   "id": "beneficial-notion",
   "metadata": {},
   "outputs": [],
   "source": [
    "d = [1,3,2,5,4]\n",
    "b = 9"
   ]
  },
  {
   "cell_type": "code",
   "execution_count": 24,
   "id": "incident-charm",
   "metadata": {},
   "outputs": [
    {
     "data": {
      "text/plain": [
       "3"
      ]
     },
     "execution_count": 24,
     "metadata": {},
     "output_type": "execute_result"
    }
   ],
   "source": [
    "sd = sorted(d)\n",
    "s = 0\n",
    "cnt = 0\n",
    "for i in sd:\n",
    "    s += i\n",
    "    cnt += 1\n",
    "    if s >= b:\n",
    "        cnt -= 1\n",
    "        break\n",
    "        \n",
    "cnt"
   ]
  },
  {
   "cell_type": "markdown",
   "id": "sunrise-designation",
   "metadata": {},
   "source": [
    "어떤 사람은 pop을 통해서 뒤에서부터 하나씩 빼는 방법을 취했습니다. 신청부서가 많고 예산이 적으면 부담이 되는 코드지만, 그렇지 않은 경우에는 더 효율적입니다."
   ]
  },
  {
   "cell_type": "code",
   "execution_count": 25,
   "id": "handy-dallas",
   "metadata": {},
   "outputs": [],
   "source": [
    "def solution(d, budget):\n",
    "    d.sort()\n",
    "    while budget < sum(d):\n",
    "        d.pop()\n",
    "    return len(d)"
   ]
  },
  {
   "cell_type": "code",
   "execution_count": 26,
   "id": "focal-error",
   "metadata": {},
   "outputs": [
    {
     "data": {
      "text/plain": [
       "3"
      ]
     },
     "execution_count": 26,
     "metadata": {},
     "output_type": "execute_result"
    }
   ],
   "source": [
    "solution(d, b)"
   ]
  },
  {
   "cell_type": "code",
   "execution_count": null,
   "id": "beneficial-sarah",
   "metadata": {},
   "outputs": [],
   "source": []
  }
 ],
 "metadata": {
  "kernelspec": {
   "display_name": "wyatt38",
   "language": "python",
   "name": "wyatt38"
  },
  "language_info": {
   "codemirror_mode": {
    "name": "ipython",
    "version": 3
   },
   "file_extension": ".py",
   "mimetype": "text/x-python",
   "name": "python",
   "nbconvert_exporter": "python",
   "pygments_lexer": "ipython3",
   "version": "3.8.0"
  }
 },
 "nbformat": 4,
 "nbformat_minor": 5
}
