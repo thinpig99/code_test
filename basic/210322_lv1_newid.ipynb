{
 "cells": [
  {
   "cell_type": "markdown",
   "id": "technological-malawi",
   "metadata": {},
   "source": [
    "# 코딩 테스트 연습 > 카카오 > 신규 아이디 추천"
   ]
  },
  {
   "cell_type": "markdown",
   "id": "varying-invitation",
   "metadata": {},
   "source": [
    "## 문제 설명\n",
    "카카오에 입사한 신입 개발자 네오는 \"카카오계정개발팀\"에 배치되어, 카카오 서비스에 가입하는 유저들의 아이디를 생성하는 업무를 담당하게 되었습니다. \"네오\"에게 주어진 첫 업무는 새로 가입하는 유저들이 카카오 아이디 규칙에 맞지 않는 아이디를 입력했을 때, 입력된 아이디와 유사하면서 규칙에 맞는 아이디를 추천해주는 프로그램을 개발하는 것입니다.\n",
    "다음은 카카오 아이디의 규칙입니다.\n",
    "\n",
    "- 아이디의 길이는 3자 이상 15자 이하여야 합니다.\n",
    "- 아이디는 알파벳 소문자, 숫자, 빼기(-), 밑줄(_), 마침표(.) 문자만 사용할 수 있습니다.\n",
    "- 단, 마침표(.)는 처음과 끝에 사용할 수 없으며 또한 연속으로 사용할 수 없습니다."
   ]
  },
  {
   "cell_type": "markdown",
   "id": "sitting-bicycle",
   "metadata": {},
   "source": [
    "\"네오\"는 다음과 같이 7단계의 순차적인 처리 과정을 통해 신규 유저가 입력한 아이디가 카카오 아이디 규칙에 맞는 지 검사하고 규칙에 맞지 않은 경우 규칙에 맞는 새로운 아이디를 추천해 주려고 합니다.\n",
    "신규 유저가 입력한 아이디가 new_id 라고 한다면,\n",
    "\n",
    "1. 1단계 new_id의 모든 대문자를 대응되는 소문자로 치환합니다.\n",
    "2. 2단계 new_id에서 알파벳 소문자, 숫자, 빼기(-), 밑줄(_), 마침표(.)를 제외한 모든 문자를 제거합니다.\n",
    "3. 3단계 new_id에서 마침표(.)가 2번 이상 연속된 부분을 하나의 마침표(.)로 치환합니다.\n",
    "4. 4단계 new_id에서 마침표(.)가 처음이나 끝에 위치한다면 제거합니다.\n",
    "5. 5단계 new_id가 빈 문자열이라면, new_id에 \"a\"를 대입합니다.\n",
    "6. 6단계 new_id의 길이가 16자 이상이면, new_id의 첫 15개의 문자를 제외한 나머지 문자들을 모두 제거합니다. 만약 제거 후 마침표(.)가 new_id의 끝에 위치한다면 끝에 위치한 마침표(.) 문자를 제거합니다.\n",
    "7. 7단계 new_id의 길이가 2자 이하라면, new_id의 마지막 문자를 new_id의 길이가 3이 될 때까지 반복해서 끝에 붙입니다."
   ]
  },
  {
   "cell_type": "markdown",
   "id": "middle-creature",
   "metadata": {},
   "source": [
    "예를 들어, new_id 값이 \"...!@BaT#*..y.abcdefghijklm\" 라면, 위 7단계를 거치고 나면 new_id는 아래와 같이 변경됩니다.\n",
    "\n",
    "1단계 대문자 'B'와 'T'가 소문자 'b'와 't'로 바뀌었습니다.<br>\n",
    "\"...!@BaT#*..y.abcdefghijklm\" → \"...!@bat#*..y.abcdefghijklm\"\n",
    "\n",
    "2단계 '!', '@', '#', '*' 문자가 제거되었습니다.<br>\n",
    "\"...!@bat#*..y.abcdefghijklm\" → \"...bat..y.abcdefghijklm\"\n",
    "\n",
    "3단계 '...'와 '..' 가 '.'로 바뀌었습니다.<br>\n",
    "\"...bat..y.abcdefghijklm\" → \".bat.y.abcdefghijklm\"\n",
    "\n",
    "4단계 아이디의 처음에 위치한 '.'가 제거되었습니다.<br>\n",
    "\".bat.y.abcdefghijklm\" → \"bat.y.abcdefghijklm\"\n",
    "\n",
    "5단계 아이디가 빈 문자열이 아니므로 변화가 없습니다.<br>\n",
    "\"bat.y.abcdefghijklm\" → \"bat.y.abcdefghijklm\"\n",
    "\n",
    "6단계 아이디의 길이가 16자 이상이므로, 처음 15자를 제외한 나머지 문자들이 제거되었습니다.<br>\n",
    "\"bat.y.abcdefghijklm\" → \"bat.y.abcdefghi\"\n",
    "\n",
    "7단계 아이디의 길이가 2자 이하가 아니므로 변화가 없습니다.<br>\n",
    "\"bat.y.abcdefghi\" → \"bat.y.abcdefghi\"\n",
    "\n",
    "따라서 신규 유저가 입력한 new_id가 \"...!@BaT#*..y.abcdefghijklm\"일 때,<br>\n",
    "네오의 프로그램이 추천하는 새로운 아이디는 \"bat.y.abcdefghi\" 입니다."
   ]
  },
  {
   "cell_type": "markdown",
   "id": "narrow-encoding",
   "metadata": {},
   "source": [
    "## [문제]\n",
    "신규 유저가 입력한 아이디를 나타내는 new_id가 매개변수로 주어질 때, \"네오\"가 설계한 7단계의 처리 과정을 거친 후의 추천 아이디를 return 하도록 solution 함수를 완성해 주세요.\n",
    "\n",
    "## [제한사항]\n",
    "- new_id는 길이 1 이상 1,000 이하인 문자열입니다.\n",
    "- new_id는 알파벳 대문자, 알파벳 소문자, 숫자, 특수문자로 구성되어 있습니다.\n",
    "- new_id에 나타날 수 있는 특수문자는 -_.~!@#$%^&*()=+[{]}:?,<>/ 로 한정됩니다."
   ]
  },
  {
   "cell_type": "markdown",
   "id": "headed-wrapping",
   "metadata": {},
   "source": [
    "## [입출력 예]\n",
    "|no|\tnew_id|\tresult|\n",
    "|---|---|---|\n",
    "|예1|\t\"...!@BaT#*..y.abcdefghijklm\"|\t\"bat.y.abcdefghi\"|\n",
    "|예2\t|\"z-+.^.\"|\t\"z--\"|\n",
    "|예3\t|\"=.=\"\t|\"aaa\"|\n",
    "|예4\t|\"123_.def\"|\t\"123_.def\"|\n",
    "|예5\t|\"abcdefghijklmn.p\"| \"abcdefghijklmn\"|"
   ]
  },
  {
   "cell_type": "markdown",
   "id": "original-addiction",
   "metadata": {},
   "source": [
    "### 아이디어\n",
    "\n",
    "굉장히 귀찮은 문제지만 구현 문제이다. 그냥 구현만 하면 된다."
   ]
  },
  {
   "cell_type": "code",
   "execution_count": 1,
   "id": "adjusted-aging",
   "metadata": {},
   "outputs": [],
   "source": [
    "new_ids = [\"...!@BaT#*..y.abcdefghijklm\",\n",
    "          \"z-+.^.\",\n",
    "          \"=.=\",\n",
    "          \"123_.def\",\n",
    "          \"abcdefghijklmn.p\",\n",
    "          \"11122....2333444...5556666\",\n",
    "          \"***()()\",\n",
    "          \"1..2..7..3..8..1..7..4..8..9..1..2..8..9..4..7...8..1..9.,,,,,,,,,..............\"]"
   ]
  },
  {
   "cell_type": "code",
   "execution_count": 2,
   "id": "damaged-commander",
   "metadata": {},
   "outputs": [],
   "source": [
    "new_id = new_ids[-1]"
   ]
  },
  {
   "cell_type": "code",
   "execution_count": 3,
   "id": "alternate-bride",
   "metadata": {},
   "outputs": [],
   "source": [
    "def solution(new_id):\n",
    "    # 1단계: 소문자로 바꾸기\n",
    "    new_id = new_id.lower()\n",
    "    print(\"1st: \", new_id)\n",
    "    \n",
    "    # 2단계: 알파벳 소문자, 숫자, (-), (_), (.) 를 제외한 문자 모두 제거.\n",
    "    import re \n",
    "    new_id = re.sub(r'[^a-z0-9._-]', '', new_id)\n",
    "    print(\"2nd: \", new_id)\n",
    "    \n",
    "    # 3단계: (.)가 2번 이상 연속된 부분을 하나로 치환\n",
    "    new_id = re.sub(r'(\\.+)','.', new_id)\n",
    "    print(\"3rd: \", new_id)\n",
    "    \n",
    "    # 4 단계: 마침표가 처음이나 끝에 존재한다면 제거\n",
    "    new_id = new_id.strip('.')\n",
    "    print(\"4th: \", new_id)\n",
    "    \n",
    "    # 5단계: 빈 문자열이라면  a를 대입\n",
    "    if not new_id:\n",
    "        new_id = 'a'\n",
    "    print(\"5th: \", new_id)\n",
    "    \n",
    "    # 6단계: 16자 이상이면 뒤를 잘라서 15자를 만든다. 마침표가 뒤에 남으면 마저 자른다.\n",
    "    if len(new_id) >= 16:\n",
    "        new_id = new_id[:15]\n",
    "    if new_id[-1] == '.':\n",
    "        new_id = new_id[:-1]\n",
    "    print(\"6th: \", new_id)\n",
    "    \n",
    "    # 7단계: 길이가 2 이하라면, 3이 될때까지 마지막 문자를 반복해서 붙인다.\n",
    "    while len(new_id) < 3:\n",
    "        new_id += new_id[-1]\n",
    "    print(\"7th: \", new_id)\n",
    "    \n",
    "    return new_id"
   ]
  },
  {
   "cell_type": "code",
   "execution_count": 4,
   "id": "stainless-venezuela",
   "metadata": {},
   "outputs": [
    {
     "name": "stdout",
     "output_type": "stream",
     "text": [
      "1st:  ...!@bat#*..y.abcdefghijklm\n",
      "2nd:  ...bat..y.abcdefghijklm\n",
      "3rd:  .bat.y.abcdefghijklm\n",
      "4th:  bat.y.abcdefghijklm\n",
      "5th:  bat.y.abcdefghijklm\n",
      "6th:  bat.y.abcdefghi\n",
      "7th:  bat.y.abcdefghi\n",
      "--------------------------------------------------------------------------------\n",
      "1st:  z-+.^.\n",
      "2nd:  z-..\n",
      "3rd:  z-.\n",
      "4th:  z-\n",
      "5th:  z-\n",
      "6th:  z-\n",
      "7th:  z--\n",
      "--------------------------------------------------------------------------------\n",
      "1st:  =.=\n",
      "2nd:  .\n",
      "3rd:  .\n",
      "4th:  \n",
      "5th:  a\n",
      "6th:  a\n",
      "7th:  aaa\n",
      "--------------------------------------------------------------------------------\n",
      "1st:  123_.def\n",
      "2nd:  123_.def\n",
      "3rd:  123_.def\n",
      "4th:  123_.def\n",
      "5th:  123_.def\n",
      "6th:  123_.def\n",
      "7th:  123_.def\n",
      "--------------------------------------------------------------------------------\n",
      "1st:  abcdefghijklmn.p\n",
      "2nd:  abcdefghijklmn.p\n",
      "3rd:  abcdefghijklmn.p\n",
      "4th:  abcdefghijklmn.p\n",
      "5th:  abcdefghijklmn.p\n",
      "6th:  abcdefghijklmn\n",
      "7th:  abcdefghijklmn\n",
      "--------------------------------------------------------------------------------\n",
      "1st:  11122....2333444...5556666\n",
      "2nd:  11122....2333444...5556666\n",
      "3rd:  11122.2333444.5556666\n",
      "4th:  11122.2333444.5556666\n",
      "5th:  11122.2333444.5556666\n",
      "6th:  11122.2333444.5\n",
      "7th:  11122.2333444.5\n",
      "--------------------------------------------------------------------------------\n",
      "1st:  ***()()\n",
      "2nd:  \n",
      "3rd:  \n",
      "4th:  \n",
      "5th:  a\n",
      "6th:  a\n",
      "7th:  aaa\n",
      "--------------------------------------------------------------------------------\n",
      "1st:  1..2..7..3..8..1..7..4..8..9..1..2..8..9..4..7...8..1..9.,,,,,,,,,..............\n",
      "2nd:  1..2..7..3..8..1..7..4..8..9..1..2..8..9..4..7...8..1..9...............\n",
      "3rd:  1.2.7.3.8.1.7.4.8.9.1.2.8.9.4.7.8.1.9.\n",
      "4th:  1.2.7.3.8.1.7.4.8.9.1.2.8.9.4.7.8.1.9\n",
      "5th:  1.2.7.3.8.1.7.4.8.9.1.2.8.9.4.7.8.1.9\n",
      "6th:  1.2.7.3.8.1.7.4\n",
      "7th:  1.2.7.3.8.1.7.4\n",
      "--------------------------------------------------------------------------------\n"
     ]
    }
   ],
   "source": [
    "for new_id in new_ids:\n",
    "    solution(new_id)\n",
    "    print(\"-\"*80)"
   ]
  }
 ],
 "metadata": {
  "kernelspec": {
   "display_name": "wyatt38",
   "language": "python",
   "name": "wyatt38"
  },
  "language_info": {
   "codemirror_mode": {
    "name": "ipython",
    "version": 3
   },
   "file_extension": ".py",
   "mimetype": "text/x-python",
   "name": "python",
   "nbconvert_exporter": "python",
   "pygments_lexer": "ipython3",
   "version": "3.8.0"
  }
 },
 "nbformat": 4,
 "nbformat_minor": 5
}
