{
 "cells": [
  {
   "cell_type": "markdown",
   "id": "informative-while",
   "metadata": {},
   "source": [
    "# 코딩 테스트 연습 > 연습문제 > 문자열 내 마음대로 정렬하기"
   ]
  },
  {
   "cell_type": "markdown",
   "id": "fewer-tanzania",
   "metadata": {},
   "source": [
    "## 문제 설명\n",
    "문자열로 구성된 리스트 strings와, 정수 n이 주어졌을 때, 각 문자열의 인덱스 n번째 글자를 기준으로 오름차순 정렬하려 합니다. 예를 들어 strings가 [\"sun\", \"bed\", \"car\"]이고 n이 1이면 각 단어의 인덱스 1의 문자 \"u\", \"e\", \"a\"로 strings를 정렬합니다."
   ]
  },
  {
   "cell_type": "markdown",
   "id": "deluxe-status",
   "metadata": {},
   "source": [
    "## 제한 조건\n",
    "- strings는 길이 1 이상, 50이하인 배열입니다.\n",
    "- strings의 원소는 소문자 알파벳으로 이루어져 있습니다.\n",
    "- strings의 원소는 길이 1 이상, 100이하인 문자열입니다.\n",
    "- 모든 strings의 원소의 길이는 n보다 큽니다.\n",
    "- 인덱스 1의 문자가 같은 문자열이 여럿 일 경우, 사전순으로 앞선 문자열이 앞쪽에 위치합니다."
   ]
  },
  {
   "cell_type": "markdown",
   "id": "organized-necessity",
   "metadata": {},
   "source": [
    "## 입출력 예\n",
    "|strings|\tn|\treturn|\n",
    "|---|---|---|\n",
    "|[\"sun\", \"bed\", \"car\"]\t|1|\t[\"car\", \"bed\", \"sun\"]|\n",
    "|[\"abce\", \"abcd\", \"cdx\"]\t|2|\t[\"abcd\", \"abce\", \"cdx\"]|"
   ]
  },
  {
   "cell_type": "code",
   "execution_count": 36,
   "id": "behind-implement",
   "metadata": {},
   "outputs": [],
   "source": [
    "strings = [\"sun\", \"bed\", \"car\"]\n",
    "n = 1"
   ]
  },
  {
   "cell_type": "code",
   "execution_count": 37,
   "id": "selected-diamond",
   "metadata": {},
   "outputs": [],
   "source": [
    "def solution(strings, n):\n",
    "    strings.sort()\n",
    "    strings.sort(key=lambda x: x[n])\n",
    "    return strings"
   ]
  },
  {
   "cell_type": "code",
   "execution_count": 38,
   "id": "informational-favorite",
   "metadata": {},
   "outputs": [
    {
     "data": {
      "text/plain": [
       "['car', 'bed', 'sun']"
      ]
     },
     "execution_count": 38,
     "metadata": {},
     "output_type": "execute_result"
    }
   ],
   "source": [
    "solution(strings, n)"
   ]
  },
  {
   "cell_type": "markdown",
   "id": "metallic-portfolio",
   "metadata": {},
   "source": [
    "동일한 순서에서 다시 정렬을 해야하기 때문에 먼저 정렬을 한 번 하고, 다음에 키로 정렬하면 된다."
   ]
  },
  {
   "cell_type": "code",
   "execution_count": null,
   "id": "incoming-postage",
   "metadata": {},
   "outputs": [],
   "source": []
  }
 ],
 "metadata": {
  "kernelspec": {
   "display_name": "wyatt38",
   "language": "python",
   "name": "wyatt38"
  },
  "language_info": {
   "codemirror_mode": {
    "name": "ipython",
    "version": 3
   },
   "file_extension": ".py",
   "mimetype": "text/x-python",
   "name": "python",
   "nbconvert_exporter": "python",
   "pygments_lexer": "ipython3",
   "version": "3.8.0"
  }
 },
 "nbformat": 4,
 "nbformat_minor": 5
}
