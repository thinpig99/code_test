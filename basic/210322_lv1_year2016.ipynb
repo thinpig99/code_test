{
 "cells": [
  {
   "cell_type": "markdown",
   "id": "square-insured",
   "metadata": {},
   "source": [
    "# 코딩 테스트 연습 > 연습문제 > 2016년"
   ]
  },
  {
   "cell_type": "markdown",
   "id": "dependent-jurisdiction",
   "metadata": {},
   "source": [
    "## 문제 설명\n",
    "2016년 1월 1일은 금요일입니다. 2016년 a월 b일은 무슨 요일일까요? 두 수 a ,b를 입력받아 2016년 a월 b일이 무슨 요일인지 리턴하는 함수, solution을 완성하세요. 요일의 이름은 일요일부터 토요일까지 각각 SUN,MON,TUE,WED,THU,FRI,SAT입니다. 예를 들어 a=5, b=24라면 5월 24일은 화요일이므로 문자열 \"TUE\"를 반환하세요."
   ]
  },
  {
   "cell_type": "markdown",
   "id": "played-texture",
   "metadata": {},
   "source": [
    "## 제한 조건\n",
    "- 2016년은 윤년입니다.\n",
    "- 2016년 a월 b일은 실제로 있는 날입니다. (13월 26일이나 2월 45일같은 날짜는 주어지지 않습니다)"
   ]
  },
  {
   "cell_type": "markdown",
   "id": "removable-jenny",
   "metadata": {},
   "source": [
    "## 입출력 예\n",
    "|a|\tb|\tresult|\n",
    "|---|---|---|\n",
    "|5|\t24|\t\"TUE\"|"
   ]
  },
  {
   "cell_type": "code",
   "execution_count": 31,
   "id": "facial-landscape",
   "metadata": {},
   "outputs": [],
   "source": [
    "def solution(a, b):\n",
    "    import datetime\n",
    "    weekdays = [\"SUN\",\"MON\",\"TUE\",\"WED\",\"THU\",\"FRI\",\"SAT\",\"SUN\",\"MON\",\"TUE\",\"WED\",\"THU\",\"FRI\",\"SAT\"]\n",
    "    date = datetime.datetime(2016, a, b)\n",
    "    return weekdays[date.weekday() + 1]"
   ]
  },
  {
   "cell_type": "code",
   "execution_count": 29,
   "id": "attempted-satellite",
   "metadata": {},
   "outputs": [],
   "source": [
    "weekdays = [\"SUN\",\"MON\",\"TUE\",\"WED\",\"THU\",\"FRI\",\"SAT\"]"
   ]
  },
  {
   "cell_type": "code",
   "execution_count": 3,
   "id": "featured-ballet",
   "metadata": {},
   "outputs": [],
   "source": [
    "a = 5\n",
    "b = 24"
   ]
  },
  {
   "cell_type": "code",
   "execution_count": 16,
   "id": "integral-yield",
   "metadata": {},
   "outputs": [],
   "source": [
    "import datetime"
   ]
  },
  {
   "cell_type": "code",
   "execution_count": 25,
   "id": "searching-civilization",
   "metadata": {},
   "outputs": [],
   "source": [
    "date = datetime.datetime(2017, a, b)"
   ]
  },
  {
   "cell_type": "code",
   "execution_count": 30,
   "id": "published-citizen",
   "metadata": {},
   "outputs": [
    {
     "data": {
      "text/plain": [
       "'TUE'"
      ]
     },
     "execution_count": 30,
     "metadata": {},
     "output_type": "execute_result"
    }
   ],
   "source": [
    "weekdays[date.weekday()]"
   ]
  },
  {
   "cell_type": "code",
   "execution_count": null,
   "id": "assisted-begin",
   "metadata": {},
   "outputs": [],
   "source": []
  }
 ],
 "metadata": {
  "kernelspec": {
   "display_name": "wyatt38",
   "language": "python",
   "name": "wyatt38"
  },
  "language_info": {
   "codemirror_mode": {
    "name": "ipython",
    "version": 3
   },
   "file_extension": ".py",
   "mimetype": "text/x-python",
   "name": "python",
   "nbconvert_exporter": "python",
   "pygments_lexer": "ipython3",
   "version": "3.8.0"
  }
 },
 "nbformat": 4,
 "nbformat_minor": 5
}
