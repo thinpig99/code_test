{
 "cells": [
  {
   "cell_type": "markdown",
   "id": "attempted-wyoming",
   "metadata": {},
   "source": [
    "# 코딩테스트 > 정렬 > k번째수"
   ]
  },
  {
   "cell_type": "markdown",
   "id": "prospective-radiation",
   "metadata": {},
   "source": [
    "## 문제 설명\n",
    "배열 array의 i번째 숫자부터 j번째 숫자까지 자르고 정렬했을 때, k번째에 있는 수를 구하려 합니다.\n",
    "\n",
    "예를 들어 array가 [1, 5, 2, 6, 3, 7, 4], i = 2, j = 5, k = 3이라면\n",
    "\n",
    "- array의 2번째부터 5번째까지 자르면 [5, 2, 6, 3]입니다.\n",
    "- 1에서 나온 배열을 정렬하면 [2, 3, 5, 6]입니다.\n",
    "- 2에서 나온 배열의 3번째 숫자는 5입니다.\n",
    "\n",
    "\n",
    "배열 array, [i, j, k]를 원소로 가진 2차원 배열 commands가 매개변수로 주어질 때, commands의 모든 원소에 대해 앞서 설명한 연산을 적용했을 때 나온 결과를 배열에 담아 return 하도록 solution 함수를 작성해주세요."
   ]
  },
  {
   "cell_type": "markdown",
   "id": "decent-agreement",
   "metadata": {},
   "source": [
    "## 제한사항\n",
    "- array의 길이는 1 이상 100 이하입니다.\n",
    "- array의 각 원소는 1 이상 100 이하입니다.\n",
    "- commands의 길이는 1 이상 50 이하입니다.\n",
    "- commands의 각 원소는 길이가 3입니다."
   ]
  },
  {
   "cell_type": "markdown",
   "id": "acute-cooperative",
   "metadata": {},
   "source": [
    "## 입출력 예\n",
    "|array|\tcommands|\treturn|\n",
    "|---|---|---|\n",
    "|[1, 5, 2, 6, 3, 7, 4]|\t[[2, 5, 3], [4, 4, 1], [1, 7, 3]]|\t[5, 6, 3]|"
   ]
  },
  {
   "cell_type": "markdown",
   "id": "precious-mauritius",
   "metadata": {},
   "source": [
    "## 입출력 예 설명\n",
    "- [1, 5, 2, 6, 3, 7, 4]를 2번째부터 5번째까지 자른 후 정렬합니다. [2, 3, 5, 6]의 세 번째 숫자는 5입니다.\n",
    "- [1, 5, 2, 6, 3, 7, 4]를 4번째부터 4번째까지 자른 후 정렬합니다. [6]의 첫 번째 숫자는 6입니다.\n",
    "- [1, 5, 2, 6, 3, 7, 4]를 1번째부터 7번째까지 자릅니다. [1, 2, 3, 4, 5, 6, 7]의 세 번째 숫자는 3입니다."
   ]
  },
  {
   "cell_type": "code",
   "execution_count": 1,
   "id": "silent-campaign",
   "metadata": {},
   "outputs": [],
   "source": [
    "arr = [1, 5, 2, 6, 3, 7, 4]\n",
    "commands = [[2, 5, 3], [4, 4, 1], [1, 7, 3]]\n",
    "answer = [5, 6, 3]"
   ]
  },
  {
   "cell_type": "code",
   "execution_count": 17,
   "id": "successful-ottawa",
   "metadata": {},
   "outputs": [],
   "source": [
    "def solution(array, commands):\n",
    "    idx_list = []\n",
    "    for li in commands:\n",
    "        start = li[0]\n",
    "        end = li[1]\n",
    "        k = li[2]\n",
    "        print(\"start, end, k: \", start, end, k)\n",
    "        print(\"arr[start: end] : \", arr[start-1:end])\n",
    "        print(\"sorted arr: \", sorted(arr[start-1:end]))\n",
    "        idx = sorted(arr[start-1:end])[k-1]\n",
    "        idx_list.append(idx)\n",
    "    return idx_list"
   ]
  },
  {
   "cell_type": "code",
   "execution_count": 18,
   "id": "dated-production",
   "metadata": {},
   "outputs": [
    {
     "name": "stdout",
     "output_type": "stream",
     "text": [
      "start, end, k:  2 5 3\n",
      "arr[start: end] :  [5, 2, 6, 3]\n",
      "sorted arr:  [2, 3, 5, 6]\n",
      "start, end, k:  4 4 1\n",
      "arr[start: end] :  [6]\n",
      "sorted arr:  [6]\n",
      "start, end, k:  1 7 3\n",
      "arr[start: end] :  [1, 5, 2, 6, 3, 7, 4]\n",
      "sorted arr:  [1, 2, 3, 4, 5, 6, 7]\n"
     ]
    },
    {
     "data": {
      "text/plain": [
       "[5, 6, 3]"
      ]
     },
     "execution_count": 18,
     "metadata": {},
     "output_type": "execute_result"
    }
   ],
   "source": [
    "solution(arr, commands)"
   ]
  },
  {
   "cell_type": "code",
   "execution_count": null,
   "id": "universal-relative",
   "metadata": {},
   "outputs": [],
   "source": []
  }
 ],
 "metadata": {
  "kernelspec": {
   "display_name": "Python 3",
   "language": "python",
   "name": "python3"
  },
  "language_info": {
   "codemirror_mode": {
    "name": "ipython",
    "version": 3
   },
   "file_extension": ".py",
   "mimetype": "text/x-python",
   "name": "python",
   "nbconvert_exporter": "python",
   "pygments_lexer": "ipython3",
   "version": "3.8.8"
  }
 },
 "nbformat": 4,
 "nbformat_minor": 5
}
