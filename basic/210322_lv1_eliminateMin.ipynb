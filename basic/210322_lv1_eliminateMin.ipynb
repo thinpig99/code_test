{
 "cells": [
  {
   "cell_type": "markdown",
   "id": "legendary-right",
   "metadata": {},
   "source": [
    "# 코딩 테스트 연습 > 연습문제 > 제일 작은 수 제거하기"
   ]
  },
  {
   "cell_type": "markdown",
   "id": "terminal-passage",
   "metadata": {},
   "source": [
    "## 문제 설명\n",
    "정수를 저장한 배열, arr 에서 가장 작은 수를 제거한 배열을 리턴하는 함수, solution을 완성해주세요. 단, 리턴하려는 배열이 빈 배열인 경우엔 배열에 -1을 채워 리턴하세요. 예를들어 arr이 [4,3,2,1]인 경우는 [4,3,2]를 리턴 하고, [10]면 [-1]을 리턴 합니다."
   ]
  },
  {
   "cell_type": "markdown",
   "id": "continuous-while",
   "metadata": {},
   "source": [
    "## 제한 조건\n",
    "- arr은 길이 1 이상인 배열입니다.\n",
    "- 인덱스 i, j에 대해 i ≠ j이면 arr[i] ≠ arr[j] 입니다."
   ]
  },
  {
   "cell_type": "markdown",
   "id": "disciplinary-press",
   "metadata": {},
   "source": [
    "## 입출력 예\n",
    "|arr|\treturn|\n",
    "|---|---|\n",
    "|[4,3,2,1]|\t[4,3,2]|\n",
    "|[10]|\t[-1]|"
   ]
  },
  {
   "cell_type": "code",
   "execution_count": 1,
   "id": "bridal-blank",
   "metadata": {},
   "outputs": [],
   "source": [
    "def solution(arr):\n",
    "    arr.remove(min(arr))\n",
    "    if arr:\n",
    "        return arr\n",
    "    else:\n",
    "        return [-1]"
   ]
  },
  {
   "cell_type": "code",
   "execution_count": 2,
   "id": "rural-horizontal",
   "metadata": {},
   "outputs": [
    {
     "data": {
      "text/plain": [
       "[4, 3, 2]"
      ]
     },
     "execution_count": 2,
     "metadata": {},
     "output_type": "execute_result"
    }
   ],
   "source": [
    "solution([4, 3, 2, 1])"
   ]
  },
  {
   "cell_type": "code",
   "execution_count": 3,
   "id": "cultural-nigeria",
   "metadata": {},
   "outputs": [
    {
     "data": {
      "text/plain": [
       "[-1]"
      ]
     },
     "execution_count": 3,
     "metadata": {},
     "output_type": "execute_result"
    }
   ],
   "source": [
    "solution([1])"
   ]
  },
  {
   "cell_type": "code",
   "execution_count": null,
   "id": "laden-substitute",
   "metadata": {},
   "outputs": [],
   "source": []
  }
 ],
 "metadata": {
  "kernelspec": {
   "display_name": "wyatt38",
   "language": "python",
   "name": "wyatt38"
  },
  "language_info": {
   "codemirror_mode": {
    "name": "ipython",
    "version": 3
   },
   "file_extension": ".py",
   "mimetype": "text/x-python",
   "name": "python",
   "nbconvert_exporter": "python",
   "pygments_lexer": "ipython3",
   "version": "3.8.0"
  }
 },
 "nbformat": 4,
 "nbformat_minor": 5
}
