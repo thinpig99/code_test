{
 "cells": [
  {
   "cell_type": "markdown",
   "id": "spectacular-cooling",
   "metadata": {},
   "source": [
    "# 코딩 테스트 연습 > 연습문제 > 내적"
   ]
  },
  {
   "cell_type": "markdown",
   "id": "peaceful-purple",
   "metadata": {},
   "source": [
    "## 문제 설명\n",
    "길이가 같은 두 1차원 정수 배열 a, b가 매개변수로 주어집니다. a와 b의 내적을 return 하도록 solution 함수를 완성해주세요.\n",
    "\n",
    "이때, a와 b의 내적은 a[0]*b[0] + a[1]*b[1] + ... + a[n-1]*b[n-1] 입니다. (n은 a, b의 길이)"
   ]
  },
  {
   "cell_type": "markdown",
   "id": "attended-comedy",
   "metadata": {},
   "source": [
    "## 제한사항\n",
    "- a, b의 길이는 1 이상 1,000 이하입니다.\n",
    "- a, b의 모든 수는 -1,000 이상 1,000 이하입니다."
   ]
  },
  {
   "cell_type": "markdown",
   "id": "scheduled-monaco",
   "metadata": {},
   "source": [
    "## 입출력 예\n",
    "|a|\tb|\tresult|\n",
    "|---|---|---|\n",
    "|[1,2,3,4]\t|[-3,-1,0,2]|\t3|\n",
    "|[-1,0,1]\t|[1,0,-1]|\t-2|"
   ]
  },
  {
   "cell_type": "markdown",
   "id": "extensive-devon",
   "metadata": {},
   "source": [
    "사실 간단하게 넘파이 닷프로덕트로 됩니다."
   ]
  },
  {
   "cell_type": "code",
   "execution_count": 1,
   "id": "diverse-bidding",
   "metadata": {},
   "outputs": [],
   "source": [
    "import numpy as np"
   ]
  },
  {
   "cell_type": "code",
   "execution_count": 2,
   "id": "scientific-imaging",
   "metadata": {},
   "outputs": [],
   "source": [
    "a = [1,2,3,4]\n",
    "b = [-3,-1,0,2]"
   ]
  },
  {
   "cell_type": "code",
   "execution_count": 3,
   "id": "generous-promotion",
   "metadata": {},
   "outputs": [
    {
     "data": {
      "text/plain": [
       "3"
      ]
     },
     "execution_count": 3,
     "metadata": {},
     "output_type": "execute_result"
    }
   ],
   "source": [
    "np.dot(a, b)"
   ]
  },
  {
   "cell_type": "markdown",
   "id": "japanese-baseline",
   "metadata": {},
   "source": [
    "넘파이를 쓰지 않는다면 이렇게도 구현 가능합니다."
   ]
  },
  {
   "cell_type": "code",
   "execution_count": 4,
   "id": "wrapped-fundamental",
   "metadata": {},
   "outputs": [
    {
     "data": {
      "text/plain": [
       "3"
      ]
     },
     "execution_count": 4,
     "metadata": {},
     "output_type": "execute_result"
    }
   ],
   "source": [
    "sum([x*y for x, y in zip(a, b)])"
   ]
  }
 ],
 "metadata": {
  "kernelspec": {
   "display_name": "wyatt38",
   "language": "python",
   "name": "wyatt38"
  },
  "language_info": {
   "codemirror_mode": {
    "name": "ipython",
    "version": 3
   },
   "file_extension": ".py",
   "mimetype": "text/x-python",
   "name": "python",
   "nbconvert_exporter": "python",
   "pygments_lexer": "ipython3",
   "version": "3.8.0"
  }
 },
 "nbformat": 4,
 "nbformat_minor": 5
}
