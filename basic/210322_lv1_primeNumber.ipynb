{
 "cells": [
  {
   "cell_type": "markdown",
   "id": "welsh-technology",
   "metadata": {},
   "source": [
    "# 코딩 테스트 연습 > 연습문제 > 소수 찾기"
   ]
  },
  {
   "cell_type": "markdown",
   "id": "lightweight-joshua",
   "metadata": {},
   "source": [
    "## 문제 설명\n",
    "1부터 입력받은 숫자 n 사이에 있는 소수의 개수를 반환하는 함수, solution을 만들어 보세요.\n",
    "\n",
    "소수는 1과 자기 자신으로만 나누어지는 수를 의미합니다.\n",
    "(1은 소수가 아닙니다.)"
   ]
  },
  {
   "cell_type": "markdown",
   "id": "monetary-barrier",
   "metadata": {},
   "source": [
    "## 제한 조건\n",
    "- n은 2이상 1000000이하의 자연수입니다."
   ]
  },
  {
   "cell_type": "markdown",
   "id": "double-indication",
   "metadata": {},
   "source": [
    "## 입출력 예\n",
    "|n|\tresult|\n",
    "|---|---|\n",
    "|10|\t4|\n",
    "|5|\t3|"
   ]
  },
  {
   "cell_type": "markdown",
   "id": "scientific-population",
   "metadata": {},
   "source": [
    "## 입출력 예 설명\n",
    "### 입출력 예 #1\n",
    "1부터 10 사이의 소수는 [2,3,5,7] 4개가 존재하므로 4를 반환\n",
    "\n",
    "### 입출력 예 #2\n",
    "1부터 5 사이의 소수는 [2,3,5] 3개가 존재하므로 3를 반환"
   ]
  },
  {
   "cell_type": "markdown",
   "id": "later-warner",
   "metadata": {},
   "source": [
    "### 아이디어\n",
    "\n",
    "n이 1000000까지의 자연수이기 때문에 효율성이 붙는다.\n",
    "\n",
    "일단 2를 제외하고서는 짝수는 소수일 수 없다.\n",
    "\n",
    "소수는 소수로 나눠지지 않는 숫자이다."
   ]
  },
  {
   "cell_type": "markdown",
   "id": "inclusive-poster",
   "metadata": {},
   "source": [
    "에라토스테네스의 채, 는 이렇게 구현한다고 합니다. 어렵습니다."
   ]
  },
  {
   "cell_type": "code",
   "execution_count": 138,
   "id": "clinical-police",
   "metadata": {},
   "outputs": [
    {
     "name": "stdout",
     "output_type": "stream",
     "text": [
      "a is:  [False, False, True, True, True, True, True, True, True, True, True]\n",
      "prime is:  [2]\n",
      "changed a:  [False, False, True, True, False, True, True, True, True, True, True]\n",
      "changed a:  [False, False, True, True, False, True, False, True, True, True, True]\n",
      "changed a:  [False, False, True, True, False, True, False, True, False, True, True]\n",
      "changed a:  [False, False, True, True, False, True, False, True, False, True, False]\n",
      "prime is:  [2, 3]\n",
      "changed a:  [False, False, True, True, False, True, False, True, False, True, False]\n",
      "changed a:  [False, False, True, True, False, True, False, True, False, False, False]\n",
      "prime is:  [2, 3, 5]\n",
      "changed a:  [False, False, True, True, False, True, False, True, False, False, False]\n",
      "prime is:  [2, 3, 5, 7]\n",
      "[2, 3, 5, 7]\n"
     ]
    }
   ],
   "source": [
    "a = [False, False] + [True]*(n-1)\n",
    "print(\"a is: \", a)\n",
    "primes=[]\n",
    "for i in range(2, n+1):\n",
    "    if a[i]:\n",
    "        primes.append(i)\n",
    "        print(\"prime is: \", primes)\n",
    "        for j in range(2*i, n+1, i):\n",
    "            a[j] = False\n",
    "            print('changed a: ', a)\n",
    "            \n",
    "print(primes)"
   ]
  },
  {
   "cell_type": "code",
   "execution_count": null,
   "id": "discrete-camera",
   "metadata": {},
   "outputs": [],
   "source": []
  }
 ],
 "metadata": {
  "kernelspec": {
   "display_name": "Python 3",
   "language": "python",
   "name": "python3"
  },
  "language_info": {
   "codemirror_mode": {
    "name": "ipython",
    "version": 3
   },
   "file_extension": ".py",
   "mimetype": "text/x-python",
   "name": "python",
   "nbconvert_exporter": "python",
   "pygments_lexer": "ipython3",
   "version": "3.8.8"
  }
 },
 "nbformat": 4,
 "nbformat_minor": 5
}
