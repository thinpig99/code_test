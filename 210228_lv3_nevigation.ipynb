{
 "cells": [
  {
   "cell_type": "markdown",
   "id": "dressed-mining",
   "metadata": {},
   "source": [
    "# 코딩 테스트 연습 > 카카오 > 길찾기"
   ]
  },
  {
   "cell_type": "code",
   "execution_count": null,
   "id": "mechanical-thriller",
   "metadata": {},
   "outputs": [],
   "source": []
  }
 ],
 "metadata": {
  "kernelspec": {
   "display_name": "Python 3",
   "language": "python",
   "name": "python3"
  },
  "language_info": {
   "codemirror_mode": {
    "name": "ipython",
    "version": 3
   },
   "file_extension": ".py",
   "mimetype": "text/x-python",
   "name": "python",
   "nbconvert_exporter": "python",
   "pygments_lexer": "ipython3",
   "version": "3.8.0"
  }
 },
 "nbformat": 4,
 "nbformat_minor": 5
}
