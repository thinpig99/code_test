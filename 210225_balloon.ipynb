{
 "cells": [
  {
   "cell_type": "markdown",
   "id": "entertaining-structure",
   "metadata": {},
   "source": [
    "# 코딩 테스트 연습 > 풍선 터트리기"
   ]
  },
  {
   "cell_type": "markdown",
   "id": "dense-shepherd",
   "metadata": {},
   "source": [
    "## 문제 설명\n",
    "일렬로 나열된 n개의 풍선이 있습니다. 모든 풍선에는 서로 다른 숫자가 써져 있습니다. 당신은 다음 과정을 반복하면서 풍선들을 단 1개만 남을 때까지 계속 터트리려고 합니다.\n",
    "\n",
    "1. 임의의 인접한 두 풍선을 고른 뒤, 두 풍선 중 하나를 터트립니다.\n",
    "2. 터진 풍선으로 인해 풍선들 사이에 빈 공간이 생겼다면, 빈 공간이 없도록 풍선들을 중앙으로 밀착시킵니다.\n",
    "\n",
    "\n",
    "여기서 조건이 있습니다. 인접한 두 풍선 중에서 번호가 더 작은 풍선을 터트리는 행위는 최대 1번만 할 수 있습니다. 즉, 어떤 시점에서 인접한 두 풍선 중 번호가 더 작은 풍선을 터트렸다면, 그 이후에는 인접한 두 풍선을 고른 뒤 번호가 더 큰 풍선만을 터트릴 수 있습니다.\n",
    "\n",
    "당신은 어떤 풍선이 최후까지 남을 수 있는지 알아보고 싶습니다. 위에 서술된 조건대로 풍선을 터트리다 보면, 어떤 풍선은 최후까지 남을 수도 있지만, 어떤 풍선은 무슨 수를 쓰더라도 마지막까지 남기는 것이 불가능할 수도 있습니다.\n",
    "\n",
    "일렬로 나열된 풍선들의 번호가 담긴 배열 a가 주어집니다. 위에 서술된 규칙대로 풍선들을 1개만 남을 때까지 터트렸을 때 최후까지 남기는 것이 가능한 풍선들의 개수를 return 하도록 solution 함수를 완성해주세요."
   ]
  },
  {
   "cell_type": "markdown",
   "id": "starting-absorption",
   "metadata": {},
   "source": [
    "## 제한 사항\n",
    "- a의 길이는 1 이상 1,000,000 이하입니다.\n",
    "    - a[i]는 i+1 번째 풍선에 써진 숫자를 의미합니다.\n",
    "    - a의 모든 수는 -1,000,000,000 이상 1,000,000,000 이하인 정수입니다.\n",
    "    - a의 모든 수는 서로 다릅니다."
   ]
  },
  {
   "cell_type": "markdown",
   "id": "satisfied-consequence",
   "metadata": {},
   "source": [
    "## 입출력 예\n",
    "|a\t|result|\n",
    "|---|---|\n",
    "|[9,-1,-5]\t|3|\n",
    "|[-16,27,65,-2,58,-92,-71,-68,-61,-33]\t|6|"
   ]
  },
  {
   "cell_type": "markdown",
   "id": "based-hypothetical",
   "metadata": {},
   "source": [
    "## 입출력 예 설명\n",
    "### 입출력 예 #1\n",
    "\n",
    "- 첫 번째 풍선(9가 써진 풍선)을 최후까지 남기는 방법은 다음과 같습니다.\n",
    "    1. [9, -1, -5] 에서 -1, -5가 써진 풍선을 고른 뒤, -1이 써진 풍선(번호가 더 큰 것)을 터트립니다.\n",
    "    2. [9, -5] 에서 9, -5가 써진 풍선을 고른 뒤, -5가 써진 풍선(번호가 더 작은 것)을 터트립니다.\n",
    "- 두 번째 풍선(-1이 써진 풍선)을 최후까지 남기는 방법은 다음과 같습니다.\n",
    "    1. [9, -1, -5] 에서 9, -1이 써진 풍선을 고른 뒤, 9가 써진 풍선(번호가 더 큰 것)을 터트립니다.\n",
    "    2. [-1, -5] 에서 -1, -5가 써진 풍선을 고른 뒤, -5가 써진 풍선(번호가 더 작은 것)을 터트립니다.\n",
    "- 세 번째 풍선(-5가 써진 풍선)을 최후까지 남기는 방법은 다음과 같습니다.\n",
    "    1. [9, -1, -5] 에서 9, -1이 써진 풍선을 고른 뒤, 9가 써진 풍선(번호가 더 큰 것)을 터트립니다.\n",
    "    2. [-1, -5] 에서 -1, -5가 써진 풍선을 고른 뒤, -1이 써진 풍선(번호가 더 큰 것)을 터트립니다.\n",
    "- 3개의 풍선이 최후까지 남을 수 있으므로, 3을 return 해야 합니다.\n",
    "\n",
    "### 입출력 예 #2\n",
    "\n",
    "- 최후까지 남을 수 있는 풍선은 -16, -92, -71, -68, -61, -33이 써진 풍선으로 모두 6개입니다."
   ]
  },
  {
   "cell_type": "markdown",
   "id": "placed-reply",
   "metadata": {},
   "source": [
    "## 아이디어"
   ]
  },
  {
   "cell_type": "markdown",
   "id": "controlled-pearl",
   "metadata": {},
   "source": [
    "1. 일단 두 개의 풍선을 고르고, 더 값이 큰 풍선을 터뜨려서 마지막으로 남은 풍선을 리턴하는 모델을 만들어야겠다.\n",
    "\n",
    "2. 그 다음, 더 작은 값의 풍선을 터뜨릴 수 있는 모델을 끼워 넣어본다."
   ]
  },
  {
   "cell_type": "markdown",
   "id": "appropriate-mission",
   "metadata": {},
   "source": [
    "3. 오히려 해당 숫자가 생존할 수 있는지를 체크한다면?\n",
    "\n",
    "4. 맨 왼쪽과 맨 오른쪽은 무조건 생존할 수 있다. 왜냐면 찬스 1개를 쓸 수 있으니까. 문제는 가운데인데, 가운데는 양 옆을 모두 이겨야 한다. 찬스를 한 번 밖에 쓰지 못하므로 다른 한 쪽은 무조건 자기보다 숫자가 커야 한다.\n",
    "\n",
    "5. 가장 작은 수는 무조건 살아남는다.\n",
    "\n",
    "6. 가장 작은 수보다 바로 위의 큰 수도 무조건 살아남는다."
   ]
  },
  {
   "cell_type": "code",
   "execution_count": 1,
   "id": "accessible-poison",
   "metadata": {},
   "outputs": [
    {
     "name": "stdout",
     "output_type": "stream",
     "text": [
      "10\n"
     ]
    }
   ],
   "source": [
    "a = [9, -1, -5]\n",
    "a_res = 3\n",
    "\n",
    "b = [-16, 27, 65, -2, 58, -92, -71, -68, -61, -33]\n",
    "b_res = 6\n",
    "print(len(b))"
   ]
  },
  {
   "cell_type": "code",
   "execution_count": 123,
   "id": "hungarian-myanmar",
   "metadata": {},
   "outputs": [],
   "source": [
    "# 인접한 두 개의 풍선만을 고를 수 있다.\n",
    "# 무조건 두 개의 풍선 중에 값이 큰 풍선만 터뜨릴 수 있다.\n",
    "# 단 한 번, 더 작은 값의 풍선을 터뜨릴 수 있다."
   ]
  },
  {
   "cell_type": "code",
   "execution_count": 70,
   "id": "imposed-blood",
   "metadata": {},
   "outputs": [],
   "source": [
    "import numpy as np"
   ]
  },
  {
   "cell_type": "code",
   "execution_count": 71,
   "id": "spanish-grace",
   "metadata": {},
   "outputs": [],
   "source": [
    "import random as rd"
   ]
  },
  {
   "cell_type": "code",
   "execution_count": 446,
   "id": "cultural-energy",
   "metadata": {},
   "outputs": [],
   "source": [
    "def bomb(list_, start_idx):\n",
    "    \"\"\"\n",
    "    풍선 리스트를 받아서 지정한 인덱스와 그 우측으로 인접한 풍선에 대해 터뜨리고\n",
    "    다시 풍선 리스트로 넣어주는 함수\n",
    "    \n",
    "    인수\n",
    "    list_ : 풍선 리스트\n",
    "    start_idx: 풍선 시작점\n",
    "    \"\"\"  \n",
    "    temp = list_[start_idx:start_idx+2]\n",
    "    if temp[0] > temp[1]:\n",
    "        temp.pop(0)\n",
    "    else:\n",
    "        temp.pop()\n",
    "    list_[start_idx] = temp[0]\n",
    "    list_.pop(start_idx+1)\n",
    "\n",
    "    return list_"
   ]
  },
  {
   "cell_type": "code",
   "execution_count": 489,
   "id": "legislative-router",
   "metadata": {},
   "outputs": [
    {
     "name": "stdout",
     "output_type": "stream",
     "text": [
      "ranges:  7\n",
      "[-16, 27, 65, -2, 58, -92, -71, -68, -33]\n",
      "ranges:  6\n",
      "[-16, 27, 65, -2, 58, -92, -71, -33]\n",
      "ranges:  2\n",
      "[-16, 27, -2, 58, -92, -71, -33]\n",
      "ranges:  0\n",
      "[-16, -2, 58, -92, -71, -33]\n",
      "ranges:  2\n",
      "[-16, -2, -92, -71, -33]\n",
      "ranges:  2\n",
      "[-16, -2, -92, -33]\n",
      "ranges:  0\n",
      "[-16, -92, -33]\n"
     ]
    }
   ],
   "source": [
    "b = [-16, 27, 65, -2, 58, -92, -71, -68, -61, -33]\n",
    "for _ in range(len(b) - 3):\n",
    "    ranges = rd.randint(0, len(b)-2)\n",
    "    print(\"ranges: \", ranges)\n",
    "    bomb(b, ranges)\n",
    "    print(b)"
   ]
  },
  {
   "cell_type": "code",
   "execution_count": 649,
   "id": "satisfactory-worse",
   "metadata": {},
   "outputs": [],
   "source": [
    "b = [-16, 27, 65, -2, 58, -92, -71, -68, -61, -33]"
   ]
  },
  {
   "cell_type": "code",
   "execution_count": 536,
   "id": "further-newspaper",
   "metadata": {},
   "outputs": [
    {
     "data": {
      "text/plain": [
       "(array([0, 1, 2, 3, 4, 5, 6, 7, 8, 9], dtype=int64),)"
      ]
     },
     "execution_count": 536,
     "metadata": {},
     "output_type": "execute_result"
    }
   ],
   "source": [
    "np.where(b)"
   ]
  },
  {
   "cell_type": "code",
   "execution_count": 535,
   "id": "lesbian-return",
   "metadata": {},
   "outputs": [
    {
     "data": {
      "text/plain": [
       "5"
      ]
     },
     "execution_count": 535,
     "metadata": {},
     "output_type": "execute_result"
    }
   ],
   "source": [
    "np.argmin(b)"
   ]
  },
  {
   "cell_type": "code",
   "execution_count": 527,
   "id": "varied-pierre",
   "metadata": {},
   "outputs": [
    {
     "data": {
      "text/plain": [
       "[27, 65, -2, 58, -92, -71, -68, -61]"
      ]
     },
     "execution_count": 527,
     "metadata": {},
     "output_type": "execute_result"
    }
   ],
   "source": [
    "b[1:-1]"
   ]
  },
  {
   "cell_type": "code",
   "execution_count": 2,
   "id": "solar-seventh",
   "metadata": {},
   "outputs": [
    {
     "name": "stdout",
     "output_type": "stream",
     "text": [
      "when i == 0, j is:  27\n",
      "left pool is :  [-16]\n",
      "left min number is:  -16\n",
      "right pool is :  [65, -2, 58, -92, -71, -68, -61, -33]\n",
      "right min number is:  -92\n",
      "when i == 1, j is:  65\n",
      "left pool is :  [-16, 27]\n",
      "left min number is:  -16\n",
      "right pool is :  [-2, 58, -92, -71, -68, -61, -33]\n",
      "right min number is:  -92\n",
      "when i == 2, j is:  -2\n",
      "left pool is :  [-16, 27, 65]\n",
      "left min number is:  -16\n",
      "right pool is :  [58, -92, -71, -68, -61, -33]\n",
      "right min number is:  -92\n",
      "when i == 3, j is:  58\n",
      "left pool is :  [-16, 27, 65, -2]\n",
      "left min number is:  -16\n",
      "right pool is :  [-92, -71, -68, -61, -33]\n",
      "right min number is:  -92\n",
      "when i == 4, j is:  -92\n",
      "left pool is :  [-16, 27, 65, -2, 58]\n",
      "left min number is:  -16\n",
      "right pool is :  [-71, -68, -61, -33]\n",
      "right min number is:  -71\n",
      "left < j:  True\n",
      "rigth < j:  True\n",
      "-92  is alive.\n",
      "when i == 5, j is:  -71\n",
      "left pool is :  [-16, 27, 65, -2, 58, -92]\n",
      "left min number is:  -92\n",
      "right pool is :  [-68, -61, -33]\n",
      "right min number is:  -68\n",
      "left < j:  False\n",
      "rigth < j:  True\n",
      "-71  is alive.\n",
      "when i == 6, j is:  -68\n",
      "left pool is :  [-16, 27, 65, -2, 58, -92, -71]\n",
      "left min number is:  -92\n",
      "right pool is :  [-61, -33]\n",
      "right min number is:  -61\n",
      "left < j:  False\n",
      "rigth < j:  True\n",
      "-68  is alive.\n",
      "when i == 7, j is:  -61\n",
      "left pool is :  [-16, 27, 65, -2, 58, -92, -71, -68]\n",
      "left min number is:  -92\n",
      "right pool is :  [-33]\n",
      "right min number is:  -33\n",
      "left < j:  False\n",
      "rigth < j:  True\n",
      "-61  is alive.\n"
     ]
    },
    {
     "data": {
      "text/plain": [
       "6"
      ]
     },
     "execution_count": 2,
     "metadata": {},
     "output_type": "execute_result"
    }
   ],
   "source": [
    "survivor = 2\n",
    "input_ = b\n",
    "enu_input = input_[1:-1]\n",
    "for i, j in enumerate(enu_input):\n",
    "\n",
    "    print(\"when i == {}, j is: \".format(i), j)\n",
    "    print(\"left pool is : \", input_[0:i+1])\n",
    "    print(\"left min number is: \", min(input_[0:i+1]))\n",
    "    print(\"right pool is : \", input_[i+2:])\n",
    "    print(\"right min number is: \", min(input_[i+2:]))\n",
    "\n",
    "    left = min(input_[0:i+1])\n",
    "    right = min(input_[i+2:])\n",
    "\n",
    "    if left > j or right > j:\n",
    "        print(\"left < j: \", left > j)\n",
    "        print(\"rigth < j: \", right > j)\n",
    "        print(j, \" is alive.\")\n",
    "        survivor += 1\n",
    "            \n",
    "survivor"
   ]
  },
  {
   "cell_type": "code",
   "execution_count": 3,
   "id": "inside-confidence",
   "metadata": {},
   "outputs": [
    {
     "data": {
      "text/plain": [
       "6"
      ]
     },
     "execution_count": 3,
     "metadata": {},
     "output_type": "execute_result"
    }
   ],
   "source": [
    "survivor"
   ]
  },
  {
   "cell_type": "markdown",
   "id": "drawn-linux",
   "metadata": {},
   "source": [
    "추가 아이디어.\n",
    "\n",
    "1. 가장 작은 친구를 구한다.\n",
    "2. 가장 작은 친구를 기점으로 좌우 끝 친구들보다 큰 애들만 산다.\n",
    "3. 맨 끝 둘은 무조건 산다."
   ]
  },
  {
   "cell_type": "code",
   "execution_count": 6,
   "id": "composite-aluminum",
   "metadata": {},
   "outputs": [],
   "source": [
    "import numpy as np"
   ]
  },
  {
   "cell_type": "code",
   "execution_count": 7,
   "id": "iraqi-integration",
   "metadata": {},
   "outputs": [],
   "source": [
    "b = [-16, 27, 65, -2, 58, -92, -71, -68, -61, -33]"
   ]
  },
  {
   "cell_type": "code",
   "execution_count": 8,
   "id": "banner-small",
   "metadata": {},
   "outputs": [
    {
     "data": {
      "text/plain": [
       "(array([0, 1, 2, 3, 4, 5, 6, 7, 8, 9], dtype=int64),)"
      ]
     },
     "execution_count": 8,
     "metadata": {},
     "output_type": "execute_result"
    }
   ],
   "source": [
    "np.where(b)"
   ]
  },
  {
   "cell_type": "code",
   "execution_count": 10,
   "id": "finnish-competition",
   "metadata": {},
   "outputs": [
    {
     "data": {
      "text/plain": [
       "5"
      ]
     },
     "execution_count": 10,
     "metadata": {},
     "output_type": "execute_result"
    }
   ],
   "source": [
    "min_idx = np.argmin(b)\n",
    "min_idx"
   ]
  },
  {
   "cell_type": "code",
   "execution_count": 11,
   "id": "economic-wildlife",
   "metadata": {},
   "outputs": [
    {
     "name": "stdout",
     "output_type": "stream",
     "text": [
      "[-16, 27, 65, -2, 58]\n",
      "[-71, -68, -61, -33]\n"
     ]
    }
   ],
   "source": [
    "lefts = b[:min_idx]\n",
    "print(lefts)\n",
    "rights = b[min_idx+1:]\n",
    "print(rights)"
   ]
  },
  {
   "cell_type": "code",
   "execution_count": 12,
   "id": "french-centre",
   "metadata": {},
   "outputs": [
    {
     "data": {
      "text/plain": [
       "(-16, -33)"
      ]
     },
     "execution_count": 12,
     "metadata": {},
     "output_type": "execute_result"
    }
   ],
   "source": [
    "b[0], b[len(b)-1]"
   ]
  },
  {
   "cell_type": "code",
   "execution_count": 13,
   "id": "blank-proof",
   "metadata": {},
   "outputs": [
    {
     "name": "stdout",
     "output_type": "stream",
     "text": [
      "[1 0 0 0 0]\n",
      "1\n"
     ]
    }
   ],
   "source": [
    "print(np.where(np.array(lefts) > b[0], 0, 1))\n",
    "print(np.where(np.array(lefts) > b[0], 0, 1).sum())"
   ]
  },
  {
   "cell_type": "code",
   "execution_count": 14,
   "id": "discrete-treatment",
   "metadata": {},
   "outputs": [
    {
     "name": "stdout",
     "output_type": "stream",
     "text": [
      "[1 1 1 1]\n",
      "4\n"
     ]
    }
   ],
   "source": [
    "print(np.where(np.array(rights) > b[len(b)-1], 0, 1))\n",
    "print(np.where(np.array(rights) > b[len(b)-1], 0, 1).sum())"
   ]
  },
  {
   "cell_type": "code",
   "execution_count": 15,
   "id": "musical-observer",
   "metadata": {},
   "outputs": [],
   "source": [
    "i = b"
   ]
  },
  {
   "cell_type": "code",
   "execution_count": 16,
   "id": "static-hawaiian",
   "metadata": {},
   "outputs": [
    {
     "data": {
      "text/plain": [
       "6"
      ]
     },
     "execution_count": 16,
     "metadata": {},
     "output_type": "execute_result"
    }
   ],
   "source": [
    "min_idx = np.argmin(i)\n",
    "\n",
    "lefts = np.array(i[:min_idx])\n",
    "rights = np.array(i[min_idx+1:])\n",
    "survivor = (1\n",
    "            + np.where(lefts > i[0], 0, 1).sum()\n",
    "            + np.where(rights > i[len(i)-1], 0, 1).sum()\n",
    "           )\n",
    "\n",
    "survivor"
   ]
  },
  {
   "cell_type": "markdown",
   "id": "million-addiction",
   "metadata": {},
   "source": [
    "추가 아이디어.\n",
    "\n",
    "두번째 아이디어에서 확 땡겨버리는 것은?"
   ]
  },
  {
   "cell_type": "code",
   "execution_count": 42,
   "id": "moderate-specific",
   "metadata": {},
   "outputs": [
    {
     "name": "stdout",
     "output_type": "stream",
     "text": [
      "[-16, 27, 65, -2, 58]\n",
      "[-71, -68, -61, -33]\n"
     ]
    }
   ],
   "source": [
    "import numpy as np\n",
    "mini = []\n",
    "mini.append(b[np.argmin(b)])\n",
    "left = b[:np.argmin(b)]\n",
    "print(left)\n",
    "right = b[np.argmin(b)+1:]\n",
    "print(right)"
   ]
  },
  {
   "cell_type": "code",
   "execution_count": 43,
   "id": "steady-election",
   "metadata": {},
   "outputs": [
    {
     "name": "stdout",
     "output_type": "stream",
     "text": [
      "[]\n",
      "[-68, -61, -33]\n"
     ]
    }
   ],
   "source": [
    "left_left = left[:np.argmin(left)]\n",
    "print(left_left)\n",
    "right_right = right[np.argmin(right)+1:]\n",
    "print(right_right)"
   ]
  },
  {
   "cell_type": "code",
   "execution_count": 44,
   "id": "pregnant-mathematics",
   "metadata": {},
   "outputs": [
    {
     "data": {
      "text/plain": [
       "[-92, [], [-68, -61, -33]]"
      ]
     },
     "execution_count": 44,
     "metadata": {},
     "output_type": "execute_result"
    }
   ],
   "source": [
    "mini.append(left_left)\n",
    "mini.append(right_right)\n",
    "mini"
   ]
  },
  {
   "cell_type": "code",
   "execution_count": null,
   "id": "weekly-amber",
   "metadata": {},
   "outputs": [],
   "source": []
  },
  {
   "cell_type": "code",
   "execution_count": 55,
   "id": "legitimate-weekly",
   "metadata": {},
   "outputs": [
    {
     "name": "stdout",
     "output_type": "stream",
     "text": [
      "when i == 0, j is:  27\n",
      "left pool is :  [-16]\n",
      "left min number is:  -16\n",
      "right pool is :  [65, -2, 58, -92, -71, -68, -61, -33]\n",
      "right min number is:  -92\n",
      "left < j:  False\n",
      "rigth < j:  False\n",
      "27  is alive.\n",
      "when i == 1, j is:  65\n",
      "left pool is :  [-16, 27]\n",
      "left min number is:  -16\n",
      "right pool is :  [-2, 58, -92, -71, -68, -61, -33]\n",
      "right min number is:  -92\n",
      "left < j:  False\n",
      "rigth < j:  False\n",
      "65  is alive.\n",
      "when i == 2, j is:  -2\n",
      "left pool is :  [-16, 27, 65]\n",
      "left min number is:  -16\n",
      "right pool is :  [58, -92, -71, -68, -61, -33]\n",
      "right min number is:  -92\n",
      "left < j:  False\n",
      "rigth < j:  False\n",
      "-2  is alive.\n",
      "when i == 3, j is:  58\n",
      "left pool is :  [-16, 27, 65, -2]\n",
      "left min number is:  -16\n",
      "right pool is :  [-92, -71, -68, -61, -33]\n",
      "right min number is:  -92\n",
      "left < j:  False\n",
      "rigth < j:  False\n",
      "58  is alive.\n",
      "when i == 4, j is:  -92\n",
      "left pool is :  [-16, 27, 65, -2, 58]\n",
      "left min number is:  -16\n",
      "right pool is :  [-71, -68, -61, -33]\n",
      "right min number is:  -71\n",
      "when i == 5, j is:  -71\n",
      "left pool is :  [-16, 27, 65, -2, 58, -92]\n",
      "left min number is:  -92\n",
      "right pool is :  [-68, -61, -33]\n",
      "right min number is:  -68\n",
      "when i == 6, j is:  -68\n",
      "left pool is :  [-16, 27, 65, -2, 58, -92, -71]\n",
      "left min number is:  -92\n",
      "right pool is :  [-61, -33]\n",
      "right min number is:  -61\n",
      "when i == 7, j is:  -61\n",
      "left pool is :  [-16, 27, 65, -2, 58, -92, -71, -68]\n",
      "left min number is:  -92\n",
      "right pool is :  [-33]\n",
      "right min number is:  -33\n"
     ]
    },
    {
     "data": {
      "text/plain": [
       "6"
      ]
     },
     "execution_count": 55,
     "metadata": {},
     "output_type": "execute_result"
    }
   ],
   "source": [
    "survivor = 2\n",
    "input_ = b\n",
    "enu_input = input_[1:-1]\n",
    "for i, j in enumerate(enu_input):\n",
    "\n",
    "    print(\"when i == {}, j is: \".format(i), j)\n",
    "    print(\"left pool is : \", input_[0:i+1])\n",
    "    print(\"left min number is: \", min(input_[0:i+1]))\n",
    "    print(\"right pool is : \", input_[i+2:])\n",
    "    print(\"right min number is: \", min(input_[i+2:]))\n",
    "\n",
    "    left = min(input_[0:i+1])\n",
    "    right = min(input_[i+2:])\n",
    "\n",
    "    if left < j and right < j:\n",
    "        print(\"left < j: \", left > j)\n",
    "        print(\"rigth < j: \", right > j)\n",
    "        print(j, \" is alive.\")\n",
    "    else:\n",
    "        survivor += 1\n",
    "            \n",
    "survivor"
   ]
  },
  {
   "cell_type": "code",
   "execution_count": null,
   "id": "cosmetic-fight",
   "metadata": {},
   "outputs": [],
   "source": []
  }
 ],
 "metadata": {
  "kernelspec": {
   "display_name": "Python 3",
   "language": "python",
   "name": "python3"
  },
  "language_info": {
   "codemirror_mode": {
    "name": "ipython",
    "version": 3
   },
   "file_extension": ".py",
   "mimetype": "text/x-python",
   "name": "python",
   "nbconvert_exporter": "python",
   "pygments_lexer": "ipython3",
   "version": "3.8.0"
  }
 },
 "nbformat": 4,
 "nbformat_minor": 5
}
