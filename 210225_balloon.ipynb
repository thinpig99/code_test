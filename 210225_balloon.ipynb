{
 "cells": [
  {
   "cell_type": "markdown",
   "id": "organized-impact",
   "metadata": {},
   "source": [
    "# 코딩 테스트 연습 > 풍선 터트리기"
   ]
  },
  {
   "cell_type": "markdown",
   "id": "thrown-cathedral",
   "metadata": {},
   "source": [
    "## 문제 설명\n",
    "일렬로 나열된 n개의 풍선이 있습니다. 모든 풍선에는 서로 다른 숫자가 써져 있습니다. 당신은 다음 과정을 반복하면서 풍선들을 단 1개만 남을 때까지 계속 터트리려고 합니다.\n",
    "\n",
    "1. 임의의 인접한 두 풍선을 고른 뒤, 두 풍선 중 하나를 터트립니다.\n",
    "2. 터진 풍선으로 인해 풍선들 사이에 빈 공간이 생겼다면, 빈 공간이 없도록 풍선들을 중앙으로 밀착시킵니다.\n",
    "\n",
    "\n",
    "여기서 조건이 있습니다. 인접한 두 풍선 중에서 번호가 더 작은 풍선을 터트리는 행위는 최대 1번만 할 수 있습니다. 즉, 어떤 시점에서 인접한 두 풍선 중 번호가 더 작은 풍선을 터트렸다면, 그 이후에는 인접한 두 풍선을 고른 뒤 번호가 더 큰 풍선만을 터트릴 수 있습니다.\n",
    "\n",
    "당신은 어떤 풍선이 최후까지 남을 수 있는지 알아보고 싶습니다. 위에 서술된 조건대로 풍선을 터트리다 보면, 어떤 풍선은 최후까지 남을 수도 있지만, 어떤 풍선은 무슨 수를 쓰더라도 마지막까지 남기는 것이 불가능할 수도 있습니다.\n",
    "\n",
    "일렬로 나열된 풍선들의 번호가 담긴 배열 a가 주어집니다. 위에 서술된 규칙대로 풍선들을 1개만 남을 때까지 터트렸을 때 최후까지 남기는 것이 가능한 풍선들의 개수를 return 하도록 solution 함수를 완성해주세요."
   ]
  },
  {
   "cell_type": "markdown",
   "id": "inappropriate-ability",
   "metadata": {},
   "source": [
    "## 제한 사항\n",
    "- a의 길이는 1 이상 1,000,000 이하입니다.\n",
    "    - a[i]는 i+1 번째 풍선에 써진 숫자를 의미합니다.\n",
    "    - a의 모든 수는 -1,000,000,000 이상 1,000,000,000 이하인 정수입니다.\n",
    "    - a의 모든 수는 서로 다릅니다."
   ]
  },
  {
   "cell_type": "markdown",
   "id": "attended-prior",
   "metadata": {},
   "source": [
    "## 입출력 예\n",
    "|a\t|result|\n",
    "|---|---|\n",
    "|[9,-1,-5]\t|3|\n",
    "|[-16,27,65,-2,58,-92,-71,-68,-61,-33]\t|6|"
   ]
  },
  {
   "cell_type": "markdown",
   "id": "inner-termination",
   "metadata": {},
   "source": [
    "## 입출력 예 설명\n",
    "### 입출력 예 #1\n",
    "\n",
    "- 첫 번째 풍선(9가 써진 풍선)을 최후까지 남기는 방법은 다음과 같습니다.\n",
    "    1. [9, -1, -5] 에서 -1, -5가 써진 풍선을 고른 뒤, -1이 써진 풍선(번호가 더 큰 것)을 터트립니다.\n",
    "    2. [9, -5] 에서 9, -5가 써진 풍선을 고른 뒤, -5가 써진 풍선(번호가 더 작은 것)을 터트립니다.\n",
    "- 두 번째 풍선(-1이 써진 풍선)을 최후까지 남기는 방법은 다음과 같습니다.\n",
    "    1. [9, -1, -5] 에서 9, -1이 써진 풍선을 고른 뒤, 9가 써진 풍선(번호가 더 큰 것)을 터트립니다.\n",
    "    2. [-1, -5] 에서 -1, -5가 써진 풍선을 고른 뒤, -5가 써진 풍선(번호가 더 작은 것)을 터트립니다.\n",
    "- 세 번째 풍선(-5가 써진 풍선)을 최후까지 남기는 방법은 다음과 같습니다.\n",
    "    1. [9, -1, -5] 에서 9, -1이 써진 풍선을 고른 뒤, 9가 써진 풍선(번호가 더 큰 것)을 터트립니다.\n",
    "    2. [-1, -5] 에서 -1, -5가 써진 풍선을 고른 뒤, -1이 써진 풍선(번호가 더 큰 것)을 터트립니다.\n",
    "- 3개의 풍선이 최후까지 남을 수 있으므로, 3을 return 해야 합니다.\n",
    "\n",
    "### 입출력 예 #2\n",
    "\n",
    "- 최후까지 남을 수 있는 풍선은 -16, -92, -71, -68, -61, -33이 써진 풍선으로 모두 6개입니다."
   ]
  },
  {
   "cell_type": "markdown",
   "id": "national-chaos",
   "metadata": {},
   "source": [
    "## 아이디어"
   ]
  },
  {
   "cell_type": "markdown",
   "id": "excellent-automation",
   "metadata": {},
   "source": [
    "1. 일단 두 개의 풍선을 고르고, 더 값이 큰 풍선을 터뜨려서 마지막으로 남은 풍선을 리턴하는 모델을 만들어야겠다.\n",
    "\n",
    "2. 그 다음, 더 작은 값의 풍선을 터뜨릴 수 있는 모델을 끼워 넣어본다."
   ]
  },
  {
   "cell_type": "code",
   "execution_count": 47,
   "id": "handy-corporation",
   "metadata": {},
   "outputs": [],
   "source": [
    "a = [9,-1,-5]\n",
    "a_res = 3\n",
    "\n",
    "b = [-16,27,65,-2,58,-92,-71,-68,-61,-33]\n",
    "b_res = 6"
   ]
  },
  {
   "cell_type": "code",
   "execution_count": 48,
   "id": "outer-commissioner",
   "metadata": {},
   "outputs": [],
   "source": [
    "# 인접한 두 개의 풍선만을 고를 수 있다.\n",
    "# 무조건 두 개의 풍선 중에 값이 큰 풍선만 터뜨릴 수 있다.\n",
    "# 단 한 번, 더 작은 값의 풍선을 터뜨릴 수 있다."
   ]
  },
  {
   "cell_type": "code",
   "execution_count": 49,
   "id": "fitted-treasury",
   "metadata": {},
   "outputs": [
    {
     "data": {
      "text/plain": [
       "[9, -1, -5]"
      ]
     },
     "execution_count": 49,
     "metadata": {},
     "output_type": "execute_result"
    }
   ],
   "source": [
    "a"
   ]
  },
  {
   "cell_type": "code",
   "execution_count": 4,
   "id": "everyday-ranking",
   "metadata": {},
   "outputs": [],
   "source": [
    "import itertools as it\n",
    "import numpy as np"
   ]
  },
  {
   "cell_type": "code",
   "execution_count": 41,
   "id": "absolute-replica",
   "metadata": {},
   "outputs": [],
   "source": [
    "def bomb(list_, start_idx):\n",
    "    \"\"\"\n",
    "    풍선 리스트를 받아서 지정한 인덱스와 그 우측으로 인접한 풍선에 대해 터뜨리고\n",
    "    다시 풍선 리스트로 넣어주는 함수\n",
    "    \n",
    "    인수\n",
    "    list_ : 풍선 리스트\n",
    "    start_idx: 풍선 시작점\n",
    "    \"\"\"\n",
    "    temp = list_[start_idx:start_idx+2]\n",
    "    if temp[0] > temp[1]:\n",
    "        temp.pop(0)\n",
    "    else:\n",
    "        temp.pop()\n",
    "    list_[start_idx] = temp[0]\n",
    "    list_.pop(start_idx+1)\n",
    "    \n",
    "    return list_"
   ]
  },
  {
   "cell_type": "code",
   "execution_count": 50,
   "id": "fewer-keeping",
   "metadata": {},
   "outputs": [
    {
     "data": {
      "text/plain": [
       "2"
      ]
     },
     "execution_count": 50,
     "metadata": {},
     "output_type": "execute_result"
    }
   ],
   "source": [
    "# 풍선을 터뜨릴 수 있는 개수를 먼저 구해줍니다. 노드.\n",
    "\n",
    "node = len(a) - 1\n",
    "node"
   ]
  },
  {
   "cell_type": "code",
   "execution_count": 51,
   "id": "static-excuse",
   "metadata": {},
   "outputs": [],
   "source": [
    "# 맨 처음 노드의 뿌리는 노드의 개수와 같습니다.\n",
    "# 3개의 풍선이 존재하면, 2개의 경우로 나눠집니다.\n",
    "\n",
    "# 그 다음 노드의 경우는 다시 1개 줄어든 노드로 나눠지겠죠."
   ]
  },
  {
   "cell_type": "code",
   "execution_count": null,
   "id": "growing-morrison",
   "metadata": {},
   "outputs": [],
   "source": []
  },
  {
   "cell_type": "code",
   "execution_count": null,
   "id": "separated-security",
   "metadata": {},
   "outputs": [],
   "source": []
  },
  {
   "cell_type": "code",
   "execution_count": 44,
   "id": "structural-freight",
   "metadata": {},
   "outputs": [
    {
     "data": {
      "text/plain": [
       "10"
      ]
     },
     "execution_count": 44,
     "metadata": {},
     "output_type": "execute_result"
    }
   ],
   "source": [
    "len(b)"
   ]
  },
  {
   "cell_type": "code",
   "execution_count": 42,
   "id": "apparent-practitioner",
   "metadata": {},
   "outputs": [
    {
     "data": {
      "text/plain": [
       "[9, -5]"
      ]
     },
     "execution_count": 42,
     "metadata": {},
     "output_type": "execute_result"
    }
   ],
   "source": [
    "a[0:2]"
   ]
  },
  {
   "cell_type": "code",
   "execution_count": 43,
   "id": "sized-niger",
   "metadata": {},
   "outputs": [
    {
     "data": {
      "text/plain": [
       "[9, -5]"
      ]
     },
     "execution_count": 43,
     "metadata": {},
     "output_type": "execute_result"
    }
   ],
   "source": [
    "bomb(a, 1)"
   ]
  },
  {
   "cell_type": "code",
   "execution_count": 35,
   "id": "valid-realtor",
   "metadata": {},
   "outputs": [
    {
     "data": {
      "text/plain": [
       "[-1, -5]"
      ]
     },
     "execution_count": 35,
     "metadata": {},
     "output_type": "execute_result"
    }
   ],
   "source": [
    "a[1:3]"
   ]
  },
  {
   "cell_type": "code",
   "execution_count": 10,
   "id": "affected-syndrome",
   "metadata": {},
   "outputs": [
    {
     "name": "stdout",
     "output_type": "stream",
     "text": [
      "0 1\n",
      "1 2\n"
     ]
    }
   ],
   "source": [
    "for i in range(len(a) - 1):\n",
    "    print(i, i+1)"
   ]
  },
  {
   "cell_type": "code",
   "execution_count": null,
   "id": "modified-quarter",
   "metadata": {},
   "outputs": [],
   "source": []
  }
 ],
 "metadata": {
  "kernelspec": {
   "display_name": "Python 3",
   "language": "python",
   "name": "python3"
  },
  "language_info": {
   "codemirror_mode": {
    "name": "ipython",
    "version": 3
   },
   "file_extension": ".py",
   "mimetype": "text/x-python",
   "name": "python",
   "nbconvert_exporter": "python",
   "pygments_lexer": "ipython3",
   "version": "3.8.0"
  }
 },
 "nbformat": 4,
 "nbformat_minor": 5
}
