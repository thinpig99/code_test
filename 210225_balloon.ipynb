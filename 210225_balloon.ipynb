{
 "cells": [
  {
   "cell_type": "markdown",
   "id": "entertaining-structure",
   "metadata": {},
   "source": [
    "# 코딩 테스트 연습 > 풍선 터트리기"
   ]
  },
  {
   "cell_type": "markdown",
   "id": "dense-shepherd",
   "metadata": {},
   "source": [
    "## 문제 설명\n",
    "일렬로 나열된 n개의 풍선이 있습니다. 모든 풍선에는 서로 다른 숫자가 써져 있습니다. 당신은 다음 과정을 반복하면서 풍선들을 단 1개만 남을 때까지 계속 터트리려고 합니다.\n",
    "\n",
    "1. 임의의 인접한 두 풍선을 고른 뒤, 두 풍선 중 하나를 터트립니다.\n",
    "2. 터진 풍선으로 인해 풍선들 사이에 빈 공간이 생겼다면, 빈 공간이 없도록 풍선들을 중앙으로 밀착시킵니다.\n",
    "\n",
    "\n",
    "여기서 조건이 있습니다. 인접한 두 풍선 중에서 번호가 더 작은 풍선을 터트리는 행위는 최대 1번만 할 수 있습니다. 즉, 어떤 시점에서 인접한 두 풍선 중 번호가 더 작은 풍선을 터트렸다면, 그 이후에는 인접한 두 풍선을 고른 뒤 번호가 더 큰 풍선만을 터트릴 수 있습니다.\n",
    "\n",
    "당신은 어떤 풍선이 최후까지 남을 수 있는지 알아보고 싶습니다. 위에 서술된 조건대로 풍선을 터트리다 보면, 어떤 풍선은 최후까지 남을 수도 있지만, 어떤 풍선은 무슨 수를 쓰더라도 마지막까지 남기는 것이 불가능할 수도 있습니다.\n",
    "\n",
    "일렬로 나열된 풍선들의 번호가 담긴 배열 a가 주어집니다. 위에 서술된 규칙대로 풍선들을 1개만 남을 때까지 터트렸을 때 최후까지 남기는 것이 가능한 풍선들의 개수를 return 하도록 solution 함수를 완성해주세요."
   ]
  },
  {
   "cell_type": "markdown",
   "id": "starting-absorption",
   "metadata": {},
   "source": [
    "## 제한 사항\n",
    "- a의 길이는 1 이상 1,000,000 이하입니다.\n",
    "    - a[i]는 i+1 번째 풍선에 써진 숫자를 의미합니다.\n",
    "    - a의 모든 수는 -1,000,000,000 이상 1,000,000,000 이하인 정수입니다.\n",
    "    - a의 모든 수는 서로 다릅니다."
   ]
  },
  {
   "cell_type": "markdown",
   "id": "satisfied-consequence",
   "metadata": {},
   "source": [
    "## 입출력 예\n",
    "|a\t|result|\n",
    "|---|---|\n",
    "|[9,-1,-5]\t|3|\n",
    "|[-16,27,65,-2,58,-92,-71,-68,-61,-33]\t|6|"
   ]
  },
  {
   "cell_type": "markdown",
   "id": "based-hypothetical",
   "metadata": {},
   "source": [
    "## 입출력 예 설명\n",
    "### 입출력 예 #1\n",
    "\n",
    "- 첫 번째 풍선(9가 써진 풍선)을 최후까지 남기는 방법은 다음과 같습니다.\n",
    "    1. [9, -1, -5] 에서 -1, -5가 써진 풍선을 고른 뒤, -1이 써진 풍선(번호가 더 큰 것)을 터트립니다.\n",
    "    2. [9, -5] 에서 9, -5가 써진 풍선을 고른 뒤, -5가 써진 풍선(번호가 더 작은 것)을 터트립니다.\n",
    "- 두 번째 풍선(-1이 써진 풍선)을 최후까지 남기는 방법은 다음과 같습니다.\n",
    "    1. [9, -1, -5] 에서 9, -1이 써진 풍선을 고른 뒤, 9가 써진 풍선(번호가 더 큰 것)을 터트립니다.\n",
    "    2. [-1, -5] 에서 -1, -5가 써진 풍선을 고른 뒤, -5가 써진 풍선(번호가 더 작은 것)을 터트립니다.\n",
    "- 세 번째 풍선(-5가 써진 풍선)을 최후까지 남기는 방법은 다음과 같습니다.\n",
    "    1. [9, -1, -5] 에서 9, -1이 써진 풍선을 고른 뒤, 9가 써진 풍선(번호가 더 큰 것)을 터트립니다.\n",
    "    2. [-1, -5] 에서 -1, -5가 써진 풍선을 고른 뒤, -1이 써진 풍선(번호가 더 큰 것)을 터트립니다.\n",
    "- 3개의 풍선이 최후까지 남을 수 있으므로, 3을 return 해야 합니다.\n",
    "\n",
    "### 입출력 예 #2\n",
    "\n",
    "- 최후까지 남을 수 있는 풍선은 -16, -92, -71, -68, -61, -33이 써진 풍선으로 모두 6개입니다."
   ]
  },
  {
   "cell_type": "markdown",
   "id": "placed-reply",
   "metadata": {},
   "source": [
    "## 아이디어"
   ]
  },
  {
   "cell_type": "markdown",
   "id": "controlled-pearl",
   "metadata": {},
   "source": [
    "1. 자기보다 큰 수를 이길 수 있는 기회는 단 한 번뿐이므로 자신의 양쪽에 자신보다 작은 풍선이 있으면 살아남지 못한다.\n",
    "\n",
    "2. 가장 작은 친구를 기준으로 양쪽을 별도로 진행한다. 가장 작은 친구를 향해 달려간다.\n",
    "\n",
    "3. 맨 끝의 친구가 그 다음 친구보다 작다면 다음 친구는 죽는다. 왜냐, 이미 자신의 왼쪽이 자신보다 크고, 가장 큰 친구가 오른쪽에 있으니까.\n",
    "\n",
    "4. 근데 반대라면 그 다음친구가 이기고, 한 명이 살아남는다. 이런식으로 최소값까지 달린다."
   ]
  },
  {
   "cell_type": "code",
   "execution_count": 8,
   "id": "historical-ladder",
   "metadata": {},
   "outputs": [],
   "source": [
    "b = [-16, 27, 65, -2, 58, -92, -71, -68, -61, -33]"
   ]
  },
  {
   "cell_type": "code",
   "execution_count": 9,
   "id": "surrounded-highlight",
   "metadata": {
    "scrolled": true
   },
   "outputs": [
    {
     "name": "stdout",
     "output_type": "stream",
     "text": [
      "M is min(b):  -92\n",
      "first m is b[0]:  -16\n",
      "changed m is : -92\n",
      "answer is:  2\n",
      "first m is b[0]:  -33\n",
      "changed m is : -61\n",
      "answer is:  3\n",
      "changed m is : -68\n",
      "answer is:  4\n",
      "changed m is : -71\n",
      "answer is:  5\n",
      "changed m is : -92\n",
      "answer is:  6\n"
     ]
    }
   ],
   "source": [
    "answer = 1\n",
    "M = min(b)\n",
    "print('M is min(b): ', M)\n",
    "for _ in range(2): # 양쪽 두 번만 진행.\n",
    "    m = b[0]\n",
    "    print('first m is b[0]: ', m)\n",
    "    i = 1\n",
    "    while m != M: # 맨 끝 놈이 최소값과 같지 않으면 무한 루프, i 는 루프당 1개씩 증가\n",
    "        if m >= b[i]: # b[i] 가 끝놈보다 작으면 끝놈은 m이 된다.\n",
    "            m = b[i] \n",
    "            print(\"changed m is :\", m)\n",
    "            answer +=1 # 그리고 살아남은 친구 한 명 추가\n",
    "            print(\"answer is: \", answer)\n",
    "        i += 1\n",
    "    b.reverse() # reverse 해서 반대쪽을 한 번 더 한다."
   ]
  },
  {
   "cell_type": "markdown",
   "id": "protected-airline",
   "metadata": {},
   "source": [
    "## 실패한 아이디어들"
   ]
  },
  {
   "cell_type": "code",
   "execution_count": 2,
   "id": "hungarian-myanmar",
   "metadata": {},
   "outputs": [],
   "source": [
    "# 인접한 두 개의 풍선만을 고를 수 있다.\n",
    "# 무조건 두 개의 풍선 중에 값이 큰 풍선만 터뜨릴 수 있다.\n",
    "# 단 한 번, 더 작은 값의 풍선을 터뜨릴 수 있다."
   ]
  },
  {
   "cell_type": "code",
   "execution_count": 3,
   "id": "imposed-blood",
   "metadata": {},
   "outputs": [],
   "source": [
    "import numpy as np"
   ]
  },
  {
   "cell_type": "code",
   "execution_count": 4,
   "id": "spanish-grace",
   "metadata": {},
   "outputs": [],
   "source": [
    "import random as rd"
   ]
  },
  {
   "cell_type": "code",
   "execution_count": 5,
   "id": "cultural-energy",
   "metadata": {},
   "outputs": [],
   "source": [
    "def bomb(list_, start_idx):\n",
    "    \"\"\"\n",
    "    풍선 리스트를 받아서 지정한 인덱스와 그 우측으로 인접한 풍선에 대해 터뜨리고\n",
    "    다시 풍선 리스트로 넣어주는 함수\n",
    "    \n",
    "    인수\n",
    "    list_ : 풍선 리스트\n",
    "    start_idx: 풍선 시작점\n",
    "    \"\"\"  \n",
    "    temp = list_[start_idx:start_idx+2]\n",
    "    if temp[0] > temp[1]:\n",
    "        temp.pop(0)\n",
    "    else:\n",
    "        temp.pop()\n",
    "    list_[start_idx] = temp[0]\n",
    "    list_.pop(start_idx+1)\n",
    "\n",
    "    return list_"
   ]
  },
  {
   "cell_type": "code",
   "execution_count": 6,
   "id": "legislative-router",
   "metadata": {},
   "outputs": [
    {
     "name": "stdout",
     "output_type": "stream",
     "text": [
      "ranges:  3\n",
      "[-16, 27, 65, -2, -92, -71, -68, -61, -33]\n",
      "ranges:  2\n",
      "[-16, 27, -2, -92, -71, -68, -61, -33]\n",
      "ranges:  6\n",
      "[-16, 27, -2, -92, -71, -68, -61]\n",
      "ranges:  5\n",
      "[-16, 27, -2, -92, -71, -68]\n",
      "ranges:  4\n",
      "[-16, 27, -2, -92, -71]\n",
      "ranges:  3\n",
      "[-16, 27, -2, -92]\n",
      "ranges:  2\n",
      "[-16, 27, -92]\n"
     ]
    }
   ],
   "source": [
    "b = [-16, 27, 65, -2, 58, -92, -71, -68, -61, -33]\n",
    "for _ in range(len(b) - 3):\n",
    "    ranges = rd.randint(0, len(b)-2)\n",
    "    print(\"ranges: \", ranges)\n",
    "    bomb(b, ranges)\n",
    "    print(b)"
   ]
  },
  {
   "cell_type": "code",
   "execution_count": 11,
   "id": "solar-seventh",
   "metadata": {},
   "outputs": [
    {
     "name": "stdout",
     "output_type": "stream",
     "text": [
      "when i == 0, j is:  27\n",
      "left pool is :  [-16]\n",
      "left min number is:  -16\n",
      "right pool is :  [65, -2, 58, -92, -71, -68, -61, -33]\n",
      "right min number is:  -92\n",
      "when i == 1, j is:  65\n",
      "left pool is :  [-16, 27]\n",
      "left min number is:  -16\n",
      "right pool is :  [-2, 58, -92, -71, -68, -61, -33]\n",
      "right min number is:  -92\n",
      "when i == 2, j is:  -2\n",
      "left pool is :  [-16, 27, 65]\n",
      "left min number is:  -16\n",
      "right pool is :  [58, -92, -71, -68, -61, -33]\n",
      "right min number is:  -92\n",
      "when i == 3, j is:  58\n",
      "left pool is :  [-16, 27, 65, -2]\n",
      "left min number is:  -16\n",
      "right pool is :  [-92, -71, -68, -61, -33]\n",
      "right min number is:  -92\n",
      "when i == 4, j is:  -92\n",
      "left pool is :  [-16, 27, 65, -2, 58]\n",
      "left min number is:  -16\n",
      "right pool is :  [-71, -68, -61, -33]\n",
      "right min number is:  -71\n",
      "left < j:  True\n",
      "rigth < j:  True\n",
      "-92  is alive.\n",
      "when i == 5, j is:  -71\n",
      "left pool is :  [-16, 27, 65, -2, 58, -92]\n",
      "left min number is:  -92\n",
      "right pool is :  [-68, -61, -33]\n",
      "right min number is:  -68\n",
      "left < j:  False\n",
      "rigth < j:  True\n",
      "-71  is alive.\n",
      "when i == 6, j is:  -68\n",
      "left pool is :  [-16, 27, 65, -2, 58, -92, -71]\n",
      "left min number is:  -92\n",
      "right pool is :  [-61, -33]\n",
      "right min number is:  -61\n",
      "left < j:  False\n",
      "rigth < j:  True\n",
      "-68  is alive.\n",
      "when i == 7, j is:  -61\n",
      "left pool is :  [-16, 27, 65, -2, 58, -92, -71, -68]\n",
      "left min number is:  -92\n",
      "right pool is :  [-33]\n",
      "right min number is:  -33\n",
      "left < j:  False\n",
      "rigth < j:  True\n",
      "-61  is alive.\n"
     ]
    },
    {
     "data": {
      "text/plain": [
       "6"
      ]
     },
     "execution_count": 11,
     "metadata": {},
     "output_type": "execute_result"
    }
   ],
   "source": [
    "survivor = 2\n",
    "input_ = b\n",
    "enu_input = input_[1:-1]\n",
    "for i, j in enumerate(enu_input):\n",
    "\n",
    "    print(\"when i == {}, j is: \".format(i), j)\n",
    "    print(\"left pool is : \", input_[0:i+1])\n",
    "    print(\"left min number is: \", min(input_[0:i+1]))\n",
    "    print(\"right pool is : \", input_[i+2:])\n",
    "    print(\"right min number is: \", min(input_[i+2:]))\n",
    "\n",
    "    left = min(input_[0:i+1])\n",
    "    right = min(input_[i+2:])\n",
    "\n",
    "    if left > j or right > j:\n",
    "        print(\"left < j: \", left > j)\n",
    "        print(\"rigth < j: \", right > j)\n",
    "        print(j, \" is alive.\")\n",
    "        survivor += 1\n",
    "            \n",
    "survivor"
   ]
  },
  {
   "cell_type": "markdown",
   "id": "drawn-linux",
   "metadata": {},
   "source": [
    "추가 아이디어.\n",
    "\n",
    "1. 가장 작은 친구를 구한다.\n",
    "2. 가장 작은 친구를 기점으로 좌우 끝 친구들보다 큰 애들만 산다.\n",
    "3. 맨 끝 둘은 무조건 산다."
   ]
  },
  {
   "cell_type": "code",
   "execution_count": 13,
   "id": "composite-aluminum",
   "metadata": {},
   "outputs": [],
   "source": [
    "import numpy as np"
   ]
  },
  {
   "cell_type": "code",
   "execution_count": 14,
   "id": "iraqi-integration",
   "metadata": {},
   "outputs": [],
   "source": [
    "b = [-16, 27, 65, -2, 58, -92, -71, -68, -61, -33]"
   ]
  },
  {
   "cell_type": "code",
   "execution_count": 16,
   "id": "finnish-competition",
   "metadata": {},
   "outputs": [
    {
     "data": {
      "text/plain": [
       "5"
      ]
     },
     "execution_count": 16,
     "metadata": {},
     "output_type": "execute_result"
    }
   ],
   "source": [
    "min_idx = np.argmin(b)\n",
    "min_idx"
   ]
  },
  {
   "cell_type": "code",
   "execution_count": 17,
   "id": "economic-wildlife",
   "metadata": {},
   "outputs": [
    {
     "name": "stdout",
     "output_type": "stream",
     "text": [
      "[-16, 27, 65, -2, 58]\n",
      "[-71, -68, -61, -33]\n"
     ]
    }
   ],
   "source": [
    "lefts = b[:min_idx]\n",
    "print(lefts)\n",
    "rights = b[min_idx+1:]\n",
    "print(rights)"
   ]
  },
  {
   "cell_type": "code",
   "execution_count": 18,
   "id": "french-centre",
   "metadata": {},
   "outputs": [
    {
     "data": {
      "text/plain": [
       "(-16, -33)"
      ]
     },
     "execution_count": 18,
     "metadata": {},
     "output_type": "execute_result"
    }
   ],
   "source": [
    "b[0], b[len(b)-1]"
   ]
  },
  {
   "cell_type": "code",
   "execution_count": 19,
   "id": "blank-proof",
   "metadata": {},
   "outputs": [
    {
     "name": "stdout",
     "output_type": "stream",
     "text": [
      "[1 0 0 0 0]\n",
      "1\n"
     ]
    }
   ],
   "source": [
    "print(np.where(np.array(lefts) > b[0], 0, 1))\n",
    "print(np.where(np.array(lefts) > b[0], 0, 1).sum())"
   ]
  },
  {
   "cell_type": "code",
   "execution_count": 20,
   "id": "discrete-treatment",
   "metadata": {},
   "outputs": [
    {
     "name": "stdout",
     "output_type": "stream",
     "text": [
      "[1 1 1 1]\n",
      "4\n"
     ]
    }
   ],
   "source": [
    "print(np.where(np.array(rights) > b[len(b)-1], 0, 1))\n",
    "print(np.where(np.array(rights) > b[len(b)-1], 0, 1).sum())"
   ]
  },
  {
   "cell_type": "code",
   "execution_count": 21,
   "id": "musical-observer",
   "metadata": {},
   "outputs": [],
   "source": [
    "i = b"
   ]
  },
  {
   "cell_type": "code",
   "execution_count": 22,
   "id": "static-hawaiian",
   "metadata": {},
   "outputs": [
    {
     "data": {
      "text/plain": [
       "6"
      ]
     },
     "execution_count": 22,
     "metadata": {},
     "output_type": "execute_result"
    }
   ],
   "source": [
    "min_idx = np.argmin(i)\n",
    "\n",
    "lefts = np.array(i[:min_idx])\n",
    "rights = np.array(i[min_idx+1:])\n",
    "survivor = (1\n",
    "            + np.where(lefts > i[0], 0, 1).sum()\n",
    "            + np.where(rights > i[len(i)-1], 0, 1).sum()\n",
    "           )\n",
    "\n",
    "survivor"
   ]
  },
  {
   "cell_type": "markdown",
   "id": "million-addiction",
   "metadata": {},
   "source": [
    "추가 아이디어.\n",
    "\n",
    "두번째 아이디어에서 확 땡겨버리는 것은?"
   ]
  },
  {
   "cell_type": "code",
   "execution_count": 23,
   "id": "moderate-specific",
   "metadata": {},
   "outputs": [
    {
     "name": "stdout",
     "output_type": "stream",
     "text": [
      "[-16, 27, 65, -2, 58]\n",
      "[-71, -68, -61, -33]\n"
     ]
    }
   ],
   "source": [
    "import numpy as np\n",
    "mini = []\n",
    "mini.append(b[np.argmin(b)])\n",
    "left = b[:np.argmin(b)]\n",
    "print(left)\n",
    "right = b[np.argmin(b)+1:]\n",
    "print(right)"
   ]
  },
  {
   "cell_type": "code",
   "execution_count": 24,
   "id": "steady-election",
   "metadata": {},
   "outputs": [
    {
     "name": "stdout",
     "output_type": "stream",
     "text": [
      "[]\n",
      "[-68, -61, -33]\n"
     ]
    }
   ],
   "source": [
    "left_left = left[:np.argmin(left)]\n",
    "print(left_left)\n",
    "right_right = right[np.argmin(right)+1:]\n",
    "print(right_right)"
   ]
  },
  {
   "cell_type": "code",
   "execution_count": 25,
   "id": "pregnant-mathematics",
   "metadata": {},
   "outputs": [
    {
     "data": {
      "text/plain": [
       "[-92, [], [-68, -61, -33]]"
      ]
     },
     "execution_count": 25,
     "metadata": {},
     "output_type": "execute_result"
    }
   ],
   "source": [
    "mini.append(left_left)\n",
    "mini.append(right_right)\n",
    "mini"
   ]
  },
  {
   "cell_type": "code",
   "execution_count": 26,
   "id": "legitimate-weekly",
   "metadata": {},
   "outputs": [
    {
     "name": "stdout",
     "output_type": "stream",
     "text": [
      "when i == 0, j is:  27\n",
      "left pool is :  [-16]\n",
      "left min number is:  -16\n",
      "right pool is :  [65, -2, 58, -92, -71, -68, -61, -33]\n",
      "right min number is:  -92\n",
      "left < j:  False\n",
      "rigth < j:  False\n",
      "27  is alive.\n",
      "when i == 1, j is:  65\n",
      "left pool is :  [-16, 27]\n",
      "left min number is:  -16\n",
      "right pool is :  [-2, 58, -92, -71, -68, -61, -33]\n",
      "right min number is:  -92\n",
      "left < j:  False\n",
      "rigth < j:  False\n",
      "65  is alive.\n",
      "when i == 2, j is:  -2\n",
      "left pool is :  [-16, 27, 65]\n",
      "left min number is:  -16\n",
      "right pool is :  [58, -92, -71, -68, -61, -33]\n",
      "right min number is:  -92\n",
      "left < j:  False\n",
      "rigth < j:  False\n",
      "-2  is alive.\n",
      "when i == 3, j is:  58\n",
      "left pool is :  [-16, 27, 65, -2]\n",
      "left min number is:  -16\n",
      "right pool is :  [-92, -71, -68, -61, -33]\n",
      "right min number is:  -92\n",
      "left < j:  False\n",
      "rigth < j:  False\n",
      "58  is alive.\n",
      "when i == 4, j is:  -92\n",
      "left pool is :  [-16, 27, 65, -2, 58]\n",
      "left min number is:  -16\n",
      "right pool is :  [-71, -68, -61, -33]\n",
      "right min number is:  -71\n",
      "when i == 5, j is:  -71\n",
      "left pool is :  [-16, 27, 65, -2, 58, -92]\n",
      "left min number is:  -92\n",
      "right pool is :  [-68, -61, -33]\n",
      "right min number is:  -68\n",
      "when i == 6, j is:  -68\n",
      "left pool is :  [-16, 27, 65, -2, 58, -92, -71]\n",
      "left min number is:  -92\n",
      "right pool is :  [-61, -33]\n",
      "right min number is:  -61\n",
      "when i == 7, j is:  -61\n",
      "left pool is :  [-16, 27, 65, -2, 58, -92, -71, -68]\n",
      "left min number is:  -92\n",
      "right pool is :  [-33]\n",
      "right min number is:  -33\n"
     ]
    },
    {
     "data": {
      "text/plain": [
       "6"
      ]
     },
     "execution_count": 26,
     "metadata": {},
     "output_type": "execute_result"
    }
   ],
   "source": [
    "survivor = 2\n",
    "input_ = b\n",
    "enu_input = input_[1:-1]\n",
    "for i, j in enumerate(enu_input):\n",
    "\n",
    "    print(\"when i == {}, j is: \".format(i), j)\n",
    "    print(\"left pool is : \", input_[0:i+1])\n",
    "    print(\"left min number is: \", min(input_[0:i+1]))\n",
    "    print(\"right pool is : \", input_[i+2:])\n",
    "    print(\"right min number is: \", min(input_[i+2:]))\n",
    "\n",
    "    left = min(input_[0:i+1])\n",
    "    right = min(input_[i+2:])\n",
    "\n",
    "    if left < j and right < j:\n",
    "        print(\"left < j: \", left > j)\n",
    "        print(\"rigth < j: \", right > j)\n",
    "        print(j, \" is alive.\")\n",
    "    else:\n",
    "        survivor += 1\n",
    "            \n",
    "survivor"
   ]
  },
  {
   "cell_type": "markdown",
   "id": "focal-worse",
   "metadata": {},
   "source": [
    "지훈 아이디어"
   ]
  },
  {
   "cell_type": "code",
   "execution_count": 28,
   "id": "driven-ratio",
   "metadata": {},
   "outputs": [],
   "source": [
    "survivor = 2\n",
    "input_ = b\n",
    "enu_input = input_[1:-1]"
   ]
  },
  {
   "cell_type": "code",
   "execution_count": 42,
   "id": "expanded-syntax",
   "metadata": {},
   "outputs": [
    {
     "data": {
      "text/plain": [
       "9"
      ]
     },
     "execution_count": 42,
     "metadata": {},
     "output_type": "execute_result"
    }
   ],
   "source": [
    "len(input_)-1"
   ]
  },
  {
   "cell_type": "code",
   "execution_count": 55,
   "id": "confused-auckland",
   "metadata": {},
   "outputs": [
    {
     "name": "stdout",
     "output_type": "stream",
     "text": [
      "when i == 1, j is:  27\n",
      "left pool is :  [-16]\n",
      "right pool is :  [65, -2, 58, -92, -71, -68, -61, -33]\n",
      "[65, -2, 58, -92, -71, -68, -61, -33]\n",
      "65\n",
      "[65, -2, 58, -92, -71, -68, -61, -33]\n",
      "-2\n",
      "when i == 2, j is:  65\n",
      "left pool is :  [-16, 27]\n",
      "right pool is :  [-2, 58, -92, -71, -68, -61, -33]\n",
      "[-2, 58, -92, -71, -68, -61, -33]\n",
      "-2\n",
      "when i == 3, j is:  -2\n",
      "left pool is :  [-16, 27, 65]\n",
      "right pool is :  [58, -92, -71, -68, -61, -33]\n",
      "[58, -92, -71, -68, -61, -33]\n",
      "58\n",
      "[58, -92, -71, -68, -61, -33]\n",
      "-92\n",
      "when i == 4, j is:  58\n",
      "left pool is :  [-16, 27, 65, -2]\n",
      "right pool is :  [-92, -71, -68, -61, -33]\n",
      "[-92, -71, -68, -61, -33]\n",
      "-92\n",
      "when i == 5, j is:  -92\n",
      "left pool is :  [-16, 27, 65, -2, 58]\n",
      "right pool is :  [-71, -68, -61, -33]\n",
      "[-71, -68, -61, -33]\n",
      "-71\n",
      "[-71, -68, -61, -33]\n",
      "-68\n",
      "[-71, -68, -61, -33]\n",
      "-61\n",
      "[-71, -68, -61, -33]\n",
      "-33\n",
      "when i == 6, j is:  -71\n",
      "left pool is :  [-16, 27, 65, -2, 58, -92]\n",
      "right pool is :  [-68, -61, -33]\n",
      "[-68, -61, -33]\n",
      "-68\n",
      "[-68, -61, -33]\n",
      "-61\n",
      "[-68, -61, -33]\n",
      "-33\n",
      "when i == 7, j is:  -68\n",
      "left pool is :  [-16, 27, 65, -2, 58, -92, -71]\n",
      "right pool is :  [-61, -33]\n",
      "[-61, -33]\n",
      "-61\n",
      "[-61, -33]\n",
      "-33\n",
      "when i == 8, j is:  -61\n",
      "left pool is :  [-16, 27, 65, -2, 58, -92, -71, -68]\n",
      "right pool is :  [-33]\n",
      "[-33]\n",
      "-33\n"
     ]
    }
   ],
   "source": [
    "alive = []\n",
    "for i, j in enumerate(input_):\n",
    "    if i == 0:\n",
    "        alive.append(j)\n",
    "        continue\n",
    "    elif i == len(input_) - 1:\n",
    "        alive.append(j)\n",
    "        continue\n",
    "    else:\n",
    "        left = input_[0:i]\n",
    "        right = input_[i+1:]\n",
    "        print(\"when i == {}, j is: \".format(i), j)\n",
    "        print(\"left pool is : \", left)\n",
    "        print(\"right pool is : \", right)\n",
    "        \n",
    "        left_bool = False\n",
    "        right_bool = False\n",
    "        \n",
    "        # 왼쪽 비교 합시다.\n",
    "        for l in left:\n",
    "            if l < j:\n",
    "                left_bool = True\n",
    "                break\n",
    "        for r in right:\n",
    "            print(right)\n",
    "            print(r)\n",
    "            if r < j:\n",
    "                right_bool = True\n",
    "                break\n",
    "                \n",
    "        if left_bool == False or right_bool == False:\n",
    "            alive.append(j)\n",
    "        else:\n",
    "            pass"
   ]
  },
  {
   "cell_type": "code",
   "execution_count": 56,
   "id": "original-sudan",
   "metadata": {},
   "outputs": [
    {
     "data": {
      "text/plain": [
       "[-16, -92, -71, -68, -61, -33]"
      ]
     },
     "execution_count": 56,
     "metadata": {},
     "output_type": "execute_result"
    }
   ],
   "source": [
    "alive"
   ]
  },
  {
   "cell_type": "markdown",
   "id": "tribal-bacteria",
   "metadata": {},
   "source": [
    "지훈이의 2차 아이디어"
   ]
  },
  {
   "cell_type": "code",
   "execution_count": 64,
   "id": "intelligent-amendment",
   "metadata": {},
   "outputs": [
    {
     "data": {
      "text/plain": [
       "[-16, 27, 65, -2, 58, -92, -71, -68, -61, -33]"
      ]
     },
     "execution_count": 64,
     "metadata": {},
     "output_type": "execute_result"
    }
   ],
   "source": [
    "b"
   ]
  },
  {
   "cell_type": "code",
   "execution_count": 118,
   "id": "combined-session",
   "metadata": {},
   "outputs": [],
   "source": [
    "def left_append(list_, element_):\n",
    "    return element_ + list_"
   ]
  },
  {
   "cell_type": "code",
   "execution_count": 119,
   "id": "unnecessary-jewelry",
   "metadata": {},
   "outputs": [],
   "source": [
    "ele = [33]\n",
    "list_ = [22, 11, 0]"
   ]
  },
  {
   "cell_type": "code",
   "execution_count": 120,
   "id": "original-threshold",
   "metadata": {},
   "outputs": [
    {
     "data": {
      "text/plain": [
       "[33, 22, 11, 0]"
      ]
     },
     "execution_count": 120,
     "metadata": {},
     "output_type": "execute_result"
    }
   ],
   "source": [
    "left_append(list_, ele)"
   ]
  },
  {
   "cell_type": "code",
   "execution_count": 200,
   "id": "mature-visitor",
   "metadata": {},
   "outputs": [
    {
     "name": "stdout",
     "output_type": "stream",
     "text": [
      "[-16, -16, -16, -16, -16, -92, -92, -92, -92, -92]\n",
      "[-92, -92, -92, -92, -92, -92, -71, -68, -61, -33]\n"
     ]
    }
   ],
   "source": [
    "mid = b\n",
    "left = [mid[0]]\n",
    "right = [mid[-1]]\n",
    "\n",
    "for i in range(1, len(mid)):\n",
    "    left.append(min(left[-1], mid[i]))\n",
    "    right.insert(0, min(right[0], mid[-i-1])) \n",
    "        \n",
    "print(left)\n",
    "print(right)"
   ]
  },
  {
   "cell_type": "code",
   "execution_count": 157,
   "id": "vanilla-spirituality",
   "metadata": {},
   "outputs": [],
   "source": [
    "cnt = 0\n",
    "for i in range(len(mid)):\n",
    "    if mid[i] <= left[i] or mid[i] <= right[i]:\n",
    "        cnt+=1"
   ]
  },
  {
   "cell_type": "code",
   "execution_count": 158,
   "id": "naked-space",
   "metadata": {
    "scrolled": true
   },
   "outputs": [
    {
     "name": "stdout",
     "output_type": "stream",
     "text": [
      "[-16, -16, -16, -16, -16, -92, -92, -92, -92, -92]\n",
      "[-16, 27, 65, -2, 58, -92, -71, -68, -61, -33]\n",
      "[-92, -92, -92, -92, -92, -92, -71, -68, -61, -33]\n"
     ]
    }
   ],
   "source": [
    "print(left)\n",
    "print(mid)\n",
    "print(right)"
   ]
  },
  {
   "cell_type": "code",
   "execution_count": 174,
   "id": "hollow-appraisal",
   "metadata": {},
   "outputs": [],
   "source": [
    "left_arr = np.array(left)\n",
    "mid_arr = np.array(mid)\n",
    "right_arr = np.array(right)"
   ]
  },
  {
   "cell_type": "code",
   "execution_count": 176,
   "id": "geographic-visitor",
   "metadata": {},
   "outputs": [
    {
     "data": {
      "text/plain": [
       "6"
      ]
     },
     "execution_count": 176,
     "metadata": {},
     "output_type": "execute_result"
    }
   ],
   "source": [
    "int(np.where(np.where(mid_arr > left_arr, 0, 1) + np.where(mid_arr > right_arr, 0, 1) > 0, 1, 0).sum())"
   ]
  },
  {
   "cell_type": "code",
   "execution_count": 197,
   "id": "loaded-salon",
   "metadata": {},
   "outputs": [
    {
     "name": "stdout",
     "output_type": "stream",
     "text": [
      "[-16 -16 -16 -16 -16 -92 -92 -92 -92 -92]\n",
      "[-92 -92 -92 -92 -92 -92 -71 -68 -61 -33]\n"
     ]
    }
   ],
   "source": [
    "mid = np.array(b)\n",
    "left = np.array([mid[0]])\n",
    "right = np.array([mid[-1]])\n",
    "\n",
    "for i in range(1, len(mid)):\n",
    "    # 두개를 가져와야 합니다. 다만 새로운 것을 가져와야 합니다.\n",
    "    left = np.append(left, np.minimum(left[-1], mid[i]))\n",
    "    right = np.append(np.minimum(right[0], mid[-i-1]), right) \n",
    "        \n",
    "print(left)\n",
    "print(right)"
   ]
  },
  {
   "cell_type": "markdown",
   "id": "complete-plymouth",
   "metadata": {},
   "source": [
    "마지막 혜인 아이디어 디벨롭"
   ]
  },
  {
   "cell_type": "code",
   "execution_count": 220,
   "id": "identified-decrease",
   "metadata": {},
   "outputs": [
    {
     "name": "stdout",
     "output_type": "stream",
     "text": [
      "5 [6 7 8 9 0 3 1 4 2]\n"
     ]
    }
   ],
   "source": [
    "rank = np.argsort(b)[1:]\n",
    "max_ = np.argsort(b)[0]\n",
    "print(max_, rank)"
   ]
  },
  {
   "cell_type": "code",
   "execution_count": 256,
   "id": "architectural-symbol",
   "metadata": {},
   "outputs": [
    {
     "data": {
      "text/plain": [
       "[-16, 27, 65, -2, 58, -92, -71, -68, -61, -33]"
      ]
     },
     "execution_count": 256,
     "metadata": {},
     "output_type": "execute_result"
    }
   ],
   "source": [
    "mid = b\n",
    "left = mid[:max_]\n",
    "right = mid[max_:]\n",
    "\n",
    "left+right"
   ]
  },
  {
   "cell_type": "code",
   "execution_count": 277,
   "id": "impressed-theorem",
   "metadata": {},
   "outputs": [
    {
     "name": "stdout",
     "output_type": "stream",
     "text": [
      "[-16  27  65  -2  58 -71 -68 -61 -33]\n",
      "[-16  27  65  -2  58 -68 -61 -33]\n",
      "[-16  27  65  -2  58 -61 -33]\n",
      "[-16  27  65  -2  58 -33]\n",
      "[-33]\n"
     ]
    }
   ],
   "source": [
    "mid = b\n",
    "max_ = np.argsort(b)[0]\n",
    "cnt = 1\n",
    "\n",
    "for i in mid:\n",
    "    try:\n",
    "        temp = np.argsort(mid)\n",
    "        max_ = np.argsort(mid)[0]\n",
    "        if max_ > temp[1]:\n",
    "            mid = np.append(mid[:temp[1]], mid[max_:])\n",
    "            print(mid)\n",
    "            cnt+=1\n",
    "        else:\n",
    "            mid = np.append(mid[:max_], mid[temp[1]:])\n",
    "            print(mid)\n",
    "            cnt+=1\n",
    "    except:\n",
    "        break"
   ]
  },
  {
   "cell_type": "code",
   "execution_count": 207,
   "id": "sudden-skating",
   "metadata": {},
   "outputs": [
    {
     "name": "stdout",
     "output_type": "stream",
     "text": [
      "right_min:  -92\n",
      "left_minimum:  [-16, -16]\n",
      "27\n",
      "left_minimum:  [-16, -16, -16]\n",
      "65\n",
      "left_minimum:  [-16, -16, -16, -16]\n",
      "-2\n",
      "left_minimum:  [-16, -16, -16, -16, -16]\n",
      "58\n",
      "left_minimum:  [-16, -16, -16, -16, -16, -92]\n",
      "-92\n",
      "left_minimum:  [-16, -16, -16, -16, -16, -92, -92]\n",
      "-71\n",
      "left_minimum:  [-16, -16, -16, -16, -16, -92, -92, -92]\n",
      "-68\n",
      "left_minimum:  [-16, -16, -16, -16, -16, -92, -92, -92, -92]\n",
      "-61\n",
      "left_minimum:  [-16, -16, -16, -16, -16, -92, -92, -92, -92, -92]\n",
      "-33\n",
      "[-16, -16, -16, -16, -16, -92, -92, -92, -92, -92]\n",
      "[-33]\n"
     ]
    }
   ],
   "source": [
    "mid = b\n",
    "left = [mid[0]]\n",
    "right = [mid[-1]]\n",
    "right_min = min(mid[1:])\n",
    "print('right_min: ', right_min)\n",
    "for i in range(1, len(mid)):\n",
    "    left.append(min(left[-1], mid[i]))\n",
    "    print('left_minimum: ', left)\n",
    "    print(mid[i])\n",
    "    if mid[i+1] == right_min:\n",
    "        \n",
    "    \n",
    "    if mid[i] < left[-1] or mid[i] < right[]\n",
    "        \n",
    "print(left)\n",
    "print(right)"
   ]
  },
  {
   "cell_type": "code",
   "execution_count": 209,
   "id": "broadband-flood",
   "metadata": {
    "scrolled": true
   },
   "outputs": [
    {
     "data": {
      "text/plain": [
       "array([5, 6, 7, 8, 9, 0, 3, 1, 4, 2], dtype=int64)"
      ]
     },
     "execution_count": 209,
     "metadata": {},
     "output_type": "execute_result"
    }
   ],
   "source": [
    "np.argsort(b)"
   ]
  },
  {
   "cell_type": "code",
   "execution_count": 98,
   "id": "separate-neighborhood",
   "metadata": {},
   "outputs": [],
   "source": [
    "b = [-16, 27, 65, -2, 58, -92, -71, -68, -61, -33]"
   ]
  },
  {
   "cell_type": "code",
   "execution_count": 99,
   "id": "abstract-chemistry",
   "metadata": {},
   "outputs": [
    {
     "name": "stdout",
     "output_type": "stream",
     "text": [
      "rank is:  [5 6 7 8 9 0 3 1 4 2]\n",
      "max is:  5\n",
      "[nan, nan]\n",
      "cnt:  2\n",
      "mid:  [-16, 27, 65, -2, 58, nan, nan, -68, -61, -33]\n",
      "[nan, nan, nan]\n",
      "cnt:  3\n",
      "mid:  [-16, 27, 65, -2, 58, nan, nan, nan, -61, -33]\n",
      "[nan, nan, nan, nan]\n",
      "cnt:  4\n",
      "mid:  [-16, 27, 65, -2, 58, nan, nan, nan, nan, -33]\n",
      "[nan, nan, nan, nan, nan]\n",
      "cnt:  5\n",
      "mid:  [-16, 27, 65, -2, 58, nan, nan, nan, nan, nan]\n",
      "[nan, nan, nan, nan, nan]\n",
      "cnt:  6\n",
      "mid:  [-16, 27, 65, -2, 58, nan, nan, nan, nan, nan]\n",
      "[nan, nan, nan, nan, nan]\n",
      "cnt:  7\n",
      "mid:  [nan, nan, nan, nan, nan, nan, nan, nan, nan, nan]\n"
     ]
    }
   ],
   "source": [
    "mid = b\n",
    "cnt = 1\n",
    "rank = np.argsort(mid)\n",
    "print('rank is: ', rank)\n",
    "max_ = rank[0]\n",
    "print('max is: ', max_)\n",
    "nan = [np.nan] * len(mid)\n",
    "\n",
    "for i in rank:\n",
    "    try:\n",
    "        if max_ > i:\n",
    "            mid[i:max_] = nan[i:max_]\n",
    "            print(mid[i:max_])\n",
    "            cnt+=1\n",
    "        else:\n",
    "            mid[max_:i+2] = nan[max_:i+2]\n",
    "            print(mid[max_:i+2])\n",
    "            cnt+=1\n",
    "    except:\n",
    "        break\n",
    "        \n",
    "    print('cnt: ', cnt)\n",
    "    print('mid: ', mid)\n",
    "    if np.isnan(mid).sum() == len(mid):\n",
    "        break"
   ]
  },
  {
   "cell_type": "code",
   "execution_count": 100,
   "id": "coupled-crime",
   "metadata": {},
   "outputs": [
    {
     "data": {
      "text/plain": [
       "7"
      ]
     },
     "execution_count": 100,
     "metadata": {},
     "output_type": "execute_result"
    }
   ],
   "source": [
    "cnt"
   ]
  }
 ],
 "metadata": {
  "kernelspec": {
   "display_name": "wyatt38",
   "language": "python",
   "name": "wyatt38"
  },
  "language_info": {
   "codemirror_mode": {
    "name": "ipython",
    "version": 3
   },
   "file_extension": ".py",
   "mimetype": "text/x-python",
   "name": "python",
   "nbconvert_exporter": "python",
   "pygments_lexer": "ipython3",
   "version": "3.8.0"
  }
 },
 "nbformat": 4,
 "nbformat_minor": 5
}
