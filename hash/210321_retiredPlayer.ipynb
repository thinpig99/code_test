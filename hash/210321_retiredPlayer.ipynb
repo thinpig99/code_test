{
 "cells": [
  {
   "cell_type": "markdown",
   "id": "limiting-paint",
   "metadata": {},
   "source": [
    "# 코딩 테스트 > 해시 > 완주하지 못한 선수"
   ]
  },
  {
   "cell_type": "markdown",
   "id": "congressional-prince",
   "metadata": {},
   "source": [
    "## 문제 설명\n",
    "수많은 마라톤 선수들이 마라톤에 참여하였습니다. 단 한 명의 선수를 제외하고는 모든 선수가 마라톤을 완주하였습니다.\n",
    "\n",
    "마라톤에 참여한 선수들의 이름이 담긴 배열 participant와 완주한 선수들의 이름이 담긴 배열 completion이 주어질 때, 완주하지 못한 선수의 이름을 return 하도록 solution 함수를 작성해주세요."
   ]
  },
  {
   "cell_type": "markdown",
   "id": "figured-state",
   "metadata": {},
   "source": [
    "## 제한사항\n",
    "- 마라톤 경기에 참여한 선수의 수는 1명 이상 100,000명 이하입니다.\n",
    "- completion의 길이는 participant의 길이보다 1 작습니다.\n",
    "- 참가자의 이름은 1개 이상 20개 이하의 알파벳 소문자로 이루어져 있습니다.\n",
    "- 참가자 중에는 동명이인이 있을 수 있습니다."
   ]
  },
  {
   "cell_type": "markdown",
   "id": "decreased-diameter",
   "metadata": {},
   "source": [
    "## 입출력 예\n",
    "|participant\t|completion|\treturn|\n",
    "|---|---|---|\n",
    "|[\"leo\", \"kiki\", \"eden\"]|\t[\"eden\", \"kiki\"]|\t\"leo\"|\n",
    "|[\"marina\", \"josipa\", \"nikola\", \"vinko\", \"filipa\"]|\t[\"josipa\", \"filipa\", \"marina\", \"nikola\"]\t|\"vinko\"|\n",
    "|[\"mislav\", \"stanko\", \"mislav\", \"ana\"]|\t[\"stanko\", \"ana\", \"mislav\"]|\t\"mislav\"|"
   ]
  },
  {
   "cell_type": "markdown",
   "id": "amazing-religious",
   "metadata": {},
   "source": [
    "### 아이디어\n",
    "\n",
    "그냥 set으로 이너섹션해서 받으면 될 거 같은데...\n",
    "\n",
    "동명이인이 있습니다...\n",
    "\n",
    "해시가 뭔지 모르겠으니, 일단 도끼 만들어서 풀고 해설을 봐야겠습니다."
   ]
  },
  {
   "cell_type": "code",
   "execution_count": 27,
   "id": "favorite-cooler",
   "metadata": {},
   "outputs": [],
   "source": [
    "participant = [\"mislav\", \"stanko\", \"mislav\", \"ana\"]\n",
    "completion = [\"stanko\", \"ana\", \"mislav\"]"
   ]
  },
  {
   "cell_type": "code",
   "execution_count": 70,
   "id": "favorite-latex",
   "metadata": {},
   "outputs": [],
   "source": [
    "participant = [\"marina\", \"josipa\", \"nikola\", \"vinko\", \"filipa\", \"vinko\", \"josipa\"]\n",
    "completion = [\"josipa\", \"filipa\", \"marina\", \"nikola\", \"vinko\", \"josipa\"]"
   ]
  },
  {
   "cell_type": "code",
   "execution_count": 71,
   "id": "accepting-burner",
   "metadata": {},
   "outputs": [],
   "source": [
    "def solution(participant, completion):\n",
    "    #participant.sort()\n",
    "    #completion.sort()\n",
    "    \n",
    "    profile = {}\n",
    "    for i, part in enumerate(participant):\n",
    "        profile[i] = part\n",
    "    print(profile)\n",
    "    \n",
    "    comp_dict = {}\n",
    "    for j, comp in enumerate(completion):\n",
    "        for i, name in profile.items():\n",
    "            if name == comp:\n",
    "                comp_dict[i] = comp\n",
    "                break\n",
    "    print(comp_dict)            \n",
    "    diff = set(profile.keys()).difference(comp_dict.keys())\n",
    "    print(diff)\n",
    "    return profile[int(list(diff)[0])]"
   ]
  },
  {
   "cell_type": "code",
   "execution_count": 72,
   "id": "featured-spelling",
   "metadata": {
    "tags": []
   },
   "outputs": [
    {
     "name": "stdout",
     "output_type": "stream",
     "text": [
      "{0: 'marina', 1: 'josipa', 2: 'nikola', 3: 'vinko', 4: 'filipa', 5: 'vinko', 6: 'josipa'}\n",
      "{1: 'josipa', 4: 'filipa', 0: 'marina', 2: 'nikola', 3: 'vinko'}\n",
      "{5, 6}\n"
     ]
    },
    {
     "data": {
      "text/plain": [
       "'vinko'"
      ]
     },
     "execution_count": 72,
     "metadata": {},
     "output_type": "execute_result"
    }
   ],
   "source": [
    "solution(participant, completion)"
   ]
  },
  {
   "cell_type": "markdown",
   "id": "robust-terrorism",
   "metadata": {},
   "source": [
    "### 뉴 아이디어\n",
    "\n",
    "정렬을 해두고, 각각 뽑다가 다른 이름이 나오게 되면, 그 친구는 못 들어온 거 아냐?"
   ]
  },
  {
   "cell_type": "code",
   "execution_count": 73,
   "id": "continuing-money",
   "metadata": {},
   "outputs": [],
   "source": [
    "participant = [\"marina\", \"josipa\", \"nikola\", \"vinko\", \"filipa\", \"vinko\", \"josipa\"]\n",
    "completion = [\"josipa\", \"filipa\", \"marina\", \"nikola\", \"vinko\", \"josipa\"]"
   ]
  },
  {
   "cell_type": "code",
   "execution_count": 74,
   "id": "falling-eugene",
   "metadata": {},
   "outputs": [
    {
     "name": "stdout",
     "output_type": "stream",
     "text": [
      "['filipa', 'josipa', 'josipa', 'marina', 'nikola', 'vinko', 'vinko']\n",
      "['filipa', 'josipa', 'josipa', 'marina', 'nikola', 'vinko']\n"
     ]
    }
   ],
   "source": [
    "participant.sort()\n",
    "completion.sort()\n",
    "print(participant)\n",
    "print(completion)"
   ]
  },
  {
   "cell_type": "code",
   "execution_count": 84,
   "id": "correct-negative",
   "metadata": {},
   "outputs": [
    {
     "name": "stdout",
     "output_type": "stream",
     "text": [
      "P, C filipa filipa\n",
      "P, C josipa josipa\n",
      "P, C josipa josipa\n",
      "P, C marina marina\n",
      "P, C nikola nikola\n",
      "P, C vinko vinko\n"
     ]
    },
    {
     "data": {
      "text/plain": [
       "'vinko'"
      ]
     },
     "execution_count": 84,
     "metadata": {},
     "output_type": "execute_result"
    }
   ],
   "source": [
    "diff = []\n",
    "for p, c in zip(participant, completion):\n",
    "    print(\"P, C\", p, c)\n",
    "    if p != c:\n",
    "        diff.append(p)\n",
    "\n",
    "if not diff:\n",
    "    diff.append(participant[len(participant) - 1])\n",
    "    \n",
    "diff[0]"
   ]
  },
  {
   "cell_type": "code",
   "execution_count": 87,
   "id": "minimal-basement",
   "metadata": {},
   "outputs": [],
   "source": [
    "def solution(participant, completion):\n",
    "    participant.sort()\n",
    "    completion.sort()\n",
    "\n",
    "    diff = []\n",
    "    for p, c in zip(participant, completion):\n",
    "        if p != c:\n",
    "            diff.append(p)\n",
    "\n",
    "    if not diff:\n",
    "        diff.append(participant[len(participant) - 1])\n",
    "\n",
    "    \n",
    "    return diff[0]"
   ]
  },
  {
   "cell_type": "code",
   "execution_count": 88,
   "id": "herbal-disposition",
   "metadata": {
    "tags": []
   },
   "outputs": [
    {
     "data": {
      "text/plain": [
       "'vinko'"
      ]
     },
     "execution_count": 88,
     "metadata": {},
     "output_type": "execute_result"
    }
   ],
   "source": [
    "solution(participant, completion)"
   ]
  },
  {
   "cell_type": "markdown",
   "id": "funded-night",
   "metadata": {},
   "source": [
    "효율성까지 모두 통과했습니다."
   ]
  },
  {
   "cell_type": "markdown",
   "id": "meaning-currency",
   "metadata": {},
   "source": [
    "### 최고의 답변"
   ]
  },
  {
   "cell_type": "code",
   "execution_count": 92,
   "id": "bizarre-russia",
   "metadata": {},
   "outputs": [],
   "source": [
    "participant = [\"marina\", \"josipa\", \"nikola\", \"vinko\", \"filipa\", \"vinko\", \"josipa\"]\n",
    "completion = [\"josipa\", \"filipa\", \"marina\", \"nikola\", \"vinko\", \"josipa\"]"
   ]
  },
  {
   "cell_type": "code",
   "execution_count": 89,
   "id": "australian-browse",
   "metadata": {},
   "outputs": [],
   "source": [
    "import collections\n",
    "\n",
    "def solution(participant, completion):\n",
    "    answer = collections.Counter(participant) - collections.Counter(completion)\n",
    "    return list(answer.keys())[0]"
   ]
  },
  {
   "cell_type": "code",
   "execution_count": 93,
   "id": "expected-boring",
   "metadata": {},
   "outputs": [
    {
     "data": {
      "text/plain": [
       "['marina', 'josipa', 'nikola', 'vinko', 'filipa', 'vinko', 'josipa']"
      ]
     },
     "execution_count": 93,
     "metadata": {},
     "output_type": "execute_result"
    }
   ],
   "source": [
    "participant"
   ]
  },
  {
   "cell_type": "code",
   "execution_count": 94,
   "id": "champion-dryer",
   "metadata": {},
   "outputs": [
    {
     "data": {
      "text/plain": [
       "['josipa', 'filipa', 'marina', 'nikola', 'vinko', 'josipa']"
      ]
     },
     "execution_count": 94,
     "metadata": {},
     "output_type": "execute_result"
    }
   ],
   "source": [
    "completion"
   ]
  },
  {
   "cell_type": "code",
   "execution_count": 95,
   "id": "modern-yemen",
   "metadata": {},
   "outputs": [
    {
     "data": {
      "text/plain": [
       "Counter({'marina': 1, 'josipa': 2, 'nikola': 1, 'vinko': 2, 'filipa': 1})"
      ]
     },
     "execution_count": 95,
     "metadata": {},
     "output_type": "execute_result"
    }
   ],
   "source": [
    "collections.Counter(participant)"
   ]
  },
  {
   "cell_type": "code",
   "execution_count": 96,
   "id": "quarterly-column",
   "metadata": {},
   "outputs": [
    {
     "data": {
      "text/plain": [
       "Counter({'josipa': 2, 'filipa': 1, 'marina': 1, 'nikola': 1, 'vinko': 1})"
      ]
     },
     "execution_count": 96,
     "metadata": {},
     "output_type": "execute_result"
    }
   ],
   "source": [
    "collections.Counter(completion)"
   ]
  },
  {
   "cell_type": "code",
   "execution_count": 97,
   "id": "compressed-defeat",
   "metadata": {},
   "outputs": [
    {
     "data": {
      "text/plain": [
       "Counter({'vinko': 1})"
      ]
     },
     "execution_count": 97,
     "metadata": {},
     "output_type": "execute_result"
    }
   ],
   "source": [
    "collections.Counter(participant) - collections.Counter(completion)"
   ]
  },
  {
   "cell_type": "code",
   "execution_count": 101,
   "id": "magnetic-concern",
   "metadata": {},
   "outputs": [
    {
     "data": {
      "text/plain": [
       "'vinko'"
      ]
     },
     "execution_count": 101,
     "metadata": {},
     "output_type": "execute_result"
    }
   ],
   "source": [
    "list((collections.Counter(participant) - collections.Counter(completion)))[0]"
   ]
  },
  {
   "cell_type": "markdown",
   "id": "supposed-education",
   "metadata": {},
   "source": [
    "이런 것도 있었다."
   ]
  },
  {
   "cell_type": "code",
   "execution_count": 102,
   "id": "dedicated-desire",
   "metadata": {},
   "outputs": [],
   "source": [
    "def solution(participant, completion):\n",
    "    participant.sort()\n",
    "    completion.sort()\n",
    "    for p, c in zip(participant, completion):\n",
    "        if p != c:\n",
    "            return p\n",
    "    return participant[-1]"
   ]
  },
  {
   "cell_type": "code",
   "execution_count": null,
   "id": "alive-person",
   "metadata": {},
   "outputs": [],
   "source": []
  }
 ],
 "metadata": {
  "kernelspec": {
   "display_name": "Python 3",
   "language": "python",
   "name": "python3"
  },
  "language_info": {
   "codemirror_mode": {
    "name": "ipython",
    "version": 3
   },
   "file_extension": ".py",
   "mimetype": "text/x-python",
   "name": "python",
   "nbconvert_exporter": "python",
   "pygments_lexer": "ipython3",
   "version": "3.8.8"
  }
 },
 "nbformat": 4,
 "nbformat_minor": 5
}
