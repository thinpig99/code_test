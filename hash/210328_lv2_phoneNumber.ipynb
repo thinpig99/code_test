{
 "cells": [
  {
   "cell_type": "markdown",
   "id": "nervous-second",
   "metadata": {},
   "source": [
    "# 코딩 테스트 연습 > 해시 > 전화번호 목록"
   ]
  },
  {
   "cell_type": "markdown",
   "id": "gorgeous-alexander",
   "metadata": {},
   "source": [
    "## 문제 설명\n",
    "전화번호부에 적힌 전화번호 중, 한 번호가 다른 번호의 접두어인 경우가 있는지 확인하려 합니다.\n",
    "전화번호가 다음과 같을 경우, 구조대 전화번호는 영석이의 전화번호의 접두사입니다.\n",
    "\n",
    "- 구조대 : 119\n",
    "- 박준영 : 97 674 223\n",
    "- 지영석 : 11 9552 4421\n",
    "\n",
    "전화번호부에 적힌 전화번호를 담은 배열 phone_book 이 solution 함수의 매개변수로 주어질 때, 어떤 번호가 다른 번호의 접두어인 경우가 있으면 false를 그렇지 않으면 true를 return 하도록 solution 함수를 작성해주세요."
   ]
  },
  {
   "cell_type": "markdown",
   "id": "dominant-anniversary",
   "metadata": {},
   "source": [
    "## 제한 사항\n",
    "- phone_book의 길이는 1 이상 1,000,000 이하입니다.\n",
    "- 각 전화번호의 길이는 1 이상 20 이하입니다.\n",
    "- 같은 전화번호가 중복해서 들어있지 않습니다."
   ]
  },
  {
   "cell_type": "markdown",
   "id": "failing-halifax",
   "metadata": {},
   "source": [
    "## 입출력 예제\n",
    "|phone_book|\treturn|\n",
    "|---|---|\n",
    "|[\"119\", \"97674223\", \"1195524421\"]|\tfalse|\n",
    "|[\"123\",\"456\",\"789\"]|\ttrue|\n",
    "|[\"12\",\"123\",\"1235\",\"567\",\"88\"]|\tfalse|"
   ]
  },
  {
   "cell_type": "code",
   "execution_count": 1,
   "id": "interior-visibility",
   "metadata": {},
   "outputs": [],
   "source": [
    "def solution(phone_book):\n",
    "    answer = True\n",
    "    return answer"
   ]
  },
  {
   "cell_type": "code",
   "execution_count": 2,
   "id": "subjective-tenant",
   "metadata": {},
   "outputs": [],
   "source": [
    "import re"
   ]
  },
  {
   "cell_type": "code",
   "execution_count": 3,
   "id": "touched-option",
   "metadata": {},
   "outputs": [],
   "source": [
    "#phone_book = [\"12\",\"123\",\"1235\",\"567\",\"88\"]\n",
    "#phone_book = [\"123\",\"456\",\"789\"]\n",
    "phone_book = [\"83\", \"119\", \"97674223\", \"1185524421\", \"835\"]"
   ]
  },
  {
   "cell_type": "code",
   "execution_count": 40,
   "id": "historical-superior",
   "metadata": {},
   "outputs": [],
   "source": [
    "def solution(phone_book):\n",
    "    phone_book.sort()\n",
    "\n",
    "    same = []\n",
    "    for i, p in enumerate(phone_book):\n",
    "        leng = len(p)\n",
    "        for j in range(i+1, len(phone_book)):\n",
    "            if phone_book[i] == phone_book[j][:leng]:\n",
    "                same.append(False)\n",
    "                break\n",
    "        if same:\n",
    "            break\n",
    "    if not same:\n",
    "        same.append(True)\n",
    "        \n",
    "    return same[0]"
   ]
  },
  {
   "cell_type": "markdown",
   "id": "missing-australia",
   "metadata": {},
   "source": [
    "정확성은 통과하지만 효율성을 통과하지 못합니다. 그럴 것 같았습니다."
   ]
  },
  {
   "cell_type": "code",
   "execution_count": 41,
   "id": "structural-surveillance",
   "metadata": {},
   "outputs": [],
   "source": [
    "phone_book.sort()\n",
    "p_dic = {}\n",
    "for i, p in enumerate(phone_book):\n",
    "    p_dic[i] = p"
   ]
  },
  {
   "cell_type": "code",
   "execution_count": 42,
   "id": "straight-breast",
   "metadata": {},
   "outputs": [
    {
     "name": "stdout",
     "output_type": "stream",
     "text": [
      "i, p, leng:  0 119 3\n",
      "119 1195524421 119\n",
      "break\n"
     ]
    }
   ],
   "source": [
    "same = []\n",
    "for i, p in p_dic.items():\n",
    "    leng = len(p)\n",
    "    print(\"i, p, leng: \", i, p, leng)\n",
    "    for j in range(i+1, len(p_dic)):\n",
    "        print(p_dic[i], p_dic[j], p_dic[j][:leng])\n",
    "        if p_dic[i] == p_dic[j][:leng]:\n",
    "            print('break')\n",
    "            same.append(False)\n",
    "            break\n",
    "    if same:\n",
    "        break\n",
    "if not same:\n",
    "    same.append(True)"
   ]
  },
  {
   "cell_type": "markdown",
   "id": "opened-movement",
   "metadata": {},
   "source": [
    "더 오래 걸립니다."
   ]
  },
  {
   "cell_type": "markdown",
   "id": "controlling-convenience",
   "metadata": {},
   "source": [
    "큰 것을 가지고 비교를 하게 되면 어떨까?"
   ]
  },
  {
   "cell_type": "code",
   "execution_count": 43,
   "id": "fuzzy-jonathan",
   "metadata": {},
   "outputs": [],
   "source": [
    "def solution(phone_book):\n",
    "    phone_book.sort(reverse=True)\n",
    "\n",
    "    same = []\n",
    "    for i, p in enumerate(phone_book):\n",
    "        for j in range(i+1, len(phone_book)):\n",
    "            if phone_book[i][:len(phone_book[j])] == phone_book[j]:\n",
    "                same.append(False)\n",
    "                break\n",
    "        if same:\n",
    "            break\n",
    "    if not same:\n",
    "        same.append(True)\n",
    "        \n",
    "    return same[0]"
   ]
  },
  {
   "cell_type": "code",
   "execution_count": 44,
   "id": "infectious-stake",
   "metadata": {},
   "outputs": [
    {
     "data": {
      "text/plain": [
       "False"
      ]
     },
     "execution_count": 44,
     "metadata": {},
     "output_type": "execute_result"
    }
   ],
   "source": [
    "solution(phone_book)"
   ]
  },
  {
   "cell_type": "markdown",
   "id": "painful-mattress",
   "metadata": {},
   "source": [
    "그래도 시간초과입니다."
   ]
  },
  {
   "cell_type": "markdown",
   "id": "muslim-guatemala",
   "metadata": {},
   "source": [
    "해시에 값을 저장하는 것입니다. 그러면 비교를 하지 않더라도 for문 한 번으로 됩니다."
   ]
  },
  {
   "cell_type": "code",
   "execution_count": null,
   "id": "close-pioneer",
   "metadata": {},
   "outputs": [],
   "source": [
    "def solution(phone_book):\n",
    "    phone_book.sort()\n",
    "\n",
    "    same = True\n",
    "    for i, p in enumerate(phone_book):\n",
    "        leng = len(p)\n",
    "        for j in range(i+1, len(phone_book)):\n",
    "            if phone_book[i] == phone_book[j][:leng]:\n",
    "                same = False\n",
    "                break\n",
    "        if same == False:\n",
    "            break\n",
    "    return same"
   ]
  },
  {
   "cell_type": "code",
   "execution_count": 130,
   "id": "ranking-tiffany",
   "metadata": {},
   "outputs": [
    {
     "name": "stdout",
     "output_type": "stream",
     "text": [
      "['83', '119', '835', '97674223', '1185524421']\n",
      "**************************************************\n",
      "P:  83\n",
      "J:  119\n",
      "J:  835\n"
     ]
    }
   ],
   "source": [
    "from collections import defaultdict\n",
    "phone_book.sort(key = lambda x: len(x))\n",
    "print(phone_book)\n",
    "same = True\n",
    "for i, p in enumerate(phone_book):\n",
    "    p_dic = defaultdict(int)\n",
    "    print(\"*\"*50)\n",
    "    print(\"P: \", p)\n",
    "    leng = len(p)\n",
    "    p_dic[p] += 1\n",
    "    for j in phone_book[i+1:]:\n",
    "        print(\"J: \", j)\n",
    "        p_dic[j[:leng]] += 1\n",
    "        if p_dic[p] > 1:\n",
    "            same = False\n",
    "            break\n",
    "    if p_dic[p] > 1:\n",
    "        break"
   ]
  },
  {
   "cell_type": "code",
   "execution_count": 127,
   "id": "focal-agenda",
   "metadata": {},
   "outputs": [
    {
     "data": {
      "text/plain": [
       "False"
      ]
     },
     "execution_count": 127,
     "metadata": {},
     "output_type": "execute_result"
    }
   ],
   "source": [
    "same"
   ]
  },
  {
   "cell_type": "markdown",
   "id": "tight-pharmacy",
   "metadata": {},
   "source": [
    "dict에 모두 저장하고, 다시 불러와서 비교 한다면?"
   ]
  },
  {
   "cell_type": "code",
   "execution_count": 151,
   "id": "generic-thompson",
   "metadata": {},
   "outputs": [
    {
     "name": "stdout",
     "output_type": "stream",
     "text": [
      "['456', '789']\n",
      "['123', '789']\n",
      "['123', '456']\n"
     ]
    }
   ],
   "source": [
    "from collections import Counter\n",
    "p_dic = Counter(phone_book)\n",
    "p_dic\n",
    "\n",
    "for k, v in p_dic.items():\n",
    "    leng = len(k)\n",
    "    k_list = [x[:leng] for x in p_dic.keys()]\n",
    "    k_list.remove(k)\n",
    "    print(k_list)\n",
    "    if k in k_list:\n",
    "        print(\"break\")\n",
    "        break"
   ]
  },
  {
   "cell_type": "markdown",
   "id": "fatty-humidity",
   "metadata": {},
   "source": [
    "그래도 시간 초과입니다."
   ]
  },
  {
   "cell_type": "code",
   "execution_count": 173,
   "id": "pregnant-biology",
   "metadata": {},
   "outputs": [
    {
     "data": {
      "text/plain": [
       "['83', '119', '97674223', '1185524421', '835']"
      ]
     },
     "execution_count": 173,
     "metadata": {},
     "output_type": "execute_result"
    }
   ],
   "source": [
    "phone_book"
   ]
  },
  {
   "cell_type": "code",
   "execution_count": 164,
   "id": "numerical-customer",
   "metadata": {},
   "outputs": [],
   "source": [
    "dic = {}\n",
    "for i in phone_book:\n",
    "    dic[i] = len(i)"
   ]
  },
  {
   "cell_type": "code",
   "execution_count": 169,
   "id": "reduced-folks",
   "metadata": {},
   "outputs": [],
   "source": [
    "minn =min(dic.values())"
   ]
  },
  {
   "cell_type": "code",
   "execution_count": 172,
   "id": "global-showcase",
   "metadata": {},
   "outputs": [
    {
     "name": "stdout",
     "output_type": "stream",
     "text": [
      "83\n",
      "11\n",
      "97\n",
      "11\n",
      "83\n"
     ]
    }
   ],
   "source": [
    "for k in dic.keys():\n",
    "    print(k[:minn])"
   ]
  },
  {
   "cell_type": "markdown",
   "id": "verified-patrick",
   "metadata": {},
   "source": [
    "미친 사람들이 많습니다. 천재적인 코드를 소개합니다. str.startswith() 입니다."
   ]
  },
  {
   "cell_type": "code",
   "execution_count": null,
   "id": "proprietary-aquarium",
   "metadata": {},
   "outputs": [],
   "source": [
    "def solution(phone_book):\n",
    "    same = True\n",
    "    pb = sorted(phone_book)\n",
    "    for i, j in zip(pb, pb[1:]):\n",
    "        if j.startswith(i) == True:\n",
    "            same = False\n",
    "            break\n",
    "    return same"
   ]
  },
  {
   "cell_type": "code",
   "execution_count": 20,
   "id": "quantitative-oxygen",
   "metadata": {},
   "outputs": [
    {
     "data": {
      "text/plain": [
       "True"
      ]
     },
     "execution_count": 20,
     "metadata": {},
     "output_type": "execute_result"
    }
   ],
   "source": [
    "solution(phone_book)"
   ]
  },
  {
   "cell_type": "code",
   "execution_count": null,
   "id": "front-superintendent",
   "metadata": {},
   "outputs": [],
   "source": []
  }
 ],
 "metadata": {
  "kernelspec": {
   "display_name": "Python 3",
   "language": "python",
   "name": "python3"
  },
  "language_info": {
   "codemirror_mode": {
    "name": "ipython",
    "version": 3
   },
   "file_extension": ".py",
   "mimetype": "text/x-python",
   "name": "python",
   "nbconvert_exporter": "python",
   "pygments_lexer": "ipython3",
   "version": "3.8.8"
  }
 },
 "nbformat": 4,
 "nbformat_minor": 5
}
