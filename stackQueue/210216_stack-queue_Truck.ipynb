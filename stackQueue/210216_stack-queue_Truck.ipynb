{
 "cells": [
  {
   "cell_type": "markdown",
   "metadata": {},
   "source": [
    "# 코딩테스트 연습 > 스택,큐 > 다리를 지나는 트럭"
   ]
  },
  {
   "cell_type": "markdown",
   "metadata": {},
   "source": [
    "본 문제의 저작권은 주식회사 프로그래머스에 있습니다. 문제를 풀고 싶으시다면 해당 회사의 웹사이트로 가시면 됩니다."
   ]
  },
  {
   "cell_type": "markdown",
   "metadata": {},
   "source": [
    "## 문제 설명\n",
    "트럭 여러 대가 강을 가로지르는 일 차선 다리를 정해진 순으로 건너려 합니다. 모든 트럭이 다리를 건너려면 최소 몇 초가 걸리는지 알아내야 합니다. 트럭은 1초에 1만큼 움직이며, 다리 길이는 bridge_length이고 다리는 무게 weight까지 견딥니다.\n",
    "※ 트럭이 다리에 완전히 오르지 않은 경우, 이 트럭의 무게는 고려하지 않습니다.\n",
    "\n",
    "예를 들어, 길이가 2이고 10kg 무게를 견디는 다리가 있습니다. 무게가 [7, 4, 5, 6]kg인 트럭이 순서대로 최단 시간 안에 다리를 건너려면 다음과 같이 건너야 합니다."
   ]
  },
  {
   "cell_type": "markdown",
   "metadata": {},
   "source": [
    "|경과 시간|다리를 지난 트럭|다리를 건너는 트럭|대기 트럭|\n",
    "|---|---|---|---|\n",
    "|0|[]|[]|[7,4,5,6]|\n",
    "|1~2|[]|[7]|[4,5,6]|\n",
    "|3|[7]|[4]|[5,6]|\n",
    "|4|[7]|[4,5]|[6]|\n",
    "|5|[7,4]|[5]|[6]|\n",
    "|6~7|[7,4,5]|[6]|[]|\n",
    "|8|[7,4,5,6]|[]|[]|"
   ]
  },
  {
   "cell_type": "markdown",
   "metadata": {},
   "source": [
    "따라서, 모든 트럭이 다리를 지나려면 최소 8초가 걸립니다.\n",
    "\n",
    "solution 함수의 매개변수로 다리 길이 bridge_length, 다리가 견딜 수 있는 무게 weight, 트럭별 무게 truck_weights가 주어집니다. 이때 모든 트럭이 다리를 건너려면 최소 몇 초가 걸리는지 return 하도록 solution 함수를 완성하세요."
   ]
  },
  {
   "cell_type": "markdown",
   "metadata": {},
   "source": [
    "## 제한 조건\n",
    "- bridge_length는 1 이상 10,000 이하입니다.\n",
    "- weight는 1 이상 10,000 이하입니다.\n",
    "- truck_weights의 길이는 1 이상 10,000 이하입니다.\n",
    "- 모든 트럭의 무게는 1 이상 weight 이하입니다."
   ]
  },
  {
   "cell_type": "markdown",
   "metadata": {},
   "source": [
    "## 입출력 예\n",
    "|bridge_length|weight|truck_weights|return|\n",
    "|---|---|---|---|\n",
    "|2|10|[7,4,5,6]|8|\n",
    "|100|100|[10]|101|\n",
    "|100|100|[10,10,10,10,10,10,10,10,10,10]|110|"
   ]
  },
  {
   "cell_type": "markdown",
   "metadata": {},
   "source": [
    "### 아이디어"
   ]
  },
  {
   "cell_type": "markdown",
   "metadata": {},
   "source": [
    "단순무식하게 트럭을 하나씩 다리 위에 올려서 비교해가면서 전진 시킬 것입니다.\n",
    "\n",
    "뎈을 활용해서 로테이션을 돌리면서 새로 들어오는 트럭과 다리 위의 트럭들의 무게를 비교해서 올립니다.\n",
    "\n",
    "더 이상 다리에 새로운 트럭이 올라가지 못하면 한 번에 잡아 당겨서 loop를 줄입니다."
   ]
  },
  {
   "cell_type": "code",
   "execution_count": 1,
   "metadata": {},
   "outputs": [],
   "source": [
    "import numpy as np\n",
    "from collections import deque"
   ]
  },
  {
   "cell_type": "code",
   "execution_count": 215,
   "metadata": {},
   "outputs": [],
   "source": [
    "length = 7\n",
    "weight = 25\n",
    "trucks = [9,3,20,17,5,3,4,7,2,10]\n",
    "return_ = 110"
   ]
  },
  {
   "cell_type": "markdown",
   "metadata": {},
   "source": [
    "무게가 0인 트럭은 없을테니, 빈 자리를 0이라고 하자.\n",
    "\n",
    "트럭을 덱으로 묶은 뒤, 하나씩 다리 위에 올리는 것이다. 바로 "
   ]
  },
  {
   "cell_type": "code",
   "execution_count": 216,
   "metadata": {},
   "outputs": [],
   "source": [
    "trucks = deque(trucks)"
   ]
  },
  {
   "cell_type": "code",
   "execution_count": 217,
   "metadata": {},
   "outputs": [],
   "source": [
    "bridge = deque(np.zeros(length))\n",
    "bridge[length - 1] = 1"
   ]
  },
  {
   "cell_type": "code",
   "execution_count": 218,
   "metadata": {},
   "outputs": [],
   "source": [
    "cnt = 0"
   ]
  },
  {
   "cell_type": "code",
   "execution_count": 219,
   "metadata": {},
   "outputs": [
    {
     "name": "stdout",
     "output_type": "stream",
     "text": [
      "trucks deque([9, 3, 20, 17, 5, 3, 4, 7, 2, 10])\n",
      "bridge deque([0.0, 0.0, 0.0, 0.0, 0.0, 0.0, 1])\n",
      "cnt 0\n"
     ]
    }
   ],
   "source": [
    "print('trucks', trucks)\n",
    "print('bridge', bridge)\n",
    "print('cnt', cnt)"
   ]
  },
  {
   "cell_type": "code",
   "execution_count": 220,
   "metadata": {
    "scrolled": false
   },
   "outputs": [
    {
     "name": "stdout",
     "output_type": "stream",
     "text": [
      "trucks deque([3, 20, 17, 5, 3, 4, 7, 2, 10, 0])\n",
      "bridge deque([9, 0.0, 0.0, 0.0, 0.0, 0.0, 0.0])\n",
      "cnt 1\n",
      "--------------------------------------------------------------------------------\n",
      "trucks deque([20, 17, 5, 3, 4, 7, 2, 10, 0, 0])\n",
      "bridge deque([3, 9, 0.0, 0.0, 0.0, 0.0, 0.0])\n",
      "cnt 2\n",
      "--------------------------------------------------------------------------------\n",
      "       bridge deque([0, 3, 9, 0.0, 0.0, 0.0, 0.0])\n",
      "       location (array([1, 2], dtype=int64),)\n",
      "trucks deque([20, 17, 5, 3, 4, 7, 2, 10, 0, 0])\n",
      "bridge deque([0.0, 0.0, 0.0, 0.0, 0, 3, 9])\n",
      "cnt 7\n",
      "--------------------------------------------------------------------------------\n",
      "trucks deque([17, 5, 3, 4, 7, 2, 10, 0, 0, 0])\n",
      "bridge deque([20, 0.0, 0.0, 0.0, 0.0, 0, 3])\n",
      "cnt 8\n",
      "--------------------------------------------------------------------------------\n",
      "       bridge deque([0, 20, 0.0, 0.0, 0.0, 0.0, 0])\n",
      "       location (array([1], dtype=int64),)\n",
      "trucks deque([17, 5, 3, 4, 7, 2, 10, 0, 0, 0])\n",
      "bridge deque([0.0, 0.0, 0.0, 0.0, 0, 0, 20])\n",
      "cnt 14\n",
      "--------------------------------------------------------------------------------\n",
      "trucks deque([5, 3, 4, 7, 2, 10, 0, 0, 0, 0])\n",
      "bridge deque([17, 0.0, 0.0, 0.0, 0.0, 0, 0])\n",
      "cnt 15\n",
      "--------------------------------------------------------------------------------\n",
      "trucks deque([3, 4, 7, 2, 10, 0, 0, 0, 0, 0])\n",
      "bridge deque([5, 17, 0.0, 0.0, 0.0, 0.0, 0])\n",
      "cnt 16\n",
      "--------------------------------------------------------------------------------\n",
      "trucks deque([4, 7, 2, 10, 0, 0, 0, 0, 0, 0])\n",
      "bridge deque([3, 5, 17, 0.0, 0.0, 0.0, 0.0])\n",
      "cnt 17\n",
      "--------------------------------------------------------------------------------\n",
      "       bridge deque([0, 3, 5, 17, 0.0, 0.0, 0.0])\n",
      "       location (array([1, 2, 3], dtype=int64),)\n",
      "trucks deque([4, 7, 2, 10, 0, 0, 0, 0, 0, 0])\n",
      "bridge deque([0.0, 0.0, 0.0, 0, 3, 5, 17])\n",
      "cnt 21\n",
      "--------------------------------------------------------------------------------\n",
      "trucks deque([7, 2, 10, 0, 0, 0, 0, 0, 0, 0])\n",
      "bridge deque([4, 0.0, 0.0, 0.0, 0, 3, 5])\n",
      "cnt 22\n",
      "--------------------------------------------------------------------------------\n",
      "trucks deque([2, 10, 0, 0, 0, 0, 0, 0, 0, 0])\n",
      "bridge deque([7, 4, 0.0, 0.0, 0.0, 0, 3])\n",
      "cnt 23\n",
      "--------------------------------------------------------------------------------\n",
      "trucks deque([10, 0, 0, 0, 0, 0, 0, 0, 0, 0])\n",
      "bridge deque([2, 7, 4, 0.0, 0.0, 0.0, 0])\n",
      "cnt 24\n",
      "--------------------------------------------------------------------------------\n",
      "trucks deque([0, 0, 0, 0, 0, 0, 0, 0, 0, 0])\n",
      "bridge deque([10, 2, 7, 4, 0.0, 0.0, 0.0])\n",
      "cnt 25\n",
      "--------------------------------------------------------------------------------\n",
      "       bridge deque([0, 10, 2, 7, 4, 0.0, 0.0])\n",
      "       location (array([1, 2, 3, 4], dtype=int64),)\n",
      "trucks deque([0, 0, 0, 0, 0, 0, 0, 0, 0, 0])\n",
      "bridge deque([0.0, 0.0, 0, 10, 2, 7, 4])\n",
      "cnt 28\n",
      "--------------------------------------------------------------------------------\n",
      "trucks deque([0, 0, 0, 0, 0, 0, 0, 0, 0, 0])\n",
      "bridge deque([0, 0.0, 0.0, 0, 10, 2, 7])\n",
      "cnt 29\n",
      "--------------------------------------------------------------------------------\n",
      "trucks deque([0, 0, 0, 0, 0, 0, 0, 0, 0, 0])\n",
      "bridge deque([0, 0, 0.0, 0.0, 0, 10, 2])\n",
      "cnt 30\n",
      "--------------------------------------------------------------------------------\n",
      "trucks deque([0, 0, 0, 0, 0, 0, 0, 0, 0, 0])\n",
      "bridge deque([0, 0, 0, 0.0, 0.0, 0, 10])\n",
      "cnt 31\n",
      "--------------------------------------------------------------------------------\n",
      "       bridge deque([0, 0, 0, 0, 0.0, 0.0, 0])\n",
      "       location (array([], dtype=int64),)\n",
      "trucks deque([0, 0, 0, 0, 0, 0, 0, 0, 0, 0])\n",
      "bridge deque([0, 0, 0, 0, 0.0, 0.0, 0])\n",
      "cnt 32\n",
      "--------------------------------------------------------------------------------\n"
     ]
    }
   ],
   "source": [
    "while np.array(bridge).sum() != 0.: #트럭이 전부 다리 위에 오른 상태에서, 다리 위의 무게 합이 0이 되면 멈춘다.\n",
    "    \n",
    "    # 맨 끝에 트럭을 올리느냐 안 올리느냐 결정하는 코드다.\n",
    "    if (np.array(bridge).sum() - bridge[length-1])+ trucks[0] <= weight:\n",
    "        # 다음에 나갈 트럭의 무게를 뺀 다리 위에 있는 무게와 대기 1번 트럭의 무게를 합쳐도 웨이트 보다 작다면\n",
    "        bridge.rotate(1) # 한칸씩 전진하고\n",
    "        bridge[0] = trucks.popleft() # 대기 1번 트럭을 트럭스에서 빼고, 브릿지 0번에 넣어준다.\n",
    "        trucks.append(0)\n",
    "\n",
    "    else: # 무게가 초과한다면\n",
    "        bridge.rotate(1) # 한칸씩 전진하고\n",
    "        bridge[0] = 0 # 빈 칸을 넣어준다.\n",
    "    \n",
    "    cnt+=1\n",
    "    \n",
    "    # 양끝단이 둘 다 0이라면...맨 앞 놈이 나가기 전에는 뒤 트럭이 들어오지 못한다는 뜻입니다. 이걸 당겨버립시다. 그럼 시간초과 타파.\n",
    "    try:\n",
    "        if bridge[0] == 0 and bridge[length -1] == 0: # 다리의 양 끝단이 0이면\n",
    "            # 확 당겨야 하는데. 일단 0이 아닌 위치를 찾자\n",
    "            loc = np.where(np.array(bridge) > 0)\n",
    "            print('       bridge', bridge)\n",
    "            print('       location', np.where(np.array(bridge) > 0))\n",
    "\n",
    "            # 다리의 길이에서 가장 앞에 있는 차의 인덱스를 빼준다.\n",
    "            empty = length - int(loc[0][-1:])\n",
    "\n",
    "            bridge.rotate(empty - 1) # 어차피 앞에도 0이니 5번을 돌려준다. 급발진.\n",
    "\n",
    "            # 한 번에 당겨줬으니 다 더해준다.\n",
    "            cnt += (empty - 1)\n",
    "    except:\n",
    "        pass\n",
    "        \n",
    "    \n",
    "    print('trucks', trucks)\n",
    "    print('bridge', bridge)\n",
    "    print('cnt', cnt)\n",
    "    print('-'*80)"
   ]
  }
 ],
 "metadata": {
  "kernelspec": {
   "display_name": "Python 3",
   "language": "python",
   "name": "python3"
  },
  "language_info": {
   "codemirror_mode": {
    "name": "ipython",
    "version": 3
   },
   "file_extension": ".py",
   "mimetype": "text/x-python",
   "name": "python",
   "nbconvert_exporter": "python",
   "pygments_lexer": "ipython3",
   "version": "3.7.7"
  }
 },
 "nbformat": 4,
 "nbformat_minor": 4
}
