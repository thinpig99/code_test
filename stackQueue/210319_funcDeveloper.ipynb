{
 "cells": [
  {
   "cell_type": "markdown",
   "id": "occupied-fence",
   "metadata": {},
   "source": [
    "# 코딩 테스트 > 스택, 큐 > 기능개발"
   ]
  },
  {
   "cell_type": "markdown",
   "id": "foster-perspective",
   "metadata": {},
   "source": [
    "## 문제 설명\n",
    "프로그래머스 팀에서는 기능 개선 작업을 수행 중입니다. 각 기능은 진도가 100%일 때 서비스에 반영할 수 있습니다.\n",
    "\n",
    "또, 각 기능의 개발속도는 모두 다르기 때문에 뒤에 있는 기능이 앞에 있는 기능보다 먼저 개발될 수 있고, 이때 뒤에 있는 기능은 앞에 있는 기능이 배포될 때 함께 배포됩니다.\n",
    "\n",
    "먼저 배포되어야 하는 순서대로 작업의 진도가 적힌 정수 배열 progresses와 각 작업의 개발 속도가 적힌 정수 배열 speeds가 주어질 때 각 배포마다 몇 개의 기능이 배포되는지를 return 하도록 solution 함수를 완성하세요."
   ]
  },
  {
   "cell_type": "markdown",
   "id": "economic-meter",
   "metadata": {},
   "source": [
    "## 제한 사항\n",
    "- 작업의 개수(progresses, speeds배열의 길이)는 100개 이하입니다.\n",
    "- 작업 진도는 100 미만의 자연수입니다.\n",
    "- 작업 속도는 100 이하의 자연수입니다.\n",
    "- 배포는 하루에 한 번만 할 수 있으며, 하루의 끝에 이루어진다고 가정합니다. 예를 들어 진도율이 95%인 작업의 개발 속도가 하루에 4%라면 배포는 2일 뒤에 이루어집니다."
   ]
  },
  {
   "cell_type": "markdown",
   "id": "collected-terror",
   "metadata": {},
   "source": [
    "## 입출력 예\n",
    "|progresses\t|speeds\t|return|\n",
    "|---|---|---|\n",
    "|[93, 30, 55]|\t[1, 30, 5]\t|[2, 1]|\n",
    "|[95, 90, 99, 99, 80, 99]|\t[1, 1, 1, 1, 1, 1]|\t[1, 3, 2]|"
   ]
  },
  {
   "cell_type": "markdown",
   "id": "rental-juice",
   "metadata": {},
   "source": [
    "## 입출력 예 설명\n",
    "### 입출력 예 #1\n",
    "- 첫 번째 기능은 93% 완료되어 있고 하루에 1%씩 작업이 가능하므로 7일간 작업 후 배포가 가능합니다.\n",
    "- 두 번째 기능은 30%가 완료되어 있고 하루에 30%씩 작업이 가능하므로 3일간 작업 후 배포가 가능합니다. 하지만 이전 첫 번째 기능이 아직 완성된 상태가 아니기 때문에 첫 번째 기능이 배포되는 7일째 배포됩니다.\n",
    "- 세 번째 기능은 55%가 완료되어 있고 하루에 5%씩 작업이 가능하므로 9일간 작업 후 배포가 가능합니다.\n",
    "\n",
    "따라서 7일째에 2개의 기능, 9일째에 1개의 기능이 배포됩니다.\n",
    "\n",
    "### 입출력 예 #2\n",
    "- 모든 기능이 하루에 1%씩 작업이 가능하므로, 작업이 끝나기까지 남은 일수는 각각 5일, 10일, 1일, 1일, 20일, 1일입니다. 어떤 기능이 먼저 완성되었더라도 앞에 있는 모든 기능이 완성되지 않으면 배포가 불가능합니다.\n",
    "\n",
    "따라서 5일째에 1개의 기능, 10일째에 3개의 기능, 20일째에 2개의 기능이 배포됩니다."
   ]
  },
  {
   "cell_type": "code",
   "execution_count": 1,
   "id": "facial-harvey",
   "metadata": {},
   "outputs": [],
   "source": [
    "def solution(progresses, speeds):\n",
    "    answer = []\n",
    "    return answer"
   ]
  },
  {
   "cell_type": "code",
   "execution_count": 27,
   "id": "manufactured-colombia",
   "metadata": {},
   "outputs": [],
   "source": [
    "progresses = [95, 90, 99, 99, 80, 99]\n",
    "speeds = [1, 1, 1, 1, 1, 1]\n",
    "return_ = [1, 3, 2]"
   ]
  },
  {
   "cell_type": "markdown",
   "id": "signed-version",
   "metadata": {},
   "source": [
    "### 아이디어\n",
    "\n",
    "progresses 를 두고, 스피드를 올려서 맨 앞이 100이 될 때가지 본다.\n",
    "\n",
    "100이 되면 그 뒤에 있는 100들을 차례대로 전부 뺀다.\n",
    "speeds도 같이 뺀다.\n",
    "빠져나간 애들을 센다.\n",
    "\n",
    "반복한다."
   ]
  },
  {
   "cell_type": "code",
   "execution_count": 64,
   "id": "authentic-surveillance",
   "metadata": {},
   "outputs": [],
   "source": [
    "import numpy as np\n",
    "\n",
    "pro = [95, 90, 99, 99, 80, 99]\n",
    "spe = [1, 1, 1, 1, 1, 1]"
   ]
  },
  {
   "cell_type": "code",
   "execution_count": 65,
   "id": "narrow-alarm",
   "metadata": {},
   "outputs": [
    {
     "name": "stdout",
     "output_type": "stream",
     "text": [
      "start_pro:  [95, 90, 99, 99, 80, 99]\n",
      "start_spe:  [1, 1, 1, 1, 1, 1]\n",
      "now_pro:  [96, 91, 100, 100, 81, 100]\n",
      "now_spe:  [1, 1, 1, 1, 1, 1]\n",
      "now_pro:  [97, 92, 101, 101, 82, 101]\n",
      "now_spe:  [1, 1, 1, 1, 1, 1]\n",
      "now_pro:  [98, 93, 102, 102, 83, 102]\n",
      "now_spe:  [1, 1, 1, 1, 1, 1]\n",
      "now_pro:  [99, 94, 103, 103, 84, 103]\n",
      "now_spe:  [1, 1, 1, 1, 1, 1]\n",
      "now_pro:  [100, 95, 104, 104, 85, 104]\n",
      "now_spe:  [1, 1, 1, 1, 1, 1]\n",
      "first >= 100\n",
      "count + 1\n",
      "now_pro:  [95, 104, 104, 85, 104]\n",
      "now_spe:  [1, 1, 1, 1, 1]\n",
      "now_pro:  [96, 105, 105, 86, 105]\n",
      "now_spe:  [1, 1, 1, 1, 1]\n",
      "now_pro:  [97, 106, 106, 87, 106]\n",
      "now_spe:  [1, 1, 1, 1, 1]\n",
      "now_pro:  [98, 107, 107, 88, 107]\n",
      "now_spe:  [1, 1, 1, 1, 1]\n",
      "now_pro:  [99, 108, 108, 89, 108]\n",
      "now_spe:  [1, 1, 1, 1, 1]\n",
      "now_pro:  [100, 109, 109, 90, 109]\n",
      "now_spe:  [1, 1, 1, 1, 1]\n",
      "first >= 100\n",
      "count + 1\n",
      "now_pro:  [109, 109, 90, 109]\n",
      "now_spe:  [1, 1, 1, 1]\n",
      "next >= 100\n",
      "count + 1\n",
      "now_pro:  [109, 90, 109]\n",
      "now_spe:  [1, 1, 1]\n",
      "next >= 100\n",
      "count + 1\n",
      "now_pro:  [90, 109]\n",
      "now_spe:  [1, 1]\n",
      "now_pro:  [91, 110]\n",
      "now_spe:  [1, 1]\n",
      "now_pro:  [92, 111]\n",
      "now_spe:  [1, 1]\n",
      "now_pro:  [93, 112]\n",
      "now_spe:  [1, 1]\n",
      "now_pro:  [94, 113]\n",
      "now_spe:  [1, 1]\n",
      "now_pro:  [95, 114]\n",
      "now_spe:  [1, 1]\n",
      "now_pro:  [96, 115]\n",
      "now_spe:  [1, 1]\n",
      "now_pro:  [97, 116]\n",
      "now_spe:  [1, 1]\n",
      "now_pro:  [98, 117]\n",
      "now_spe:  [1, 1]\n",
      "now_pro:  [99, 118]\n",
      "now_spe:  [1, 1]\n",
      "now_pro:  [100, 119]\n",
      "now_spe:  [1, 1]\n",
      "first >= 100\n",
      "count + 1\n",
      "now_pro:  [119]\n",
      "now_spe:  [1]\n",
      "next >= 100\n",
      "count + 1\n",
      "now_pro:  []\n",
      "now_spe:  []\n"
     ]
    }
   ],
   "source": [
    "return_ = []\n",
    "count = 0\n",
    "\n",
    "print(\"start_pro: \", pro)\n",
    "print(\"start_spe: \", spe)\n",
    "\n",
    "while pro:\n",
    "    pro = list(np.sum([pro, spe], axis=0))\n",
    "    print(\"now_pro: \", pro)\n",
    "    print(\"now_spe: \", spe)\n",
    "    if pro[0] >= 100:\n",
    "        print(\"first >= 100\")\n",
    "        pro.pop(0)\n",
    "        spe.pop(0)\n",
    "        count += 1\n",
    "        print(\"count + 1\")\n",
    "        print(\"now_pro: \", pro)\n",
    "        print(\"now_spe: \", spe)\n",
    "        \n",
    "        try:\n",
    "            while pro[0] >= 100:\n",
    "                print(\"next >= 100\")\n",
    "                pro.pop(0)\n",
    "                spe.pop(0)\n",
    "                count += 1\n",
    "                print(\"count + 1\")\n",
    "                print(\"now_pro: \", pro)\n",
    "                print(\"now_spe: \", spe)    \n",
    "\n",
    "            return_.append(count)\n",
    "            count = 0\n",
    "        except:\n",
    "            return_.append(count)\n",
    "            count = 0\n",
    "    else:\n",
    "        pass"
   ]
  },
  {
   "cell_type": "code",
   "execution_count": 66,
   "id": "informed-heating",
   "metadata": {},
   "outputs": [
    {
     "data": {
      "text/plain": [
       "[1, 3, 2]"
      ]
     },
     "execution_count": 66,
     "metadata": {},
     "output_type": "execute_result"
    }
   ],
   "source": [
    "return_"
   ]
  },
  {
   "cell_type": "code",
   "execution_count": null,
   "id": "divine-qualification",
   "metadata": {},
   "outputs": [],
   "source": []
  }
 ],
 "metadata": {
  "kernelspec": {
   "display_name": "Python 3",
   "language": "python",
   "name": "python3"
  },
  "language_info": {
   "codemirror_mode": {
    "name": "ipython",
    "version": 3
   },
   "file_extension": ".py",
   "mimetype": "text/x-python",
   "name": "python",
   "nbconvert_exporter": "python",
   "pygments_lexer": "ipython3",
   "version": "3.8.8"
  }
 },
 "nbformat": 4,
 "nbformat_minor": 5
}
